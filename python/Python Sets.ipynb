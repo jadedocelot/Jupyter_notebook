{
 "cells": [
  {
   "cell_type": "markdown",
   "metadata": {},
   "source": [
    "### Python Sets \n",
    "\n",
    "A set is a collection which is unordered and unindexed. \n",
    "\n",
    "In Python sets are written with curly brackets"
   ]
  },
  {
   "cell_type": "code",
   "execution_count": 7,
   "metadata": {},
   "outputs": [
    {
     "name": "stdout",
     "output_type": "stream",
     "text": [
      "{'1.Edgar', '2.Dan', '4.Alex', '3.Ben'}\n",
      "<class 'set'>\n"
     ]
    }
   ],
   "source": [
    "thisIsSet = {\"1.Edgar\",\"2.Dan\",\"3.Ben\",\"4.Alex\"}\n",
    "\n",
    "print(thisIsSet)\n",
    "print(type(thisIsSet))"
   ]
  },
  {
   "cell_type": "markdown",
   "metadata": {},
   "source": [
    "As you can see in the example above, the set is not in order.\n",
    "\n",
    "In the example below weh have a TUPLE, which as you can see it is in order"
   ]
  },
  {
   "cell_type": "code",
   "execution_count": 5,
   "metadata": {},
   "outputs": [
    {
     "name": "stdout",
     "output_type": "stream",
     "text": [
      "('1.Edgar', '2.Dan', '3.Ben', '4.Alex')\n",
      "<class 'tuple'>\n"
     ]
    }
   ],
   "source": [
    "thisList = (\"1.Edgar\",\"2.Dan\",\"3.Ben\",\"4.Alex\")\n",
    "\n",
    "print(thisList)\n",
    "print(type(thisList))"
   ]
  },
  {
   "cell_type": "markdown",
   "metadata": {},
   "source": [
    "### Access Items\n",
    "\n",
    "You cannot access items in a set by reffering to an index (why?), since sets are unordered the items has no index.\n",
    "\n",
    "But you can loop through the set items using a (for) loop, or ask if a specified value us present in a set, by using the (in) key "
   ]
  },
  {
   "cell_type": "code",
   "execution_count": 14,
   "metadata": {},
   "outputs": [
    {
     "ename": "TypeError",
     "evalue": "'set' object is not subscriptable",
     "output_type": "error",
     "traceback": [
      "\u001b[0;31m---------------------------------------------------------------------------\u001b[0m",
      "\u001b[0;31mTypeError\u001b[0m                                 Traceback (most recent call last)",
      "\u001b[0;32m<ipython-input-14-4d8593df4267>\u001b[0m in \u001b[0;36m<module>\u001b[0;34m\u001b[0m\n\u001b[1;32m      1\u001b[0m \u001b[0mthisIsSet\u001b[0m \u001b[0;34m=\u001b[0m \u001b[0;34m{\u001b[0m\u001b[0;34m\"1.Edgar\"\u001b[0m\u001b[0;34m,\u001b[0m\u001b[0;34m\"2.Dan\"\u001b[0m\u001b[0;34m,\u001b[0m\u001b[0;34m\"3.Ben\"\u001b[0m\u001b[0;34m,\u001b[0m\u001b[0;34m\"4.Alex\"\u001b[0m\u001b[0;34m}\u001b[0m\u001b[0;34m\u001b[0m\u001b[0;34m\u001b[0m\u001b[0m\n\u001b[1;32m      2\u001b[0m \u001b[0;34m\u001b[0m\u001b[0m\n\u001b[0;32m----> 3\u001b[0;31m \u001b[0mprint\u001b[0m\u001b[0;34m(\u001b[0m\u001b[0mthisIsSet\u001b[0m\u001b[0;34m[\u001b[0m\u001b[0;36m0\u001b[0m\u001b[0;34m]\u001b[0m\u001b[0;34m)\u001b[0m\u001b[0;34m\u001b[0m\u001b[0;34m\u001b[0m\u001b[0m\n\u001b[0m",
      "\u001b[0;31mTypeError\u001b[0m: 'set' object is not subscriptable"
     ]
    }
   ],
   "source": [
    "thisIsSet = {\"1.Edgar\",\"2.Dan\",\"3.Ben\",\"4.Alex\"}\n",
    "\n",
    "print(thisIsSet[0]) "
   ]
  },
  {
   "cell_type": "markdown",
   "metadata": {},
   "source": [
    "As you can see in the example above, we get an error message when attempting to locate the index position of a set\n",
    "\n",
    "Now lets try this once more but with the (for) loop, This will output our SET in order"
   ]
  },
  {
   "cell_type": "code",
   "execution_count": 20,
   "metadata": {},
   "outputs": [
    {
     "name": "stdout",
     "output_type": "stream",
     "text": [
      "1.Edgar\n",
      "2.Dan\n",
      "4.Alex\n",
      "3.Ben\n"
     ]
    }
   ],
   "source": [
    "thisIsSet = {\"1.Edgar\",\"2.Dan\",\"3.Ben\",\"4.Alex\"}\n",
    "\n",
    "for x in thisIsSet:\n",
    "    print(x)"
   ]
  },
  {
   "cell_type": "markdown",
   "metadata": {},
   "source": [
    "Using the (in) keyword will allow us to see if a value is within a SET"
   ]
  },
  {
   "cell_type": "code",
   "execution_count": 19,
   "metadata": {},
   "outputs": [
    {
     "name": "stdout",
     "output_type": "stream",
     "text": [
      "True\n"
     ]
    }
   ],
   "source": [
    "thisIsSet = {\"1.Edgar\",\"2.Dan\",\"3.Ben\",\"4.Alex\"}\n",
    "\n",
    "print(\"1.Edgar\" in thisIsSet )"
   ]
  },
  {
   "cell_type": "markdown",
   "metadata": {},
   "source": [
    "### Change Items\n",
    "\n",
    "Once a set is created, you cannot change it items, but you can add new items (but you can turn it into a list then change it) \n",
    "\n",
    "To add one item to a set use the add() method\n",
    "\n",
    "To add more than one item to a set use the update() method "
   ]
  },
  {
   "cell_type": "code",
   "execution_count": 24,
   "metadata": {},
   "outputs": [
    {
     "name": "stdout",
     "output_type": "stream",
     "text": [
      "{1, 2, 3, 4, 5, 6}\n"
     ]
    }
   ],
   "source": [
    "thisSet = {1,2,3,4,5}\n",
    "thisSet.add(6)\n",
    "\n",
    "print(thisSet)"
   ]
  },
  {
   "cell_type": "markdown",
   "metadata": {},
   "source": [
    "In the example below we are adding multiple values using the update() method"
   ]
  },
  {
   "cell_type": "code",
   "execution_count": 43,
   "metadata": {},
   "outputs": [
    {
     "name": "stdout",
     "output_type": "stream",
     "text": [
      "{'tim', 'edgar', 'monica', 'mike', 'jane', 'bob', 'alex'}\n"
     ]
    }
   ],
   "source": [
    "thisSet = {\"tim\",\"alex\",\"jane\",\"mike\"}\n",
    "\n",
    "thisSet.update([\"monica\",\"edgar\",\"bob\"])\n",
    "\n",
    "print(thisSet)"
   ]
  },
  {
   "cell_type": "markdown",
   "metadata": {},
   "source": [
    "Get the Length of a set \n",
    "\n",
    "Using the len() method "
   ]
  },
  {
   "cell_type": "code",
   "execution_count": 27,
   "metadata": {},
   "outputs": [
    {
     "name": "stdout",
     "output_type": "stream",
     "text": [
      "4\n"
     ]
    }
   ],
   "source": [
    "thisSet = {\"tim\",\"alex\",\"jane\",\"mike\"}\n",
    "\n",
    "print(len(set(thisSet)))"
   ]
  },
  {
   "cell_type": "markdown",
   "metadata": {},
   "source": [
    "### Remove item\n",
    "\n",
    "To remove an item in a setm use the remove(), or the discard() method"
   ]
  },
  {
   "cell_type": "code",
   "execution_count": 29,
   "metadata": {},
   "outputs": [
    {
     "name": "stdout",
     "output_type": "stream",
     "text": [
      "{'jane', 'tim', 'mike'}\n"
     ]
    }
   ],
   "source": [
    "thisSet = {\"tim\",\"alex\",\"jane\",\"mike\"}\n",
    "\n",
    "thisSet.remove(\"alex\")\n",
    "\n",
    "print(thisSet)"
   ]
  },
  {
   "cell_type": "code",
   "execution_count": 32,
   "metadata": {},
   "outputs": [
    {
     "name": "stdout",
     "output_type": "stream",
     "text": [
      "{'jane', 'alex', 'tim'}\n"
     ]
    }
   ],
   "source": [
    "thisSet = {\"tim\",\"alex\",\"jane\",\"mike\"}\n",
    "\n",
    "thisSet.discard(\"mike\")\n",
    "\n",
    "print(thisSet)"
   ]
  },
  {
   "cell_type": "markdown",
   "metadata": {},
   "source": [
    "You can also use the pop() method to remove an item, but this method will remove the LAST item. Remeber that a SET is unordered, so you will not know what item will get removed."
   ]
  },
  {
   "cell_type": "code",
   "execution_count": 34,
   "metadata": {},
   "outputs": [
    {
     "name": "stdout",
     "output_type": "stream",
     "text": [
      "{'alex', 'tim', 'mike'}\n"
     ]
    }
   ],
   "source": [
    "thisSet = {\"tim\",\"alex\",\"jane\",\"mike\"}\n",
    "\n",
    "thisSet.pop() # who will be removed from the list? the world will never know, at least not until the deed has been done.\n",
    "\n",
    "print(thisSet) ## in this one jane was popped off, sorry about that jane"
   ]
  },
  {
   "cell_type": "markdown",
   "metadata": {},
   "source": [
    "NOTE FOR THE READER/USER: The set and pop() method can be used to create a guessing game, russian rhoe"
   ]
  },
  {
   "cell_type": "markdown",
   "metadata": {},
   "source": [
    "### The clear() method is used to empty a set"
   ]
  },
  {
   "cell_type": "code",
   "execution_count": 42,
   "metadata": {},
   "outputs": [
    {
     "name": "stdout",
     "output_type": "stream",
     "text": [
      "set()\n"
     ]
    }
   ],
   "source": [
    "thisSet = {\"tim\",\"alex\",\"jane\",\"mike\"}\n",
    "\n",
    "thisSet.clear()\n",
    "\n",
    "print(thisSet)"
   ]
  },
  {
   "cell_type": "markdown",
   "metadata": {},
   "source": [
    "### We will now be using the <span style=\"color:red\">del</span> keyword to delete the set completetly"
   ]
  },
  {
   "cell_type": "code",
   "execution_count": 50,
   "metadata": {},
   "outputs": [
    {
     "ename": "NameError",
     "evalue": "name 'thisSet' is not defined",
     "output_type": "error",
     "traceback": [
      "\u001b[0;31m---------------------------------------------------------------------------\u001b[0m",
      "\u001b[0;31mNameError\u001b[0m                                 Traceback (most recent call last)",
      "\u001b[0;32m<ipython-input-50-4c5b69e3827b>\u001b[0m in \u001b[0;36m<module>\u001b[0;34m\u001b[0m\n\u001b[1;32m      3\u001b[0m \u001b[0;32mdel\u001b[0m \u001b[0mthisSet\u001b[0m\u001b[0;34m\u001b[0m\u001b[0;34m\u001b[0m\u001b[0m\n\u001b[1;32m      4\u001b[0m \u001b[0;34m\u001b[0m\u001b[0m\n\u001b[0;32m----> 5\u001b[0;31m \u001b[0mprint\u001b[0m\u001b[0;34m(\u001b[0m\u001b[0mthisSet\u001b[0m\u001b[0;34m)\u001b[0m\u001b[0;34m\u001b[0m\u001b[0;34m\u001b[0m\u001b[0m\n\u001b[0m",
      "\u001b[0;31mNameError\u001b[0m: name 'thisSet' is not defined"
     ]
    }
   ],
   "source": [
    "thisSet = {\"tim\",\"alex\",\"jane\",\"mike\"}\n",
    "\n",
    "del thisSet\n",
    "\n",
    "print(thisSet)"
   ]
  },
  {
   "cell_type": "markdown",
   "metadata": {},
   "source": [
    "As you can see in the example we have used the del keyword to delete (thiSet) \n",
    "\n",
    "We now receive an error message notifying use that the SET NAME is not defined. In other words, it no exist"
   ]
  },
  {
   "cell_type": "markdown",
   "metadata": {},
   "source": [
    "### Join Two Sets\n",
    "\n",
    "the union() method reurns a new set with all items from both sets (but not in order, bish)"
   ]
  },
  {
   "cell_type": "code",
   "execution_count": 52,
   "metadata": {},
   "outputs": [
    {
     "name": "stdout",
     "output_type": "stream",
     "text": [
      "{'lisa', 'mike', 'jim', 'jane', 'nate', 'tim', 'alex'}\n"
     ]
    }
   ],
   "source": [
    "setOne = {\"tim\",\"alex\",\"jane\",\"mike\"}\n",
    "setTwo = {\"nate\",\"jim\",\"mike\",\"lisa\"}\n",
    "\n",
    "setThree = setOne.union(setTwo)\n",
    "\n",
    "print(setThree)"
   ]
  },
  {
   "cell_type": "markdown",
   "metadata": {},
   "source": [
    "#### Using the update() method will also allow you to insert items from setTwo into setOne\n"
   ]
  },
  {
   "cell_type": "code",
   "execution_count": 54,
   "metadata": {},
   "outputs": [
    {
     "name": "stdout",
     "output_type": "stream",
     "text": [
      "{'lisa', 'mike', 'jim', 'jane', 'nate', 'tim', 'alex'}\n"
     ]
    }
   ],
   "source": [
    "setOne = {\"tim\",\"alex\",\"jane\",\"mike\"}\n",
    "setTwo = {\"nate\",\"jim\",\"mike\",\"lisa\"}\n",
    " \n",
    "setOne.update(setTwo) # This will only insert a few items from set setTwo into setOne b\n",
    "print(setOne)"
   ]
  },
  {
   "cell_type": "markdown",
   "metadata": {},
   "source": [
    "#### <span style=\"color:red\">Both union() and update() will execute any duplicate items in your set</span> "
   ]
  },
  {
   "cell_type": "markdown",
   "metadata": {},
   "source": [
    "### The Set() Constructor \n",
    "\n",
    "#### It is akso possible to use the set() constructor to make a set"
   ]
  },
  {
   "cell_type": "code",
   "execution_count": 56,
   "metadata": {},
   "outputs": [
    {
     "name": "stdout",
     "output_type": "stream",
     "text": [
      "{'kale', 'bread', 'paper', 'apple'}\n",
      "<class 'set'>\n"
     ]
    }
   ],
   "source": [
    "newSet = set((\"apple\",\"kale\",\"paper\",\"bread\"))\n",
    "\n",
    "print(newSet)\n",
    "print(type(newSet))"
   ]
  },
  {
   "cell_type": "markdown",
   "metadata": {},
   "source": [
    "    WE ARE DEALING WITH ANOTHER LIST"
   ]
  },
  {
   "cell_type": "markdown",
   "metadata": {},
   "source": [
    " #### SET METHODS\n",
    " \n",
    " Python has a set of built-in-methods that you can us on sets."
   ]
  },
  {
   "cell_type": "markdown",
   "metadata": {},
   "source": [
    "#### Add( )\n",
    "Adds and element to a set: "
   ]
  },
  {
   "cell_type": "code",
   "execution_count": 1,
   "metadata": {},
   "outputs": [
    {
     "name": "stdout",
     "output_type": "stream",
     "text": [
      "{'toilet paper', 'Peanut Butter', 'grapes', 'kale'}\n"
     ]
    }
   ],
   "source": [
    "edgarsList = {\"grapes\",\"kale\",\"toilet paper\"}\n",
    "\n",
    "edgarsList.add(\"Peanut Butter\")\n",
    "\n",
    "print(edgarsList)"
   ]
  },
  {
   "cell_type": "markdown",
   "metadata": {},
   "source": [
    "###### NOTE: When adding elemnets to sets, your updated set will not print out in the original order because, set are unordered and un-indexed."
   ]
  },
  {
   "cell_type": "markdown",
   "metadata": {},
   "source": [
    "#### clear( ) \n",
    "\n",
    "The clear method will wipe out the requested set"
   ]
  },
  {
   "cell_type": "code",
   "execution_count": 2,
   "metadata": {},
   "outputs": [
    {
     "name": "stdout",
     "output_type": "stream",
     "text": [
      "set()\n"
     ]
    }
   ],
   "source": [
    "listNoMore = {\"grapes\",\"kale\",\"toilet paper\"}\n",
    "\n",
    "listNoMore.clear()\n",
    "\n",
    "print(listNoMore)"
   ]
  },
  {
   "cell_type": "markdown",
   "metadata": {},
   "source": [
    "#### copy() \n",
    "\n",
    "the copy method will return a copy of the set "
   ]
  },
  {
   "cell_type": "code",
   "execution_count": 6,
   "metadata": {},
   "outputs": [
    {
     "name": "stdout",
     "output_type": "stream",
     "text": [
      "{'toilet paper', 'grapes', 'kale'}\n"
     ]
    }
   ],
   "source": [
    "listNoMore = {\"grapes\",\"kale\",\"toilet paper\"}\n",
    "\n",
    "copyCat = listNoMore.copy()\n",
    "\n",
    "print(listNoMore)"
   ]
  },
  {
   "cell_type": "markdown",
   "metadata": {},
   "source": [
    "#### difference( )\n",
    "\n",
    "Returns a set containing the difference between two or more sets"
   ]
  },
  {
   "cell_type": "code",
   "execution_count": 35,
   "metadata": {},
   "outputs": [
    {
     "name": "stdout",
     "output_type": "stream",
     "text": [
      "{'mct oil', 'soybeans'}\n"
     ]
    }
   ],
   "source": [
    "edgarsList = {\"grapes\",\"kale\",\"toilet paper\",\"mct oil\", \"soybeans\"}\n",
    "dansist = {\"grapes\",\"bagels\",\"kale\",\"toilet paper\"}\n",
    "\n",
    "x = edgarsList.difference(dansList)\n",
    "\n",
    "print(x)"
   ]
  },
  {
   "cell_type": "markdown",
   "metadata": {},
   "source": [
    "#### difference_update( ) \n",
    "\n",
    "Removes the items in this set that are also included in another, specified set\n",
    "\n",
    "The difference_update() method is different from the difference() method, because the difference() method returns a new set, without the unwanted items, and the original set. "
   ]
  },
  {
   "cell_type": "code",
   "execution_count": 54,
   "metadata": {},
   "outputs": [
    {
     "name": "stdout",
     "output_type": "stream",
     "text": [
      "{'mct oil', 'soybeans'}\n"
     ]
    }
   ],
   "source": [
    "edgarsList = {\"grapes\",\"kale\",\"toilet paper\",\"mct oil\", \"soybeans\"}\n",
    "dansist = {\"grapes\",\"bagels\",\"kale\",\"toilet paper\"}\n",
    "\n",
    "edgarsList.difference_update(dansList)\n",
    "\n",
    "print(edgarsList)"
   ]
  },
  {
   "cell_type": "markdown",
   "metadata": {},
   "source": [
    "#### discard( )  \n",
    "\n",
    "Remove the specified item"
   ]
  },
  {
   "cell_type": "code",
   "execution_count": 56,
   "metadata": {},
   "outputs": [
    {
     "name": "stdout",
     "output_type": "stream",
     "text": [
      "{'toilet paper', 'grapes', 'mct oil', 'kale'}\n"
     ]
    }
   ],
   "source": [
    "edgarsList = {\"grapes\",\"kale\",\"toilet paper\",\"mct oil\", \"soybeans\"}\n",
    "\n",
    "edgarsList.discard(\"soybeans\")\n",
    "\n",
    "print(edgarsList)"
   ]
  },
  {
   "cell_type": "markdown",
   "metadata": {},
   "source": [
    "#### intersection( )\n",
    "\n",
    "Returns a set, that is the intersection of two other sets"
   ]
  },
  {
   "cell_type": "code",
   "execution_count": 57,
   "metadata": {},
   "outputs": [
    {
     "name": "stdout",
     "output_type": "stream",
     "text": [
      "{'toilet paper', 'grapes', 'kale'}\n"
     ]
    }
   ],
   "source": [
    "edgarsList = {\"grapes\",\"kale\",\"toilet paper\",\"mct oil\", \"soybeans\"}\n",
    "dansist = {\"grapes\",\"bagels\",\"kale\",\"toilet paper\"}\n",
    "\n",
    "x = edgarsList.intersection(dansList)\n",
    "\n",
    "print(x)"
   ]
  },
  {
   "cell_type": "markdown",
   "metadata": {},
   "source": [
    "#### intersection_update( )\n",
    "\n",
    "Removes the items in this set that are not present in both sets, or in all sets if the comparison is done between more than two set.\n",
    "\n",
    "- The intersection_update() method is different from the intersection() method, becuase the intersection () method returns a new set, without the unwanted items, and the intersection_update() method removes unwanted items."
   ]
  },
  {
   "cell_type": "code",
   "execution_count": 76,
   "metadata": {},
   "outputs": [
    {
     "name": "stdout",
     "output_type": "stream",
     "text": [
      "{'bananas', 'carrots', 'chocolate almonds', 'muffins'}\n"
     ]
    }
   ],
   "source": [
    "edgarSet = {\"muffins\", \"bananas\", \"chocolate almonds\",\"carrots\"}\n",
    "dansSet = {\"muffins\", \"bananas\", \"chocolate almonds\",\"carrots\",\"tampons\"}\n",
    "\n",
    "edgarSet.intersection_update(dansSet)\n",
    "\n",
    "print(edgarSet) ## Tampons (located in dansSet)will be removed"
   ]
  },
  {
   "cell_type": "markdown",
   "metadata": {},
   "source": [
    "#### using intersection_update with several variables\n",
    "\n",
    "set.intersection_update(set1,set2...etc)"
   ]
  },
  {
   "cell_type": "code",
   "execution_count": 5,
   "metadata": {},
   "outputs": [
    {
     "name": "stdout",
     "output_type": "stream",
     "text": [
      "{'b', 'c'}\n"
     ]
    }
   ],
   "source": [
    "x = {\"a\",\"b\",\"c\"}\n",
    "y = {\"c\",\"d\",\"b\"}\n",
    "z = {\"b\",\"y\",\"c\"}\n",
    "\n",
    "x.intersection_update(y,z)\n",
    "\n",
    "print(x) # output: c and b , set will be unordered"
   ]
  },
  {
   "cell_type": "markdown",
   "metadata": {},
   "source": [
    "### isdisjointed( )\n",
    "\n",
    "Returns whether two sets have a intersection or not."
   ]
  },
  {
   "cell_type": "code",
   "execution_count": 21,
   "metadata": {},
   "outputs": [
    {
     "name": "stdout",
     "output_type": "stream",
     "text": [
      "True\n"
     ]
    }
   ],
   "source": [
    "x = {\"a\",\"b\",\"c\"}\n",
    "y = {\"d\",\"e\",\"f\"}\n",
    "\n",
    "j = x.isdisjoint(y)\n",
    "\n",
    "print(j) # (True) is returned since neith set matches in any way"
   ]
  },
  {
   "cell_type": "markdown",
   "metadata": {},
   "source": [
    "now lets see what our output will be if 1 or 2 elements reside in bot sets"
   ]
  },
  {
   "cell_type": "code",
   "execution_count": 24,
   "metadata": {},
   "outputs": [
    {
     "name": "stdout",
     "output_type": "stream",
     "text": [
      "False\n"
     ]
    }
   ],
   "source": [
    "x = {\"a\",\"b\",\"c\"}\n",
    "y = {\"c\",\"e\",\"n\"}\n",
    "\n",
    "j = x.isdisjoint(y)\n",
    "\n",
    "print(j) # (False) is returned since \"c\" resides in both sets"
   ]
  },
  {
   "cell_type": "markdown",
   "metadata": {},
   "source": [
    "### issubset( )\n",
    "\n",
    "Returns whether another set contains this set or not\n",
    "\n",
    "- (True) is returned if set is (completely) present "
   ]
  },
  {
   "cell_type": "code",
   "execution_count": 26,
   "metadata": {},
   "outputs": [
    {
     "name": "stdout",
     "output_type": "stream",
     "text": [
      "True\n"
     ]
    }
   ],
   "source": [
    "alphaGo = {\"sean\",\"dan\",\"liz\",\"dana\",\"lilly\"}\n",
    "googleTeam = {\"forrest\", \"karen\",\"alex\",\"bryan\",\"allison\",\"lilly\",\"teddy\",\"dana\",\"susan\",\"sean\",\"dan\",\"liz\"}\n",
    "\n",
    "teamCheck = alphaGo.issubset(googleTeam)\n",
    "\n",
    "print(teamCheck) #Will return (True) since the (alphaGo) team is present in (googleTeam)"
   ]
  },
  {
   "cell_type": "markdown",
   "metadata": {},
   "source": [
    "#### issuperset( )\n",
    "\n",
    "Returns whether this set contains another set or not"
   ]
  },
  {
   "cell_type": "code",
   "execution_count": 6,
   "metadata": {},
   "outputs": [
    {
     "name": "stdout",
     "output_type": "stream",
     "text": [
      "True\n"
     ]
    }
   ],
   "source": [
    "googleTeam = {\"forrest\", \"karen\",\"alex\",\"bryan\",\"allison\",\"lilly\",\"teddy\",\"dana\",\"susan\",\"sean\",\"dan\",\"liz\"}\n",
    "alphaGo = {\"sean\",\"dan\",\"liz\",\"dana\",\"lilly\"}\n",
    "\n",
    "z = googleTeam.issuperset(alphaGo) \n",
    "\n",
    "# googleTeam = original set  \n",
    "# alphaGo = new set\n",
    "\n",
    "print(z)"
   ]
  },
  {
   "cell_type": "markdown",
   "metadata": {},
   "source": [
    "#### pop( )\n",
    "\n",
    "removes element from the set\n",
    "\n",
    "#### NOTE: that a RANDOM element will be will be removed"
   ]
  },
  {
   "cell_type": "code",
   "execution_count": 13,
   "metadata": {},
   "outputs": [
    {
     "name": "stdout",
     "output_type": "stream",
     "text": [
      "{'liz', 'teddy', 'lilly', 'susan', 'dana', 'sean', 'dan', 'allison', 'forrest', 'karen', 'alex'}\n"
     ]
    }
   ],
   "source": [
    "googleTeam = {\"forrest\", \"karen\",\"alex\",\"bryan\",\"allison\",\"lilly\",\"teddy\",\"dana\",\"susan\",\"sean\",\"dan\",\"liz\"}\n",
    "\n",
    "googleTeam.pop()\n",
    "\n",
    "print(googleTeam)"
   ]
  },
  {
   "cell_type": "markdown",
   "metadata": {},
   "source": [
    "#### remove( ) \n",
    "\n",
    "Removes a specified element"
   ]
  },
  {
   "cell_type": "code",
   "execution_count": 14,
   "metadata": {},
   "outputs": [
    {
     "name": "stdout",
     "output_type": "stream",
     "text": [
      "{'bryan', 'liz', 'teddy', 'lilly', 'susan', 'dana', 'sean', 'dan', 'allison', 'karen', 'alex'}\n"
     ]
    }
   ],
   "source": [
    "googleTeam = {\"forrest\", \"karen\",\"alex\",\"bryan\",\"allison\",\"lilly\",\"teddy\",\"dana\",\"susan\",\"sean\",\"dan\",\"liz\"}\n",
    "\n",
    "googleTeam.remove(\"forrest\")\n",
    "\n",
    "print(googleTeam)"
   ]
  },
  {
   "cell_type": "markdown",
   "metadata": {},
   "source": [
    "#### symmetric_difference( ) \n",
    "\n",
    "Returns a set with symmetric differences from this set and another"
   ]
  },
  {
   "cell_type": "code",
   "execution_count": 29,
   "metadata": {},
   "outputs": [
    {
     "name": "stdout",
     "output_type": "stream",
     "text": [
      "{'bryan', 'susan', 'teddy', 'forrest', 'allison', 'karen', 'alex'}\n"
     ]
    }
   ],
   "source": [
    "googleTeam = {\"forrest\", \"karen\",\"alex\",\"bryan\",\"allison\",\"lilly\",\"teddy\",\"dana\",\"susan\",\"sean\",\"dan\",\"liz\"}\n",
    "alphaGo = {\"sean\",\"dan\",\"liz\",\"dana\",\"lilly\"}\n",
    "\n",
    "z = googleTeam.symmetric_difference(alphaGo)\n",
    "\n",
    "\n",
    "print(z)\n",
    "\n",
    "#{'bryan', 'susan', 'teddy', 'forrest', 'allison', 'karen', 'alex'}"
   ]
  },
  {
   "cell_type": "markdown",
   "metadata": {},
   "source": [
    "####  symmetric_difference_update()\n",
    "\n",
    "Inserts the symmetric differences from this set and another"
   ]
  },
  {
   "cell_type": "code",
   "execution_count": 39,
   "metadata": {},
   "outputs": [
    {
     "name": "stdout",
     "output_type": "stream",
     "text": [
      "{'Mag', 'forrest', 'karen', 'alex'}\n"
     ]
    }
   ],
   "source": [
    "googleTeam = {\"forrest\", \"karen\",\"alex\",\"bryan\",\"allison\",\"liz\"}\n",
    "alphaGo = {\"bryan\",\"allison\",\"liz\",\"Mag\"}\n",
    "\n",
    "alphaGo.symmetric_difference_update(googleTeam)\n",
    "\n",
    "#OUTpUt: forrest, karen, alex, mag\n",
    "\n",
    "print(alphaGo)"
   ]
  },
  {
   "cell_type": "markdown",
   "metadata": {},
   "source": [
    "#### union( )\n",
    "\n",
    "returns a set containing the union sets\n",
    "\n",
    "It will compile all unique elements and eliminate duplicates"
   ]
  },
  {
   "cell_type": "code",
   "execution_count": 40,
   "metadata": {},
   "outputs": [
    {
     "name": "stdout",
     "output_type": "stream",
     "text": [
      "{'bryan', 'liz', 'Mag', 'forrest', 'allison', 'karen', 'alex'}\n"
     ]
    }
   ],
   "source": [
    "googleTeam = {\"forrest\", \"karen\",\"alex\",\"bryan\",\"allison\",\"liz\"}\n",
    "alphaGo = {\"bryan\",\"allison\",\"liz\",\"Mag\"}\n",
    "\n",
    "z = googleTeam.union(alphaGo)\n",
    "\n",
    "print(z) # OutPUT: ['bryan', 'karen', 'alex', 'Mag', 'allison', 'forrest', 'liz']"
   ]
  },
  {
   "cell_type": "markdown",
   "metadata": {},
   "source": [
    "You can specify as many sets you want, seperated by commas"
   ]
  },
  {
   "cell_type": "code",
   "execution_count": 42,
   "metadata": {},
   "outputs": [
    {
     "name": "stdout",
     "output_type": "stream",
     "text": [
      "{'a', 'c', 'e', 'f', 'd', 'b'}\n"
     ]
    }
   ],
   "source": [
    "x = {\"a\", \"b\", \"c\"}\n",
    "y = {\"f\", \"d\", \"a\"}\n",
    "z = {\"c\", \"d\", \"e\"}\n",
    "\n",
    "result = x.union(y, z)\n",
    "\n",
    "print(result) # OUTPUT: a,b,c,f,e,d "
   ]
  },
  {
   "cell_type": "markdown",
   "metadata": {},
   "source": [
    "#### update( ) \n",
    "\n",
    "update the set with the union of this set and others"
   ]
  },
  {
   "cell_type": "code",
   "execution_count": 44,
   "metadata": {},
   "outputs": [
    {
     "name": "stdout",
     "output_type": "stream",
     "text": [
      "{'tim', 'edgar', 'monica', 'mike', 'jane', 'bob', 'alex'}\n"
     ]
    }
   ],
   "source": [
    "thisSet = {\"tim\",\"alex\",\"jane\",\"mike\"}\n",
    "\n",
    "thisSet.update([\"monica\",\"edgar\",\"bob\"])\n",
    "\n",
    "print(thisSet)"
   ]
  }
 ],
 "metadata": {
  "kernelspec": {
   "display_name": "Python 3",
   "language": "python",
   "name": "python3"
  },
  "language_info": {
   "codemirror_mode": {
    "name": "ipython",
    "version": 3
   },
   "file_extension": ".py",
   "mimetype": "text/x-python",
   "name": "python",
   "nbconvert_exporter": "python",
   "pygments_lexer": "ipython3",
   "version": "3.7.6"
  }
 },
 "nbformat": 4,
 "nbformat_minor": 4
}
