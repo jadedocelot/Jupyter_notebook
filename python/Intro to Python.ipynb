{
 "cells": [
  {
   "cell_type": "markdown",
   "metadata": {},
   "source": [
    "## Python was created by Guido Van Rossum\n",
    "\n",
    "    - Python is used for the following:\n",
    "        * Sofatware Development\n",
    "        * Mathmatics\n",
    "        * System Scriptng \n",
    "        \n",
    "   ## What Can Python Do?\n",
    "       - Python can be used to make web applications\n",
    "       - Python can be used alongside software to create workflows\n",
    "       - Python can connect to database systems. It can also modify files\n",
    "       - Python can be used to handle big data and perform complex mathmatics\n",
    "       - Python can be used for for rapid prototyping, or for production ready software development\n",
    "       \n",
    "   ## Why Python?\n",
    "       - Python works on most platforms\n",
    "       - Pyhton runs on an interpreter system, which means the code can be executed as soon as possible\n",
    "       - Python can be used in a procedural way, object oriented way or a functional way \n",
    "       \n",
    "   ## Python Syntax compared to other programming languages\n",
    "       - Python was designed for readability, and has some similarities to the english language with some influences from mathmatics\n",
    "       - Python uses new lines to complete a command, as opposed to other programming languages which often use semicolons or parentheses.\n",
    "       - Python relies on indentation, using whitespace, to define scope; such as the scope of loops, functions and classes. Other programming languages often use curly-brackets for this purpose.\n",
    "\n",
    "   "
   ]
  }
 ],
 "metadata": {
  "kernelspec": {
   "display_name": "Python 3",
   "language": "python",
   "name": "python3"
  },
  "language_info": {
   "codemirror_mode": {
    "name": "ipython",
    "version": 3
   },
   "file_extension": ".py",
   "mimetype": "text/x-python",
   "name": "python",
   "nbconvert_exporter": "python",
   "pygments_lexer": "ipython3",
   "version": "3.7.6"
  }
 },
 "nbformat": 4,
 "nbformat_minor": 4
}
