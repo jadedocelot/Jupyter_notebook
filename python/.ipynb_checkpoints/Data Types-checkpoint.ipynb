{
 "cells": [
  {
   "cell_type": "markdown",
   "metadata": {},
   "source": [
    "# Built-in Data Types\n",
    "\n",
    "Python has the following data types built-in by default, in the following categories."
   ]
  },
  {
   "cell_type": "markdown",
   "metadata": {},
   "source": [
    "Text Type:"
   ]
  },
  {
   "cell_type": "code",
   "execution_count": null,
   "metadata": {},
   "outputs": [],
   "source": [
    "str"
   ]
  },
  {
   "cell_type": "markdown",
   "metadata": {},
   "source": [
    "Numeric Types:"
   ]
  },
  {
   "cell_type": "code",
   "execution_count": null,
   "metadata": {},
   "outputs": [],
   "source": [
    "int, float, complex"
   ]
  },
  {
   "cell_type": "markdown",
   "metadata": {},
   "source": [
    "Sequence Types:"
   ]
  },
  {
   "cell_type": "code",
   "execution_count": null,
   "metadata": {},
   "outputs": [],
   "source": [
    "list, tuple, range"
   ]
  },
  {
   "cell_type": "markdown",
   "metadata": {},
   "source": [
    "Mapping Types:"
   ]
  },
  {
   "cell_type": "code",
   "execution_count": null,
   "metadata": {},
   "outputs": [],
   "source": [
    "dict"
   ]
  },
  {
   "cell_type": "markdown",
   "metadata": {},
   "source": [
    "Set Types:"
   ]
  },
  {
   "cell_type": "code",
   "execution_count": null,
   "metadata": {},
   "outputs": [],
   "source": [
    "set, frozenset"
   ]
  },
  {
   "cell_type": "markdown",
   "metadata": {},
   "source": [
    "Boolean:"
   ]
  },
  {
   "cell_type": "code",
   "execution_count": null,
   "metadata": {},
   "outputs": [],
   "source": [
    "bool"
   ]
  },
  {
   "cell_type": "markdown",
   "metadata": {},
   "source": [
    "Binary Type:"
   ]
  },
  {
   "cell_type": "code",
   "execution_count": 4,
   "metadata": {},
   "outputs": [
    {
     "data": {
      "text/plain": [
       "(bytes, bytearray, memoryview)"
      ]
     },
     "execution_count": 4,
     "metadata": {},
     "output_type": "execute_result"
    }
   ],
   "source": [
    "bytes, bytearray, memoryview"
   ]
  },
  {
   "cell_type": "markdown",
   "metadata": {},
   "source": [
    "# Getting the Data Type\n",
    "\n",
    "In order to get the data type of an object one must use the type() function."
   ]
  },
  {
   "cell_type": "code",
   "execution_count": 6,
   "metadata": {},
   "outputs": [
    {
     "name": "stdout",
     "output_type": "stream",
     "text": [
      "<class 'int'>\n"
     ]
    }
   ],
   "source": [
    "x = 5 \n",
    "print(type(x))\n",
    "\n",
    "# Output: Numeric Type (int)"
   ]
  },
  {
   "cell_type": "markdown",
   "metadata": {},
   "source": [
    "# Setting the Data Type \n",
    "\n",
    "- In python, the data type is set when you assign a value to a variable.\n",
    "    * It's possible for one to specify the (data type) when assigning a value to a variable. This can be done when using the following constructor functions <span style=\"color:orange\">(SEE SETTING THE SPECIFIC DATA TYPE)</span>."
   ]
  },
  {
   "cell_type": "markdown",
   "metadata": {},
   "source": [
    "## <span style=\"color:red\">Text Type</span>"
   ]
  },
  {
   "cell_type": "markdown",
   "metadata": {},
   "source": [
    "### str"
   ]
  },
  {
   "cell_type": "code",
   "execution_count": null,
   "metadata": {},
   "outputs": [],
   "source": [
    "x = \"Hello World!\""
   ]
  },
  {
   "cell_type": "markdown",
   "metadata": {},
   "source": [
    "#### <span style=\"color:orange\">Setting the Specific Data Type:</span>"
   ]
  },
  {
   "cell_type": "code",
   "execution_count": 1,
   "metadata": {},
   "outputs": [
    {
     "name": "stdout",
     "output_type": "stream",
     "text": [
      "Hello Edgar\n",
      "<class 'str'>\n"
     ]
    }
   ],
   "source": [
    "x = str(\"Hello Edgar\")\n",
    "\n",
    "print(x) # This will display X\n",
    "\n",
    "print(type(x)) #This will display  the type."
   ]
  },
  {
   "cell_type": "markdown",
   "metadata": {},
   "source": [
    "## <span style=\"color:red\">Numeric Type</span>\n",
    "\n",
    "- Numeric data types are immutable data types.\n",
    "    "
   ]
  },
  {
   "cell_type": "markdown",
   "metadata": {},
   "source": [
    " * This means that it cannot be changed once defined, unlike something that is mutable (We will discuss this some more down the road). In order to change the valuu of something immutable would require the user to create a newly allocated object."
   ]
  },
  {
   "cell_type": "markdown",
   "metadata": {},
   "source": [
    "### int \n",
    "\n",
    "Int, or integer, is a whole number, positive or negative, without decimals, of unlimited length.\n",
    "\n",
    "    - Integers are either (positive) or (negative) whole numbers.\n",
    "    - INTS can also be of unlimited size (Though note that this can only be applied to INTS in\n",
    "        Python 3) \n",
    "            * Python 2 has two integer types, int and (long). The long integer was cut prior to Python 3 release.\n",
    "          \n",
    "    "
   ]
  },
  {
   "cell_type": "code",
   "execution_count": null,
   "metadata": {},
   "outputs": [],
   "source": [
    "x = 20"
   ]
  },
  {
   "cell_type": "markdown",
   "metadata": {},
   "source": [
    "#### <span style=\"color:orange\">Setting the Specific Data Type:</span>"
   ]
  },
  {
   "cell_type": "code",
   "execution_count": 16,
   "metadata": {},
   "outputs": [
    {
     "name": "stdout",
     "output_type": "stream",
     "text": [
      "28\n",
      "<class 'int'>\n"
     ]
    }
   ],
   "source": [
    "x = int(28)\n",
    "\n",
    "print(x)\n",
    "\n",
    "print(type(x))"
   ]
  },
  {
   "cell_type": "markdown",
   "metadata": {},
   "source": [
    "### Float\n",
    "\n",
    "Float, or a \"floating point number: is a number (positive or negative) containing one or more decimals.\n"
   ]
  },
  {
   "cell_type": "code",
   "execution_count": 1,
   "metadata": {},
   "outputs": [],
   "source": [
    "x = 20.5\n",
    "y = 1.0\n",
    "z = -32.59"
   ]
  },
  {
   "cell_type": "markdown",
   "metadata": {},
   "source": [
    "#### <span style=\"color:orange\">Setting the Specific Data Type:</span>"
   ]
  },
  {
   "cell_type": "code",
   "execution_count": 17,
   "metadata": {},
   "outputs": [
    {
     "name": "stdout",
     "output_type": "stream",
     "text": [
      "20.5\n",
      "<class 'float'>\n"
     ]
    }
   ],
   "source": [
    "x = float(20.5)\n",
    "\n",
    "print(x) \n",
    "\n",
    "print(type(x))"
   ]
  },
  {
   "cell_type": "markdown",
   "metadata": {},
   "source": [
    "#### <span style=\"color:red\">Floats</span> can also be scientific numbers with an \"e\" to indicate the POWER of 10"
   ]
  },
  {
   "cell_type": "code",
   "execution_count": 18,
   "metadata": {},
   "outputs": [
    {
     "name": "stdout",
     "output_type": "stream",
     "text": [
      "35000.0\n",
      "120000.0\n",
      "-8.77e+101\n"
     ]
    }
   ],
   "source": [
    "x = 35E3 ## 35 x 10 x 10 x 10 \n",
    "y = 12E4 ## 12 x 10 x 10 x 10 x 10\n",
    "v = -87.7e100 ## 87.7 x 10 x 100\n",
    "\n",
    "print(x)\n",
    "print(y)\n",
    "print(v)"
   ]
  },
  {
   "cell_type": "markdown",
   "metadata": {},
   "source": [
    "### Complex \n",
    "\n",
    "complex numbers are written with a \"j\" as a imaginary part\n",
    "\n",
    "    - complex numbers are of the form a + bj, where a and b are floats and J (or j) represents the square root of -1 (which is an imaginary). The real part of the number is a, and the imaginary part is b. Complex numbers are not used much in Python.  "
   ]
  },
  {
   "cell_type": "code",
   "execution_count": 5,
   "metadata": {},
   "outputs": [
    {
     "name": "stdout",
     "output_type": "stream",
     "text": [
      "15j\n"
     ]
    }
   ],
   "source": [
    "x = 1j \n",
    "y = 5j\n",
    "z = -5j \n",
    "\n",
    "print(y * 3)"
   ]
  },
  {
   "cell_type": "markdown",
   "metadata": {},
   "source": [
    "#### <span style=\"color:orange\">Setting the Specific Data Type:</span>"
   ]
  },
  {
   "cell_type": "code",
   "execution_count": 18,
   "metadata": {},
   "outputs": [
    {
     "name": "stdout",
     "output_type": "stream",
     "text": [
      "1j\n",
      "<class 'complex'>\n"
     ]
    }
   ],
   "source": [
    "x = complex(1j)\n",
    "\n",
    "print(x)\n",
    "\n",
    "print(type(x))"
   ]
  },
  {
   "cell_type": "markdown",
   "metadata": {},
   "source": [
    "# <span style=\"color:#132F47\">Type</span> <span style=\"color:#FE1130\">Conversion</span>\n",
    "\n",
    "All Python users can convert fone type to anoyher with the int(), float(), and complex() methods."
   ]
  },
  {
   "cell_type": "code",
   "execution_count": 19,
   "metadata": {},
   "outputs": [
    {
     "name": "stdout",
     "output_type": "stream",
     "text": [
      "1.0\n",
      "2\n",
      "(1+0j)\n",
      "\n",
      "\n",
      "<class 'float'>\n",
      "<class 'int'>\n",
      "<class 'complex'>\n"
     ]
    }
   ],
   "source": [
    "x = 1 #int\n",
    "b = 2.4 #float\n",
    "g = 5j # complex\n",
    "\n",
    "#convert from an int to a float \n",
    "f = float(x)\n",
    "\n",
    "#converting from a float to an int\n",
    "i = int(b)\n",
    "\n",
    "#converting from an int to a complex\n",
    "c = complex(x)\n",
    "\n",
    "print(f)\n",
    "print(i)\n",
    "print(c)\n",
    "print(\"\\n\") \n",
    "print(type(f))\n",
    "print(type(i))\n",
    "print(type(c))"
   ]
  },
  {
   "cell_type": "markdown",
   "metadata": {},
   "source": [
    "## <span style=\"color:#FF4040\">Random</span><span style=\"color:#FFA500\">Numb3rs</span>"
   ]
  },
  {
   "cell_type": "markdown",
   "metadata": {},
   "source": [
    "Python does not have a random() function to make a random number, but python has a built-in module called (random) that can be used to make random numbers."
   ]
  },
  {
   "cell_type": "code",
   "execution_count": 50,
   "metadata": {},
   "outputs": [
    {
     "name": "stdout",
     "output_type": "stream",
     "text": [
      "1669593\n"
     ]
    }
   ],
   "source": [
    "import random \n",
    "\n",
    "print (random.randrange(1,23e5))"
   ]
  },
  {
   "cell_type": "markdown",
   "metadata": {},
   "source": [
    "## <span style=\"color:red\">Sequence Type</span>"
   ]
  },
  {
   "cell_type": "markdown",
   "metadata": {},
   "source": [
    "### list"
   ]
  },
  {
   "cell_type": "code",
   "execution_count": 8,
   "metadata": {},
   "outputs": [],
   "source": [
    "x = [\"apple\", \"banana\", \"cherry\"]"
   ]
  },
  {
   "cell_type": "markdown",
   "metadata": {},
   "source": [
    "#### <span style=\"color:orange\">Setting the Specific Data Type:</span>"
   ]
  },
  {
   "cell_type": "code",
   "execution_count": 19,
   "metadata": {},
   "outputs": [
    {
     "name": "stdout",
     "output_type": "stream",
     "text": [
      "['apple', 'banana', 'cherry']\n",
      "<class 'list'>\n"
     ]
    }
   ],
   "source": [
    "x = list((\"apple\", \"banana\", \"cherry\"))\n",
    "\n",
    "print(x)\n",
    "\n",
    "print(type(x))"
   ]
  },
  {
   "cell_type": "markdown",
   "metadata": {},
   "source": [
    "### Tuple "
   ]
  },
  {
   "cell_type": "code",
   "execution_count": null,
   "metadata": {},
   "outputs": [],
   "source": [
    "x = (\"Apple\", \"banana\", \"cherry\")"
   ]
  },
  {
   "cell_type": "markdown",
   "metadata": {},
   "source": [
    "#### <span style=\"color:orange\">Setting the Specific Data Type:</span>"
   ]
  },
  {
   "cell_type": "code",
   "execution_count": 20,
   "metadata": {},
   "outputs": [
    {
     "name": "stdout",
     "output_type": "stream",
     "text": [
      "('apple', 'banana', 'cherry')\n",
      "<class 'tuple'>\n"
     ]
    }
   ],
   "source": [
    "x = tuple((\"apple\", \"banana\", \"cherry\"))\n",
    "\n",
    "print(x)\n",
    "\n",
    "print(type(x))"
   ]
  },
  {
   "cell_type": "markdown",
   "metadata": {},
   "source": [
    "### Range"
   ]
  },
  {
   "cell_type": "code",
   "execution_count": null,
   "metadata": {},
   "outputs": [],
   "source": [
    "x = range(6)"
   ]
  },
  {
   "cell_type": "markdown",
   "metadata": {},
   "source": [
    "#### <span style=\"color:orange\">Setting the Specific Data Type:</span>"
   ]
  },
  {
   "cell_type": "code",
   "execution_count": 21,
   "metadata": {},
   "outputs": [
    {
     "name": "stdout",
     "output_type": "stream",
     "text": [
      "range(0, 6)\n",
      "<class 'range'>\n"
     ]
    }
   ],
   "source": [
    "x = range(6)\n",
    "\n",
    "def rangeFunc(): \n",
    "    print(x)\n",
    "    print(type(x))\n",
    "    \n",
    "rangeFunc()"
   ]
  },
  {
   "cell_type": "markdown",
   "metadata": {},
   "source": [
    "## <span style=\"color:red\">Mapping Type</span>"
   ]
  },
  {
   "cell_type": "markdown",
   "metadata": {},
   "source": [
    "### dict "
   ]
  },
  {
   "cell_type": "code",
   "execution_count": 24,
   "metadata": {},
   "outputs": [],
   "source": [
    "x = {\"name\" : \"John\", \"age\" : 36}"
   ]
  },
  {
   "cell_type": "markdown",
   "metadata": {},
   "source": [
    "#### <span style=\"color:orange\">Setting the Specific Data Type:</span>"
   ]
  },
  {
   "cell_type": "code",
   "execution_count": 23,
   "metadata": {},
   "outputs": [
    {
     "name": "stdout",
     "output_type": "stream",
     "text": [
      "{'name': 'John', 'age': 36}\n",
      "<class 'dict'>\n"
     ]
    }
   ],
   "source": [
    "x = {\"name\" : \"John\", \"age\" : 36}\n",
    "\n",
    "def dictFunc():\n",
    "    print(x)\n",
    "    print(type(x))\n",
    "    \n",
    "dictFunc()"
   ]
  },
  {
   "cell_type": "markdown",
   "metadata": {},
   "source": [
    "### <span style=\"color:red\">Set Type</span>"
   ]
  },
  {
   "cell_type": "markdown",
   "metadata": {},
   "source": [
    "### Set"
   ]
  },
  {
   "cell_type": "code",
   "execution_count": null,
   "metadata": {},
   "outputs": [],
   "source": [
    "X = {\"apple\", \"banana\", \"cherry\"}"
   ]
  },
  {
   "cell_type": "markdown",
   "metadata": {},
   "source": [
    "#### <span style=\"color:orange\">Setting the Specific Data Type:</span>"
   ]
  },
  {
   "cell_type": "code",
   "execution_count": 25,
   "metadata": {},
   "outputs": [
    {
     "name": "stdout",
     "output_type": "stream",
     "text": [
      "{'apple', 'cherry', 'banana'}\n",
      "<class 'set'>\n"
     ]
    }
   ],
   "source": [
    "x = set((\"apple\", \"banana\", \"cherry\"))\n",
    "\n",
    "print(x)\n",
    "\n",
    "print(type(x))"
   ]
  },
  {
   "cell_type": "markdown",
   "metadata": {},
   "source": [
    "### Frozenset"
   ]
  },
  {
   "cell_type": "code",
   "execution_count": null,
   "metadata": {},
   "outputs": [],
   "source": [
    "x = frozenset({\"apple\", \"banana\", \"cherry\"})"
   ]
  },
  {
   "cell_type": "markdown",
   "metadata": {},
   "source": [
    "#### <span style=\"color:orange\">Setting the Specific Data Type:</span>"
   ]
  },
  {
   "cell_type": "code",
   "execution_count": 26,
   "metadata": {},
   "outputs": [
    {
     "name": "stdout",
     "output_type": "stream",
     "text": [
      "frozenset({'apple', 'cherry', 'banana'})\n",
      "<class 'frozenset'>\n"
     ]
    }
   ],
   "source": [
    "x = frozenset((\"apple\", \"banana\", \"cherry\"))\n",
    "\n",
    "def frozeFunc():\n",
    "    print(x)\n",
    "    print(type(x))\n",
    "\n",
    "frozeFunc()"
   ]
  },
  {
   "cell_type": "markdown",
   "metadata": {},
   "source": [
    "## <span style=\"color:red\">Binary Types</span>"
   ]
  },
  {
   "cell_type": "markdown",
   "metadata": {},
   "source": [
    "### Bytes"
   ]
  },
  {
   "cell_type": "code",
   "execution_count": 28,
   "metadata": {},
   "outputs": [],
   "source": [
    "x = bytes(5)"
   ]
  },
  {
   "cell_type": "markdown",
   "metadata": {},
   "source": [
    "#### <span style=\"color:orange\">Setting the Specific Data Type:</span>"
   ]
  },
  {
   "cell_type": "code",
   "execution_count": 30,
   "metadata": {},
   "outputs": [
    {
     "name": "stdout",
     "output_type": "stream",
     "text": [
      "b'\\x00\\x00\\x00\\x00\\x00\\x00\\x00\\x00\\x00\\x00\\x00\\x00\\x00\\x00\\x00\\x00\\x00\\x00\\x00\\x00\\x00\\x00\\x00\\x00\\x00\\x00\\x00\\x00\\x00\\x00\\x00\\x00'\n",
      "<class 'bytes'>\n"
     ]
    }
   ],
   "source": [
    "x = bytes(32)\n",
    "\n",
    "def byteFunc(): \n",
    "    print(x)\n",
    "    print(type(x))\n",
    "    \n",
    "byteFunc()"
   ]
  },
  {
   "cell_type": "markdown",
   "metadata": {},
   "source": [
    "### Bytearray"
   ]
  },
  {
   "cell_type": "code",
   "execution_count": null,
   "metadata": {},
   "outputs": [],
   "source": [
    "x = bytearray(5)"
   ]
  },
  {
   "cell_type": "markdown",
   "metadata": {},
   "source": [
    "#### <span style=\"color:orange\">Setting the Specific Data Type:</span>"
   ]
  },
  {
   "cell_type": "code",
   "execution_count": 31,
   "metadata": {},
   "outputs": [
    {
     "name": "stdout",
     "output_type": "stream",
     "text": [
      "bytearray(b'\\x00\\x00\\x00\\x00\\x00\\x00\\x00\\x00\\x00\\x00\\x00\\x00\\x00\\x00\\x00\\x00\\x00\\x00\\x00\\x00\\x00\\x00\\x00\\x00\\x00\\x00\\x00\\x00')\n"
     ]
    }
   ],
   "source": [
    "x = bytearray(28)\n",
    "\n",
    "def byteArrayFunction(): \n",
    "    print(x)\n",
    "    \n",
    "byteArrayFunction()"
   ]
  },
  {
   "cell_type": "markdown",
   "metadata": {},
   "source": [
    "### Memoryview"
   ]
  },
  {
   "cell_type": "code",
   "execution_count": null,
   "metadata": {},
   "outputs": [],
   "source": [
    "x = memoryview(bytes(5))"
   ]
  },
  {
   "cell_type": "markdown",
   "metadata": {},
   "source": [
    "#### <span style=\"color:orange\">Setting the Specific Data Type:</span>"
   ]
  },
  {
   "cell_type": "code",
   "execution_count": 11,
   "metadata": {},
   "outputs": [
    {
     "name": "stdout",
     "output_type": "stream",
     "text": [
      "<memory at 0x000002A09F66A948>\n"
     ]
    }
   ],
   "source": [
    "x = memoryview(bytes(19))\n",
    "\n",
    "print(x)"
   ]
  },
  {
   "cell_type": "markdown",
   "metadata": {},
   "source": [
    "## <span style=\"color:red\">Boolean</span>"
   ]
  },
  {
   "cell_type": "markdown",
   "metadata": {},
   "source": [
    "### BOOL"
   ]
  },
  {
   "cell_type": "code",
   "execution_count": 27,
   "metadata": {},
   "outputs": [
    {
     "name": "stdout",
     "output_type": "stream",
     "text": [
      "True\n",
      "<class 'bool'>\n"
     ]
    }
   ],
   "source": [
    "x = bool(11)\n",
    "\n",
    "def boolFunc():\n",
    "    print(x)\n",
    "    print(type(x))\n",
    "    \n",
    "boolFunc() "
   ]
  }
 ],
 "metadata": {
  "kernelspec": {
   "display_name": "Python 3",
   "language": "python",
   "name": "python3"
  },
  "language_info": {
   "codemirror_mode": {
    "name": "ipython",
    "version": 3
   },
   "file_extension": ".py",
   "mimetype": "text/x-python",
   "name": "python",
   "nbconvert_exporter": "python",
   "pygments_lexer": "ipython3",
   "version": "3.7.6"
  }
 },
 "nbformat": 4,
 "nbformat_minor": 4
}
