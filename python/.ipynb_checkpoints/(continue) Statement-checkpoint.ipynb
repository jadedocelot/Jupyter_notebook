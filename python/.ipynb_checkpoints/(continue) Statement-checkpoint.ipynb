{
 "cells": [
  {
   "cell_type": "markdown",
   "metadata": {},
   "source": [
    "## Working with the (contiue) statement"
   ]
  },
  {
   "cell_type": "code",
   "execution_count": 12,
   "metadata": {},
   "outputs": [
    {
     "name": "stdout",
     "output_type": "stream",
     "text": [
      "Take your chances:quit\n"
     ]
    }
   ],
   "source": [
    "while True:  \n",
    "    s = input(\"Take your chances:\")\n",
    "    if s == 'quit':\n",
    "        break\n",
    "    elif len(s) < 3:\n",
    "        print('Too small')\n",
    "        continue\n",
    "    print('Input is of suffecient length')"
   ]
  },
  {
   "cell_type": "code",
   "execution_count": null,
   "metadata": {},
   "outputs": [],
   "source": [
    "while True:  \n",
    "    s = input(\"Take your chances:\")\n",
    "    if s == 'quit':\n",
    "        break\n",
    "    if len(s) < 3:\n",
    "        print('Too small')\n",
    "        continue\n",
    "    print('Input is of suffecient length')"
   ]
  },
  {
   "cell_type": "markdown",
   "metadata": {},
   "source": [
    "    - We accept input from the user, but we process the input string only if it is at least 3 characters long"
   ]
  },
  {
   "cell_type": "markdown",
   "metadata": {},
   "source": [
    "    - As you can see a built-in len() function to get the legnth and if the length is less than 3"
   ]
  },
  {
   "cell_type": "markdown",
   "metadata": {},
   "source": [
    "    - We skip the statement rest of the statements in the block by using the (continue) statement\n",
    "    - Otherwise the rest of the statements in the loop are executed, doing any kind of processing we want to fo here"
   ]
  }
 ],
 "metadata": {
  "kernelspec": {
   "display_name": "Python 3",
   "language": "python",
   "name": "python3"
  },
  "language_info": {
   "codemirror_mode": {
    "name": "ipython",
    "version": 3
   },
   "file_extension": ".py",
   "mimetype": "text/x-python",
   "name": "python",
   "nbconvert_exporter": "python",
   "pygments_lexer": "ipython3",
   "version": "3.7.6"
  }
 },
 "nbformat": 4,
 "nbformat_minor": 4
}
