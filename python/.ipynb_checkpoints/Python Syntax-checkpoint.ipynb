{
 "cells": [
  {
   "cell_type": "markdown",
   "metadata": {},
   "source": [
    "# <span style=\"color:#E4D31B\">Python</span> <span style=\"color:blue\">Syntax</span>\n",
    "\n",
    "    - Python syntax can be executed by writing directly in the command line\n",
    " * the example presents our first line of python code:"
   ]
  },
  {
   "cell_type": "code",
   "execution_count": 1,
   "metadata": {},
   "outputs": [
    {
     "name": "stdout",
     "output_type": "stream",
     "text": [
      "Hello World!\n"
     ]
    }
   ],
   "source": [
    "print(\"Hello World!\")"
   ]
  },
  {
   "cell_type": "markdown",
   "metadata": {},
   "source": [
    "#### (.py) is the file exstension when saving a Python file. Example: index.py"
   ]
  },
  {
   "cell_type": "markdown",
   "metadata": {},
   "source": [
    "## Python Indentation\n",
    "    - Indentation refers to the whitespaces the beginning of code of line \n",
    "        NOTE: The indentation is VERY important in Python\n",
    "    - Python used indentation to indicate a block of code     \n",
    "    \n",
    "###### Block Code: is a piece of Python program text that can be exicuted as a unit, such as a module, a class defenition or a function body. Some code blocks (like modules) are only executed once."
   ]
  },
  {
   "cell_type": "markdown",
   "metadata": {},
   "source": [
    "EXAMPLE 1:"
   ]
  },
  {
   "cell_type": "code",
   "execution_count": 9,
   "metadata": {},
   "outputs": [
    {
     "name": "stdout",
     "output_type": "stream",
     "text": [
      "Duh dude\n"
     ]
    }
   ],
   "source": [
    "if 5 > 3:\n",
    "    print(\"Duh dude\")\n",
    "else: \n",
    "    print(\"Its not bigger than 3\")\n",
    "    "
   ]
  },
  {
   "cell_type": "markdown",
   "metadata": {},
   "source": [
    "EXAMPLE 2:"
   ]
  },
  {
   "cell_type": "code",
   "execution_count": 10,
   "metadata": {},
   "outputs": [
    {
     "name": "stdout",
     "output_type": "stream",
     "text": [
      "2 is most definitely not bigger than 10\n"
     ]
    }
   ],
   "source": [
    "if 2 > 10:\n",
    "    print(\"2 is larger than 10\") # ONE BLOCK \n",
    "else:\n",
    "    print(\"2 is most definitely not bigger than 10\") # ONE BLOCK"
   ]
  },
  {
   "cell_type": "markdown",
   "metadata": {},
   "source": [
    "* The two examples above show how indentaion is used to indicate the blocks used for the if/else \n",
    "\n",
    "* The example below will be an example of poor indentation:"
   ]
  },
  {
   "cell_type": "code",
   "execution_count": 11,
   "metadata": {},
   "outputs": [
    {
     "ename": "IndentationError",
     "evalue": "expected an indented block (<ipython-input-11-9396479ac714>, line 2)",
     "output_type": "error",
     "traceback": [
      "\u001b[0;36m  File \u001b[0;32m\"<ipython-input-11-9396479ac714>\"\u001b[0;36m, line \u001b[0;32m2\u001b[0m\n\u001b[0;31m    print(\"What did you say?\")\u001b[0m\n\u001b[0m        ^\u001b[0m\n\u001b[0;31mIndentationError\u001b[0m\u001b[0;31m:\u001b[0m expected an indented block\n"
     ]
    }
   ],
   "source": [
    "if 2 > 10:\n",
    "print(\"What did you say?\")"
   ]
  },
  {
   "cell_type": "markdown",
   "metadata": {},
   "source": [
    "- Notice how the example above presents an error message, this is is caused due to the no indentation being used to  specify the block."
   ]
  },
  {
   "cell_type": "markdown",
   "metadata": {},
   "source": [
    "## When Using SPACES Rather Than TAB\n",
    "\n",
    "- The number of spaces used is up to the programmer just note that you must use at least (1) space."
   ]
  },
  {
   "cell_type": "markdown",
   "metadata": {},
   "source": [
    "EXAMPLE 1: "
   ]
  },
  {
   "cell_type": "code",
   "execution_count": 12,
   "metadata": {},
   "outputs": [
    {
     "name": "stdout",
     "output_type": "stream",
     "text": [
      "10 is greater than 5\n"
     ]
    }
   ],
   "source": [
    "if 10 > 5:\n",
    "              print(\"10 is greater than 5\")"
   ]
  },
  {
   "cell_type": "markdown",
   "metadata": {},
   "source": [
    "##### NOTE: You MUST use the same of number of spaces in a BLOCK of code. Otherwise Python will give you an error messge "
   ]
  },
  {
   "cell_type": "code",
   "execution_count": 15,
   "metadata": {},
   "outputs": [
    {
     "ename": "IndentationError",
     "evalue": "unexpected indent (<ipython-input-15-870d9a0e64a3>, line 3)",
     "output_type": "error",
     "traceback": [
      "\u001b[0;36m  File \u001b[0;32m\"<ipython-input-15-870d9a0e64a3>\"\u001b[0;36m, line \u001b[0;32m3\u001b[0m\n\u001b[0;31m    print(\"YA it is!\")\u001b[0m\n\u001b[0m    ^\u001b[0m\n\u001b[0;31mIndentationError\u001b[0m\u001b[0;31m:\u001b[0m unexpected indent\n"
     ]
    }
   ],
   "source": [
    "if 10 > 5:\n",
    "    print(\"YA it is!\")\n",
    "        print(\"YA it is!\")"
   ]
  },
  {
   "cell_type": "code",
   "execution_count": 15,
   "metadata": {},
   "outputs": [
    {
     "name": "stdout",
     "output_type": "stream",
     "text": [
      "YA it is!\n",
      "YA it is!\n"
     ]
    }
   ],
   "source": [
    "if 10 > 5:\n",
    "    print(\"YA it is!\")\n",
    "    print(\"YA it is!\")"
   ]
  },
  {
   "cell_type": "markdown",
   "metadata": {},
   "source": [
    "# <span style=\"color:pink\">Variables </span> (=) Baby!\n",
    "\n",
    "Python variables are created when you assign value to it, like so..\n",
    "\n",
    "   - You can think of varaiables as containers that store values (though not your drugs) \n",
    "   - Since Python is just that COOL kid in the block, it doesnt require a command for declaring variables (SUCK IT JAVASCRIPT!)\n",
    "   - A variable is created is created the moment you first assign a value to it "
   ]
  },
  {
   "cell_type": "code",
   "execution_count": 2,
   "metadata": {},
   "outputs": [
    {
     "name": "stdout",
     "output_type": "stream",
     "text": [
      "50\n"
     ]
    }
   ],
   "source": [
    "five = 5 \n",
    "ten = 5 + 5 \n",
    "\n",
    "print(five * ten)"
   ]
  },
  {
   "cell_type": "markdown",
   "metadata": {},
   "source": [
    "- As you can see we have assigned a value of (5) to the (five) variable and assigned (5+5)(which = 10)\n",
    "- Now uppose to writting out a (string) we can enter in the variable keywords in print which will output: 50"
   ]
  },
  {
   "cell_type": "markdown",
   "metadata": {},
   "source": [
    "### I want pizza, wait no nevermind, I want waffles!\n",
    "\n",
    "Variable can even be changed after being declared (For all my indecisive assholes)"
   ]
  },
  {
   "cell_type": "code",
   "execution_count": 20,
   "metadata": {},
   "outputs": [
    {
     "ename": "NameError",
     "evalue": "name 'pizza' is not defined",
     "output_type": "error",
     "traceback": [
      "\u001b[0;31m---------------------------------------------------------------------------\u001b[0m",
      "\u001b[0;31mNameError\u001b[0m                                 Traceback (most recent call last)",
      "\u001b[0;32m<ipython-input-20-eedd5a7b9f45>\u001b[0m in \u001b[0;36m<module>\u001b[0;34m\u001b[0m\n\u001b[0;32m----> 1\u001b[0;31m \u001b[0mdinner\u001b[0m \u001b[0;34m=\u001b[0m \u001b[0mpizza\u001b[0m\u001b[0;34m\u001b[0m\u001b[0;34m\u001b[0m\u001b[0m\n\u001b[0m\u001b[1;32m      2\u001b[0m \u001b[0mdinner\u001b[0m \u001b[0;34m=\u001b[0m \u001b[0mwaffles\u001b[0m\u001b[0;34m\u001b[0m\u001b[0;34m\u001b[0m\u001b[0m\n\u001b[1;32m      3\u001b[0m \u001b[0;34m\u001b[0m\u001b[0m\n\u001b[1;32m      4\u001b[0m \u001b[0mprint\u001b[0m\u001b[0;34m(\u001b[0m\u001b[0mdinner\u001b[0m\u001b[0;34m)\u001b[0m\u001b[0;34m\u001b[0m\u001b[0;34m\u001b[0m\u001b[0m\n",
      "\u001b[0;31mNameError\u001b[0m: name 'pizza' is not defined"
     ]
    }
   ],
   "source": [
    "dinner = \"pizza\"\n",
    "\n",
    "print(dinner)\n",
    "\n"
   ]
  },
  {
   "cell_type": "markdown",
   "metadata": {},
   "source": [
    "# <span style=\"color:orange\">COMMENTS</span> ##Sometimes I just don't want to code, thankfully the user won't know that since this is a comment ( = "
   ]
  },
  {
   "cell_type": "markdown",
   "metadata": {},
   "source": [
    "Comments cant be add to your code as reminders for yourself or other programmers, or as notes for the code that's being used. Comments will never be included in the output of your code and can only be seen though viewing the raw code.\n",
    "\n",
    "- To start for a comment a (#) must be added to the beginning of your line\n",
    "- Comments can also be placed ANYWHERE within your code, on top, bottom, left-side or right side (very naughty) "
   ]
  },
  {
   "cell_type": "code",
   "execution_count": 6,
   "metadata": {},
   "outputs": [
    {
     "name": "stdout",
     "output_type": "stream",
     "text": [
      "Hello World!\n"
     ]
    }
   ],
   "source": [
    "# Also, I squeezing into ladies socks every now and then \n",
    "# ALSO, this syntax prints out the world I despise\n",
    "\n",
    "print(\"Hello World!\")"
   ]
  },
  {
   "cell_type": "markdown",
   "metadata": {},
   "source": [
    "Notice how the comment didn't print out, thanks comments for storring my dirty little secrets\n",
    "\n",
    "- you can also utilize #comments to make your code more readable (obviously very helpful for new programmers cause let's face it....Your code will most likely look like shit."
   ]
  },
  {
   "cell_type": "code",
   "execution_count": 7,
   "metadata": {},
   "outputs": [
    {
     "name": "stdout",
     "output_type": "stream",
     "text": [
      "Hello world!\n"
     ]
    }
   ],
   "source": [
    "print(\"Hello world!\")"
   ]
  },
  {
   "cell_type": "markdown",
   "metadata": {},
   "source": [
    "### What color shirt do I want to wear  <span style=\"color:red\">today</span>?\n",
    "\n",
    "Comments don't only need to be text explaining code, comments can also be used to prevent Python from printing out certain code or lines. "
   ]
  },
  {
   "cell_type": "code",
   "execution_count": 11,
   "metadata": {},
   "outputs": [
    {
     "name": "stdout",
     "output_type": "stream",
     "text": [
      "Red shirt\n"
     ]
    }
   ],
   "source": [
    "print(\"Red shirt\")\n",
    "#print(\"Blue shirt\")"
   ]
  },
  {
   "cell_type": "markdown",
   "metadata": {},
   "source": [
    "Guess we're going with a <span style=\"color:red\">red</span> shirt today."
   ]
  },
  {
   "cell_type": "markdown",
   "metadata": {},
   "source": [
    "### Why go with one optiong when you can go with MULTI options\n",
    "\n",
    "Well actually, Python doesn't have a syntax for multi-line code (sorry for being a lil misleading, but I'm not sorry.\n",
    "\n",
    "- In order to have multi line comments you will need to add a (#) \n",
    "\n",
    "* PLAYING DIRTY: Another multiline technique (though not really inteded to be used for this) is to use a multiline string. \n",
    "    - In order to use a multi line string you will need to use TRIPLE QUOTES (\"\"\") \n",
    "          * This can be accomplished due to Python ignoring (string literals) that are not asigned to variables\n",
    "          * You can add multi line srings (tripple quotes) within your code. You can then enter your multi line comment within the quotes."
   ]
  },
  {
   "cell_type": "markdown",
   "metadata": {},
   "source": [
    " EXAMPLE:"
   ]
  },
  {
   "cell_type": "code",
   "execution_count": 14,
   "metadata": {},
   "outputs": [
    {
     "name": "stdout",
     "output_type": "stream",
     "text": [
      "Hello Jupyter!\n"
     ]
    }
   ],
   "source": [
    "\"\"\"\n",
    "this\n",
    "is \n",
    "a \n",
    "multi-line\n",
    "comment\n",
    "\"\"\"\n",
    "print(\"Hello Jupyter!\")"
   ]
  }
 ],
 "metadata": {
  "kernelspec": {
   "display_name": "Python 3",
   "language": "python",
   "name": "python3"
  },
  "language_info": {
   "codemirror_mode": {
    "name": "ipython",
    "version": 3
   },
   "file_extension": ".py",
   "mimetype": "text/x-python",
   "name": "python",
   "nbconvert_exporter": "python",
   "pygments_lexer": "ipython3",
   "version": "3.7.6"
  }
 },
 "nbformat": 4,
 "nbformat_minor": 4
}
