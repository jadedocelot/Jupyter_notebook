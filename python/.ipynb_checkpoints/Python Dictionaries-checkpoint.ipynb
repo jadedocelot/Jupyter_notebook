{
 "cells": [
  {
   "cell_type": "markdown",
   "metadata": {},
   "source": [
    "# Dictionaries\n",
    "\n",
    "A dictionary is a collection which is unordered, changeable and indexed. In Python dictionaries are written with curly brackets and they have keys and values."
   ]
  },
  {
   "cell_type": "code",
   "execution_count": 24,
   "metadata": {},
   "outputs": [
    {
     "name": "stdout",
     "output_type": "stream",
     "text": [
      "{'person': 'Edgar', 'gender': 'Male', 'birth_date': '8.28.1991'}\n"
     ]
    }
   ],
   "source": [
    "myDict = { \n",
    "   \"person\": \"Edgar\",\n",
    "    \"gender\": \"Male\",\n",
    "    \"birth_date\": \"8.28.1991\"\n",
    "}\n",
    "\n",
    "print(myDict)"
   ]
  },
  {
   "cell_type": "markdown",
   "metadata": {},
   "source": [
    "### Accessing Items\n",
    "\n",
    "You can access the items of a dictionary by referring to its key name, inside square brackets"
   ]
  },
  {
   "cell_type": "code",
   "execution_count": 36,
   "metadata": {},
   "outputs": [
    {
     "name": "stdout",
     "output_type": "stream",
     "text": [
      "Edgar\n"
     ]
    }
   ],
   "source": [
    "myDict = { \n",
    "   \"person\": \"Edgar\",\n",
    "   \"gender\": \"Male\",\n",
    "   \"birth_date\": \"8.28.1991\"\n",
    "}\n",
    "\n",
    "factOne = myDict[\"person\"]\n",
    "# This will only present the value of \"person\"\n",
    "\n",
    "\n",
    "print(factOne)"
   ]
  },
  {
   "cell_type": "markdown",
   "metadata": {},
   "source": [
    "##### There is also a method calle <span style=\"color:orange\">get( )</span> that gives you the same result"
   ]
  },
  {
   "cell_type": "code",
   "execution_count": 41,
   "metadata": {},
   "outputs": [
    {
     "name": "stdout",
     "output_type": "stream",
     "text": [
      "8.28.1991\n"
     ]
    }
   ],
   "source": [
    "myDict = { \n",
    "   \"person\": \"Edgar\",\n",
    "   \"gender\": \"Male\",\n",
    "   \"birth_date\": \"8.28.1991\"\n",
    "}\n",
    "\n",
    "factOne = myDict.get(\"birth_date\")\n",
    "# This will only present the dictionary keys and not their values\n",
    "\n",
    "\n",
    "print(factOne)"
   ]
  },
  {
   "cell_type": "markdown",
   "metadata": {},
   "source": [
    "## change value\n",
    "\n",
    "you can change the value of a specific item by referring to its key name within square brackets:"
   ]
  },
  {
   "cell_type": "code",
   "execution_count": 38,
   "metadata": {},
   "outputs": [
    {
     "name": "stdout",
     "output_type": "stream",
     "text": [
      "{'person': 'Edgar', 'gender': 'female', 'birth_date': '8.28.1991'}\n"
     ]
    }
   ],
   "source": [
    "myDict = { \n",
    "   \"person\": \"Edgar\",\n",
    "   \"gender\": \"Male\",\n",
    "   \"birth_date\": \"8.28.1991\"\n",
    "}\n",
    "\n",
    "\n",
    "myDict[\"gender\"] = \"female\"\n",
    "\n",
    "print(myDict) "
   ]
  },
  {
   "cell_type": "markdown",
   "metadata": {},
   "source": [
    "### Loop through a Dictionary\n",
    "\n",
    "You can loop through a dictionary by using a (for) loop.\n",
    "\n",
    "When looping through a dictionary, the return value are the keys of of the dictionary, but there are methods to return the value as well."
   ]
  },
  {
   "cell_type": "code",
   "execution_count": 40,
   "metadata": {},
   "outputs": [
    {
     "name": "stdout",
     "output_type": "stream",
     "text": [
      "person\n",
      "gender\n",
      "birth_date\n"
     ]
    }
   ],
   "source": [
    "myDict = { \n",
    "   \"person\": \"Edgar\",\n",
    "   \"gender\": \"Male\",\n",
    "   \"birth_date\": \"8.28.1991\"\n",
    "}\n",
    "\n",
    "\n",
    "for x in myDict:\n",
    "    print(x)\n"
   ]
  },
  {
   "cell_type": "markdown",
   "metadata": {},
   "source": [
    "The following loop method will print out the values one by one"
   ]
  },
  {
   "cell_type": "code",
   "execution_count": null,
   "metadata": {},
   "outputs": [],
   "source": [
    "myDict = { \n",
    "   \"person\": \"Edgar\",\n",
    "   \"gender\": \"Male\",\n",
    "   \"birth_date\": \"8.28.1991\"\n",
    "}\n",
    "\n",
    "\n",
    "for x in myDict:\n",
    "\tprint(myDict[x])"
   ]
  },
  {
   "cell_type": "markdown",
   "metadata": {},
   "source": [
    "#### .values( ) method can also be used to return the values"
   ]
  },
  {
   "cell_type": "code",
   "execution_count": 43,
   "metadata": {},
   "outputs": [
    {
     "name": "stdout",
     "output_type": "stream",
     "text": [
      "Edgar\n",
      "Male\n",
      "8.28.1991\n"
     ]
    }
   ],
   "source": [
    "myDict = { \n",
    "   \"person\": \"Edgar\",\n",
    "   \"gender\": \"Male\",\n",
    "   \"birth_date\": \"8.28.1991\"\n",
    "}\n",
    "\n",
    "\n",
    "for x in myDict.values():\n",
    "    print(x)"
   ]
  },
  {
   "cell_type": "markdown",
   "metadata": {},
   "source": [
    "You can even loop through a dictionary and obtain both keys and values, one will need to use the items() method"
   ]
  },
  {
   "cell_type": "code",
   "execution_count": 44,
   "metadata": {},
   "outputs": [
    {
     "name": "stdout",
     "output_type": "stream",
     "text": [
      "person Edgar\n",
      "gender Male\n",
      "birth_date 8.28.1991\n"
     ]
    }
   ],
   "source": [
    "myDict = { \n",
    "   \"person\": \"Edgar\",\n",
    "   \"gender\": \"Male\",\n",
    "   \"birth_date\": \"8.28.1991\"\n",
    "}\n",
    "\n",
    "\n",
    "for x,y in myDict.items():\n",
    "    print(x,y)\n"
   ]
  },
  {
   "cell_type": "markdown",
   "metadata": {},
   "source": [
    "#### Check if Key Exists\n",
    "\n",
    "To determine if a specified key is present in a dictionary use the (in) keyword: "
   ]
  },
  {
   "cell_type": "code",
   "execution_count": 46,
   "metadata": {},
   "outputs": [
    {
     "name": "stdout",
     "output_type": "stream",
     "text": [
      "Key was located in dictionary!\n"
     ]
    }
   ],
   "source": [
    "myDict = { \n",
    "   \"person\": \"Edgar\",\n",
    "   \"gender\": \"Male\",\n",
    "   \"birth_date\": \"8.28.1991\"\n",
    "}\n",
    "\n",
    "if \"gender\" in myDict:\n",
    "    print(\"Key was located in dictionary!\")"
   ]
  },
  {
   "cell_type": "markdown",
   "metadata": {},
   "source": [
    "### Dictionary Length\n",
    "\n",
    "To determine how many items (key-value pairs) a dictionary has, use len() funtion"
   ]
  },
  {
   "cell_type": "code",
   "execution_count": 47,
   "metadata": {},
   "outputs": [
    {
     "name": "stdout",
     "output_type": "stream",
     "text": [
      "3\n"
     ]
    }
   ],
   "source": [
    "myDict = { \n",
    "   \"person\": \"Edgar\",\n",
    "   \"gender\": \"Male\",\n",
    "   \"birth_date\": \"8.28.1991\"\n",
    "}\n",
    "\n",
    "#if \"gender\" in myDict:\n",
    "# print(\"Key was located in dictionary!\")\n",
    "\n",
    "print(len(myDict)) # This will output the number of (KEYS) within the dictionary"
   ]
  },
  {
   "cell_type": "markdown",
   "metadata": {},
   "source": [
    "### Adding items\n",
    "\n",
    "Adding an item to the dictionary is done by using a NEW index key and assigning a value to it:"
   ]
  },
  {
   "cell_type": "code",
   "execution_count": 48,
   "metadata": {},
   "outputs": [
    {
     "name": "stdout",
     "output_type": "stream",
     "text": [
      "{'person': 'Edgar', 'gender': 'Male', 'birth_date': '8.28.1991', 'favorite_color': 'red'}\n"
     ]
    }
   ],
   "source": [
    "myDict = { \n",
    "   \"person\": \"Edgar\",\n",
    "   \"gender\": \"Male\",\n",
    "   \"birth_date\": \"8.28.1991\"\n",
    "}\n",
    "\n",
    "\n",
    "myDict[\"favorite_color\"] = \"red\"\n",
    "\n",
    "\n",
    "print(myDict)"
   ]
  },
  {
   "cell_type": "markdown",
   "metadata": {},
   "source": [
    "### Removing Items\n",
    "\n",
    "There are several methods to remove items from a dictionary:"
   ]
  },
  {
   "cell_type": "markdown",
   "metadata": {},
   "source": [
    "### <span style=\"color:green\">pop ( ) "
   ]
  },
  {
   "cell_type": "code",
   "execution_count": 49,
   "metadata": {},
   "outputs": [
    {
     "name": "stdout",
     "output_type": "stream",
     "text": [
      "{'person': 'Edgar', 'gender': 'Male', 'birth_date': '8.28.1991'}\n"
     ]
    }
   ],
   "source": [
    "myDict = { \n",
    "   \"person\": \"Edgar\",\n",
    "   \"gender\": \"Male\",\n",
    "   \"birth_date\": \"8.28.1991\"\n",
    "}\n",
    "\n",
    "\n",
    "myDict[\"favorite_color\"] = \"red\"\n",
    "\n",
    "\n",
    "myDict.pop(\"favorite_color\")\n",
    "\n",
    "print(myDict)"
   ]
  },
  {
   "cell_type": "markdown",
   "metadata": {},
   "source": [
    "### \"Fuck it, pop off whatever you want\"\n",
    "\n",
    "If you would like to remove a random item then it is recommended to use popitem() method\n",
    "\n",
    "<span style = \"color:red\">NOTE </span>: Py version 3.7 just recently updated the popite() method to remove randiom key/value. In the past it would remove the last element of the dictionary."
   ]
  },
  {
   "cell_type": "code",
   "execution_count": 51,
   "metadata": {},
   "outputs": [
    {
     "name": "stdout",
     "output_type": "stream",
     "text": [
      "{'person': 'Edgar', 'gender': 'Male', 'birth_date': '8.28.1991'}\n"
     ]
    }
   ],
   "source": [
    "myDict = { \n",
    "   \"person\": \"Edgar\",\n",
    "   \"gender\": \"Male\",\n",
    "   \"birth_date\": \"8.28.1991\"\n",
    "}\n",
    "\n",
    "\n",
    "myDict[\"favorite_color\"] = \"red\"\n",
    "\n",
    "\n",
    "myDict.pop(\"favorite_color\")\n",
    "\n",
    "print(myDict)"
   ]
  },
  {
   "cell_type": "markdown",
   "metadata": {},
   "source": [
    "#### The (del) keyword removes the item with the specified key name"
   ]
  },
  {
   "cell_type": "code",
   "execution_count": 53,
   "metadata": {},
   "outputs": [
    {
     "name": "stdout",
     "output_type": "stream",
     "text": [
      "{'person': 'Edgar', 'birth_date': '8.28.1991'}\n"
     ]
    }
   ],
   "source": [
    "myDict = { \n",
    "   \"person\": \"Edgar\",\n",
    "   \"gender\": \"Male\",\n",
    "   \"birth_date\": \"8.28.1991\"\n",
    "}\n",
    "\n",
    "myDict[\"favorite_color\"] = \"red\"\n",
    "myDict.pop(\"favorite_color\")\n",
    "\n",
    "del myDict [\"gender\"]\n",
    "\n",
    "print(myDict)"
   ]
  },
  {
   "cell_type": "markdown",
   "metadata": {},
   "source": [
    "## To empty out a dictionary you can use the clear( ) method "
   ]
  },
  {
   "cell_type": "code",
   "execution_count": 55,
   "metadata": {},
   "outputs": [
    {
     "name": "stdout",
     "output_type": "stream",
     "text": [
      "{}\n"
     ]
    }
   ],
   "source": [
    "myDict = { \n",
    "   \"person\": \"Edgar\",\n",
    "   \"gender\": \"Male\",\n",
    "   \"birth_date\": \"8.28.1991\"\n",
    "}\n",
    "\n",
    "myDict[\"favorite_color\"] = \"red\"\n",
    "myDict.pop(\"favorite_color\")\n",
    "\n",
    "myDict.clear()\n",
    "\n",
    "print(myDict) # This will Output an empty dictionary "
   ]
  },
  {
   "cell_type": "markdown",
   "metadata": {},
   "source": [
    "### Copy a Dictionary\n",
    "\n",
    "You cannot copy a dictionary simply by typing dict2 = dict1, because: (dict2) will only be a reference to dict1, and changes made in dict1 will automatically also be made in dict2."
   ]
  },
  {
   "cell_type": "code",
   "execution_count": 56,
   "metadata": {},
   "outputs": [
    {
     "name": "stdout",
     "output_type": "stream",
     "text": [
      "{'person': 'Edgar', 'birth_date': '8.28.1991'}\n",
      "{'person': 'Edgar', 'birth_date': '8.28.1991'}\n"
     ]
    }
   ],
   "source": [
    "myDict = { \n",
    "   \"person\": \"Edgar\",\n",
    "   \"gender\": \"Male\",\n",
    "   \"birth_date\": \"8.28.1991\"\n",
    "}\n",
    "\n",
    "myDictTwo = myDict \n",
    "\n",
    "\n",
    "myDict.pop(\"gender\") # This will remove the \"gender\" key from (myDict) and (myDictTwo)\n",
    "\n",
    "\n",
    "print(myDict) \n",
    "print(myDictTwo)"
   ]
  },
  {
   "cell_type": "markdown",
   "metadata": {},
   "source": [
    "There are ways to make a copy, one way is to use a built-in dictionary method copy() method"
   ]
  },
  {
   "cell_type": "code",
   "execution_count": 58,
   "metadata": {},
   "outputs": [
    {
     "name": "stdout",
     "output_type": "stream",
     "text": [
      "{'person': 'Edgar', 'birth_date': '8.28.1991'}\n",
      "{'person': 'Edgar', 'gender': 'Male', 'birth_date': '8.28.1991'}\n"
     ]
    }
   ],
   "source": [
    "myDict = { \n",
    "   \"person\": \"Edgar\",\n",
    "   \"gender\": \"Male\",\n",
    "   \"birth_date\": \"8.28.1991\"\n",
    "}\n",
    "\n",
    "myDictTwo = myDict.copy()\n",
    "#myDictTwo is not only a copy of myDict but also it's own entity, which means changes made to myDict will not  be applied to myDictTwo\n",
    "\n",
    "myDict.pop(\"gender\")\n",
    "\n",
    "print(myDict)\n",
    "print(myDictTwo)"
   ]
  },
  {
   "cell_type": "code",
   "execution_count": null,
   "metadata": {},
   "outputs": [],
   "source": []
  },
  {
   "cell_type": "code",
   "execution_count": null,
   "metadata": {},
   "outputs": [],
   "source": []
  },
  {
   "cell_type": "code",
   "execution_count": null,
   "metadata": {},
   "outputs": [],
   "source": []
  },
  {
   "cell_type": "code",
   "execution_count": null,
   "metadata": {},
   "outputs": [],
   "source": []
  },
  {
   "cell_type": "code",
   "execution_count": null,
   "metadata": {},
   "outputs": [],
   "source": []
  },
  {
   "cell_type": "code",
   "execution_count": null,
   "metadata": {},
   "outputs": [],
   "source": []
  }
 ],
 "metadata": {
  "kernelspec": {
   "display_name": "Python 3",
   "language": "python",
   "name": "python3"
  },
  "language_info": {
   "codemirror_mode": {
    "name": "ipython",
    "version": 3
   },
   "file_extension": ".py",
   "mimetype": "text/x-python",
   "name": "python",
   "nbconvert_exporter": "python",
   "pygments_lexer": "ipython3",
   "version": "3.7.6"
  }
 },
 "nbformat": 4,
 "nbformat_minor": 4
}
