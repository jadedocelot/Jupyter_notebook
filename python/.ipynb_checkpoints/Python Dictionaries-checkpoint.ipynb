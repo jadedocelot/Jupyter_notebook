{
 "cells": [
  {
   "cell_type": "markdown",
   "metadata": {},
   "source": [
    "# Dictionaries\n",
    "\n",
    "A dictionary is a collection which is unordered, changeable and indexed. In Python dictionaries are written with curly brackets and they have keys and values."
   ]
  },
  {
   "cell_type": "code",
   "execution_count": 24,
   "metadata": {},
   "outputs": [
    {
     "name": "stdout",
     "output_type": "stream",
     "text": [
      "{'person': 'Edgar', 'gender': 'Male', 'birth_date': '8.28.1991'}\n"
     ]
    }
   ],
   "source": [
    "myDict = { \n",
    "   \"person\": \"Edgar\",\n",
    "    \"gender\": \"Male\",\n",
    "    \"birth_date\": \"8.28.1991\"\n",
    "}\n",
    "\n",
    "print(myDict)"
   ]
  },
  {
   "cell_type": "markdown",
   "metadata": {},
   "source": [
    "### Accessing Items\n",
    "\n",
    "You can access the items of a dictionary by referring to its key name, inside square brackets"
   ]
  },
  {
   "cell_type": "code",
   "execution_count": 36,
   "metadata": {},
   "outputs": [
    {
     "name": "stdout",
     "output_type": "stream",
     "text": [
      "Edgar\n"
     ]
    }
   ],
   "source": [
    "myDict = { \n",
    "   \"person\": \"Edgar\",\n",
    "   \"gender\": \"Male\",\n",
    "   \"birth_date\": \"8.28.1991\"\n",
    "}\n",
    "\n",
    "factOne = myDict[\"person\"]\n",
    "# This will only present the value of \"person\"\n",
    "\n",
    "\n",
    "print(factOne)"
   ]
  },
  {
   "cell_type": "markdown",
   "metadata": {},
   "source": [
    "##### There is also a method calle <span style=\"color:orange\">get( )</span> that gives you the same result"
   ]
  },
  {
   "cell_type": "code",
   "execution_count": 41,
   "metadata": {},
   "outputs": [
    {
     "name": "stdout",
     "output_type": "stream",
     "text": [
      "8.28.1991\n"
     ]
    }
   ],
   "source": [
    "myDict = { \n",
    "   \"person\": \"Edgar\",\n",
    "   \"gender\": \"Male\",\n",
    "   \"birth_date\": \"8.28.1991\"\n",
    "}\n",
    "\n",
    "factOne = myDict.get(\"birth_date\")\n",
    "# This will only present the dictionary keys and not their values\n",
    "\n",
    "\n",
    "print(factOne)"
   ]
  },
  {
   "cell_type": "markdown",
   "metadata": {},
   "source": [
    "## change value\n",
    "\n",
    "you can change the value of a specific item by referring to its key name within square brackets:"
   ]
  },
  {
   "cell_type": "code",
   "execution_count": 38,
   "metadata": {},
   "outputs": [
    {
     "name": "stdout",
     "output_type": "stream",
     "text": [
      "{'person': 'Edgar', 'gender': 'female', 'birth_date': '8.28.1991'}\n"
     ]
    }
   ],
   "source": [
    "myDict = { \n",
    "   \"person\": \"Edgar\",\n",
    "   \"gender\": \"Male\",\n",
    "   \"birth_date\": \"8.28.1991\"\n",
    "}\n",
    "\n",
    "\n",
    "myDict[\"gender\"] = \"female\"\n",
    "\n",
    "print(myDict) "
   ]
  },
  {
   "cell_type": "markdown",
   "metadata": {},
   "source": [
    "### Loop through a Dictionary\n",
    "\n",
    "You can loop through a dictionary by using a (for) loop.\n",
    "\n",
    "When looping through a dictionary, the return value are the keys of of the dictionary, but there are methods to return the value as well."
   ]
  },
  {
   "cell_type": "code",
   "execution_count": 40,
   "metadata": {},
   "outputs": [
    {
     "name": "stdout",
     "output_type": "stream",
     "text": [
      "person\n",
      "gender\n",
      "birth_date\n"
     ]
    }
   ],
   "source": [
    "myDict = { \n",
    "   \"person\": \"Edgar\",\n",
    "   \"gender\": \"Male\",\n",
    "   \"birth_date\": \"8.28.1991\"\n",
    "}\n",
    "\n",
    "\n",
    "for x in myDict:\n",
    "    print(x)\n"
   ]
  },
  {
   "cell_type": "markdown",
   "metadata": {},
   "source": [
    "The following loop method will print out the values one by one"
   ]
  },
  {
   "cell_type": "code",
   "execution_count": null,
   "metadata": {},
   "outputs": [],
   "source": [
    "myDict = { \n",
    "   \"person\": \"Edgar\",\n",
    "   \"gender\": \"Male\",\n",
    "   \"birth_date\": \"8.28.1991\"\n",
    "}\n",
    "\n",
    "\n",
    "for x in myDict:\n",
    "\tprint(myDict[x])"
   ]
  },
  {
   "cell_type": "markdown",
   "metadata": {},
   "source": [
    "#### .values( ) method can also be used to return the values"
   ]
  },
  {
   "cell_type": "code",
   "execution_count": 43,
   "metadata": {},
   "outputs": [
    {
     "name": "stdout",
     "output_type": "stream",
     "text": [
      "Edgar\n",
      "Male\n",
      "8.28.1991\n"
     ]
    }
   ],
   "source": [
    "myDict = { \n",
    "   \"person\": \"Edgar\",\n",
    "   \"gender\": \"Male\",\n",
    "   \"birth_date\": \"8.28.1991\"\n",
    "}\n",
    "\n",
    "\n",
    "for x in myDict.values():\n",
    "    print(x)"
   ]
  },
  {
   "cell_type": "markdown",
   "metadata": {},
   "source": [
    "You can even loop through a dictionary and obtain both keys and values, one will need to use the items() method"
   ]
  },
  {
   "cell_type": "code",
   "execution_count": 44,
   "metadata": {},
   "outputs": [
    {
     "name": "stdout",
     "output_type": "stream",
     "text": [
      "person Edgar\n",
      "gender Male\n",
      "birth_date 8.28.1991\n"
     ]
    }
   ],
   "source": [
    "myDict = { \n",
    "   \"person\": \"Edgar\",\n",
    "   \"gender\": \"Male\",\n",
    "   \"birth_date\": \"8.28.1991\"\n",
    "}\n",
    "\n",
    "\n",
    "for x,y in myDict.items():\n",
    "    print(x,y)\n"
   ]
  },
  {
   "cell_type": "markdown",
   "metadata": {},
   "source": [
    "#### Check if Key Exists\n",
    "\n",
    "To determine if a specified key is present in a dictionary use the (in) keyword: "
   ]
  },
  {
   "cell_type": "code",
   "execution_count": 46,
   "metadata": {},
   "outputs": [
    {
     "name": "stdout",
     "output_type": "stream",
     "text": [
      "Key was located in dictionary!\n"
     ]
    }
   ],
   "source": [
    "myDict = { \n",
    "   \"person\": \"Edgar\",\n",
    "   \"gender\": \"Male\",\n",
    "   \"birth_date\": \"8.28.1991\"\n",
    "}\n",
    "\n",
    "if \"gender\" in myDict:\n",
    "    print(\"Key was located in dictionary!\")"
   ]
  },
  {
   "cell_type": "markdown",
   "metadata": {},
   "source": [
    "### Dictionary Length\n",
    "\n",
    "To determine how many items (key-value pairs) a dictionary has, use len() funtion"
   ]
  },
  {
   "cell_type": "code",
   "execution_count": 47,
   "metadata": {},
   "outputs": [
    {
     "name": "stdout",
     "output_type": "stream",
     "text": [
      "3\n"
     ]
    }
   ],
   "source": [
    "myDict = { \n",
    "   \"person\": \"Edgar\",\n",
    "   \"gender\": \"Male\",\n",
    "   \"birth_date\": \"8.28.1991\"\n",
    "}\n",
    "\n",
    "#if \"gender\" in myDict:\n",
    "# print(\"Key was located in dictionary!\")\n",
    "\n",
    "print(len(myDict)) # This will output the number of (KEYS) within the dictionary"
   ]
  },
  {
   "cell_type": "markdown",
   "metadata": {},
   "source": [
    "### Adding items\n",
    "\n",
    "Adding an item to the dictionary is done by using a NEW index key and assigning a value to it:"
   ]
  },
  {
   "cell_type": "code",
   "execution_count": 48,
   "metadata": {},
   "outputs": [
    {
     "name": "stdout",
     "output_type": "stream",
     "text": [
      "{'person': 'Edgar', 'gender': 'Male', 'birth_date': '8.28.1991', 'favorite_color': 'red'}\n"
     ]
    }
   ],
   "source": [
    "myDict = { \n",
    "   \"person\": \"Edgar\",\n",
    "   \"gender\": \"Male\",\n",
    "   \"birth_date\": \"8.28.1991\"\n",
    "}\n",
    "\n",
    "\n",
    "myDict[\"favorite_color\"] = \"red\"\n",
    "\n",
    "\n",
    "print(myDict)"
   ]
  },
  {
   "cell_type": "markdown",
   "metadata": {},
   "source": [
    "### Removing Items\n",
    "\n",
    "There are several methods to remove items from a dictionary:"
   ]
  },
  {
   "cell_type": "markdown",
   "metadata": {},
   "source": [
    "### <span style=\"color:green\">pop ( ) "
   ]
  },
  {
   "cell_type": "code",
   "execution_count": 49,
   "metadata": {},
   "outputs": [
    {
     "name": "stdout",
     "output_type": "stream",
     "text": [
      "{'person': 'Edgar', 'gender': 'Male', 'birth_date': '8.28.1991'}\n"
     ]
    }
   ],
   "source": [
    "myDict = { \n",
    "   \"person\": \"Edgar\",\n",
    "   \"gender\": \"Male\",\n",
    "   \"birth_date\": \"8.28.1991\"\n",
    "}\n",
    "\n",
    "\n",
    "myDict[\"favorite_color\"] = \"red\"\n",
    "\n",
    "\n",
    "myDict.pop(\"favorite_color\")\n",
    "\n",
    "print(myDict)"
   ]
  },
  {
   "cell_type": "markdown",
   "metadata": {},
   "source": [
    "### \"Fuck it, pop off whatever you want\"\n",
    "\n",
    "If you would like to remove a random item then it is recommended to use popitem() method\n",
    "\n",
    "<span style = \"color:red\">NOTE </span>: Py version 3.7 just recently updated the popite() method to remove randiom key/value. In the past it would remove the last element of the dictionary."
   ]
  },
  {
   "cell_type": "code",
   "execution_count": 51,
   "metadata": {},
   "outputs": [
    {
     "name": "stdout",
     "output_type": "stream",
     "text": [
      "{'person': 'Edgar', 'gender': 'Male', 'birth_date': '8.28.1991'}\n"
     ]
    }
   ],
   "source": [
    "myDict = { \n",
    "   \"person\": \"Edgar\",\n",
    "   \"gender\": \"Male\",\n",
    "   \"birth_date\": \"8.28.1991\"\n",
    "}\n",
    "\n",
    "\n",
    "myDict[\"favorite_color\"] = \"red\"\n",
    "\n",
    "\n",
    "myDict.pop(\"favorite_color\")\n",
    "\n",
    "print(myDict)"
   ]
  },
  {
   "cell_type": "markdown",
   "metadata": {},
   "source": [
    "#### The (del) keyword removes the item with the specified key name"
   ]
  },
  {
   "cell_type": "code",
   "execution_count": 53,
   "metadata": {},
   "outputs": [
    {
     "name": "stdout",
     "output_type": "stream",
     "text": [
      "{'person': 'Edgar', 'birth_date': '8.28.1991'}\n"
     ]
    }
   ],
   "source": [
    "myDict = { \n",
    "   \"person\": \"Edgar\",\n",
    "   \"gender\": \"Male\",\n",
    "   \"birth_date\": \"8.28.1991\"\n",
    "}\n",
    "\n",
    "myDict[\"favorite_color\"] = \"red\"\n",
    "myDict.pop(\"favorite_color\")\n",
    "\n",
    "del myDict [\"gender\"]\n",
    "\n",
    "print(myDict)"
   ]
  },
  {
   "cell_type": "markdown",
   "metadata": {},
   "source": [
    "## To empty out a dictionary you can use the clear( ) method "
   ]
  },
  {
   "cell_type": "code",
   "execution_count": 55,
   "metadata": {},
   "outputs": [
    {
     "name": "stdout",
     "output_type": "stream",
     "text": [
      "{}\n"
     ]
    }
   ],
   "source": [
    "myDict = { \n",
    "   \"person\": \"Edgar\",\n",
    "   \"gender\": \"Male\",\n",
    "   \"birth_date\": \"8.28.1991\"\n",
    "}\n",
    "\n",
    "myDict[\"favorite_color\"] = \"red\"\n",
    "myDict.pop(\"favorite_color\")\n",
    "\n",
    "myDict.clear()\n",
    "\n",
    "print(myDict) # This will Output an empty dictionary "
   ]
  },
  {
   "cell_type": "markdown",
   "metadata": {},
   "source": [
    "### Copy a Dictionary\n",
    "\n",
    "You cannot copy a dictionary simply by typing dict2 = dict1, because: (dict2) will only be a reference to dict1, and changes made in dict1 will automatically also be made in dict2."
   ]
  },
  {
   "cell_type": "code",
   "execution_count": 56,
   "metadata": {},
   "outputs": [
    {
     "name": "stdout",
     "output_type": "stream",
     "text": [
      "{'person': 'Edgar', 'birth_date': '8.28.1991'}\n",
      "{'person': 'Edgar', 'birth_date': '8.28.1991'}\n"
     ]
    }
   ],
   "source": [
    "myDict = { \n",
    "   \"person\": \"Edgar\",\n",
    "   \"gender\": \"Male\",\n",
    "   \"birth_date\": \"8.28.1991\"\n",
    "}\n",
    "\n",
    "myDictTwo = myDict \n",
    "\n",
    "\n",
    "myDict.pop(\"gender\") # This will remove the \"gender\" key from (myDict) and (myDictTwo)\n",
    "\n",
    "\n",
    "print(myDict) \n",
    "print(myDictTwo)"
   ]
  },
  {
   "cell_type": "markdown",
   "metadata": {},
   "source": [
    "#### There are ways to make a copy, one way is to use a built-in dictionary method copy() method"
   ]
  },
  {
   "cell_type": "code",
   "execution_count": 58,
   "metadata": {},
   "outputs": [
    {
     "name": "stdout",
     "output_type": "stream",
     "text": [
      "{'person': 'Edgar', 'birth_date': '8.28.1991'}\n",
      "{'person': 'Edgar', 'gender': 'Male', 'birth_date': '8.28.1991'}\n"
     ]
    }
   ],
   "source": [
    "myDict = { \n",
    "   \"person\": \"Edgar\",\n",
    "   \"gender\": \"Male\",\n",
    "   \"birth_date\": \"8.28.1991\"\n",
    "}\n",
    "\n",
    "myDictTwo = myDict.copy()\n",
    "#myDictTwo is not only a copy of myDict but also it's own entity, which means changes made to myDict will not  be applied to myDictTwo\n",
    "\n",
    "myDict.pop(\"gender\")\n",
    "\n",
    "print(myDict)\n",
    "print(myDictTwo)"
   ]
  },
  {
   "cell_type": "markdown",
   "metadata": {},
   "source": [
    "##### Another way to copy a dictionary is by using another built-in function python provides which is the dict() method"
   ]
  },
  {
   "cell_type": "code",
   "execution_count": 59,
   "metadata": {},
   "outputs": [
    {
     "name": "stdout",
     "output_type": "stream",
     "text": [
      "{'person': 'Edgar', 'birth_date': '8.28.1991'}\n",
      "{'person': 'Edgar', 'gender': 'Male', 'birth_date': '8.28.1991'}\n"
     ]
    }
   ],
   "source": [
    "myDict = { \n",
    "   \"person\": \"Edgar\",\n",
    "   \"gender\": \"Male\",\n",
    "   \"birth_date\": \"8.28.1991\"\n",
    "}\n",
    "\n",
    "myDictTwo = dict(myDict) #myDictTwo is not only a copy of myDict but also it's own entity, which means changes made to myDict will not  be applied to myDictTwo\n",
    "\n",
    "myDict.pop(\"gender\")\n",
    "\n",
    "print(myDict)\n",
    "print(myDictTwo)"
   ]
  },
  {
   "cell_type": "markdown",
   "metadata": {},
   "source": [
    "# Nested Dictionaries\n",
    "\n",
    "A dictionary can also contain many dictionaries, this is called nested dictionaries"
   ]
  },
  {
   "cell_type": "code",
   "execution_count": 71,
   "metadata": {},
   "outputs": [
    {
     "name": "stdout",
     "output_type": "stream",
     "text": [
      "{'femaleOne': {'person': 'jenny', 'gender': 'Female', 'birth_date': '3.29.1974'}, 'maleOne': {'person': 'Edgar', 'gender': 'Male', 'birth_date': '8.28.1991'}, 'femaleTwo': {'person': 'Alice', 'gender': 'Female', 'birth_date': '9.13.1984'}, 'binaryOne': {'name': 'Ash', 'gnder': 'Neurtral', 'birth_date': '2.4.1990'}}\n"
     ]
    }
   ],
   "source": [
    "myDict = { \n",
    "\n",
    "\"femaleOne\": { \n",
    "\"person\":\"jenny\",\n",
    "\"gender\":\"Female\",\n",
    "\"birth_date\":\"3.29.1974\"\n",
    "\n",
    "},\n",
    "\n",
    "\"maleOne\": {\n",
    "\"person\": \"Edgar\",\n",
    "\"gender\": \"Male\",\n",
    "\"birth_date\": \"8.28.1991\"\n",
    "\n",
    "},\n",
    "\n",
    "\"femaleTwo\": {\n",
    "\"person\":\"Alice\",\n",
    "\"gender\":\"Female\",\n",
    "\"birth_date\":\"9.13.1984\"\n",
    "\n",
    "},\n",
    "\n",
    "\"binaryOne\": {\n",
    "\"name\":\"Ash\",\n",
    "\"gnder\":\"Neurtral\",\n",
    "\"birth_date\":\"2.4.1990\",\n",
    "\n",
    "}\n",
    "\n",
    "}\n",
    "\n",
    "print(myDict)"
   ]
  },
  {
   "cell_type": "markdown",
   "metadata": {},
   "source": [
    "### or, if you want to nest three dictionaries that already exists in dictionaries:"
   ]
  },
  {
   "cell_type": "code",
   "execution_count": 76,
   "metadata": {},
   "outputs": [
    {
     "name": "stdout",
     "output_type": "stream",
     "text": [
      "{'edgar': {'person': 'Edgar', 'gender': 'Male', 'birth_date': '8.28.1991'}, 'sam': {'person': 'Sam', 'gender': 'Female', 'birth_date': '9.3.1982'}, 'jake': {'person': 'Jake', 'gender': 'Male', 'birth_date': '5.4.1999'}}\n"
     ]
    }
   ],
   "source": [
    "myDict = { \n",
    "   \"person\": \"Edgar\",\n",
    "   \"gender\": \"Male\",\n",
    "   \"birth_date\": \"8.28.1991\"\n",
    "}\n",
    "\n",
    "\n",
    "\n",
    "herDict = { \n",
    "   \"person\": \"Sam\",\n",
    "   \"gender\": \"Female\",\n",
    "   \"birth_date\": \"9.3.1982\"\n",
    "}\n",
    "\n",
    "\n",
    "hisDict = { \n",
    "   \"person\": \"Jake\",\n",
    "   \"gender\": \"Male\",\n",
    "   \"birth_date\": \"5.4.1999\"\n",
    "}\n",
    "\n",
    "\n",
    "ourDict = { \n",
    "\n",
    "\"edgar\": myDict,\n",
    "\"sam\":herDict,\n",
    "\"jake\": hisDict\n",
    "\n",
    "}\n",
    "\n",
    "\n",
    "print(ourDict)"
   ]
  },
  {
   "cell_type": "markdown",
   "metadata": {},
   "source": [
    "## The dict( ) constructor\n",
    "\n",
    "It is possible to use the dict() constructor to make a new dictionary"
   ]
  },
  {
   "cell_type": "code",
   "execution_count": 74,
   "metadata": {},
   "outputs": [
    {
     "name": "stdout",
     "output_type": "stream",
     "text": [
      "{'person': 'Allison', 'gender': 'Female', 'birth_date': '5.12.1985'}\n"
     ]
    }
   ],
   "source": [
    "newDict = dict (person=\"Allison\", gender=\"Female\",birth_date=\"5.12.1985\")\n",
    "# note that keywords are not string literals\n",
    "# note the use of equals rather than colon for the assignment\n",
    "print(newDict)"
   ]
  },
  {
   "cell_type": "markdown",
   "metadata": {},
   "source": [
    "# Dictionary Methods\n",
    "\n",
    "Python has a set of built-in methods that you can use on dictionaries:"
   ]
  },
  {
   "cell_type": "markdown",
   "metadata": {},
   "source": [
    "#### fromkeys( ) \n",
    "\n",
    "Returns a dictionary whith the specified keys and value"
   ]
  },
  {
   "cell_type": "code",
   "execution_count": 85,
   "metadata": {},
   "outputs": [
    {
     "name": "stdout",
     "output_type": "stream",
     "text": [
      "{'key1': 0, 'key2': 0, 'key3': 0}\n"
     ]
    }
   ],
   "source": [
    "x = ('key1', 'key2', 'key3')\n",
    "y = 0\n",
    "\n",
    "thisdict = dict.fromkeys(x, y) ## This line: adds the value of y to each key within x\n",
    "\n",
    "print(thisdict)"
   ]
  },
  {
   "cell_type": "markdown",
   "metadata": {},
   "source": [
    "### items( ) \n",
    "\n",
    "Returns a list containing a (tuple) for each key value pair"
   ]
  },
  {
   "cell_type": "code",
   "execution_count": 87,
   "metadata": {},
   "outputs": [
    {
     "name": "stdout",
     "output_type": "stream",
     "text": [
      "dict_items([('brand', 'Ford'), ('model', 'Mustang'), ('year', 1964)])\n"
     ]
    }
   ],
   "source": [
    "car = {\n",
    "  \"brand\": \"Ford\",\n",
    "  \"model\": \"Mustang\",\n",
    "  \"year\": 1964\n",
    "}\n",
    "\n",
    "x = car.items()\n",
    "\n",
    "print(x)"
   ]
  },
  {
   "cell_type": "markdown",
   "metadata": {},
   "source": [
    " - The items() method returns a \"view object\". The \"view object\" contains the key-value pairs of the dictionary, as tuples in a list. \n",
    " \n",
    "- The view view object will \"REFLECTS\" any changes done to the dictionary, so at any point if that dictionary is updated, changes will be made to said item() method."
   ]
  },
  {
   "cell_type": "code",
   "execution_count": 102,
   "metadata": {},
   "outputs": [
    {
     "name": "stdout",
     "output_type": "stream",
     "text": [
      "dict_items([('brand', 'Ford'), ('model', 'Mustang'), ('year', 2018)])\n"
     ]
    }
   ],
   "source": [
    "car = {\n",
    "  \"brand\": \"Ford\",\n",
    "  \"model\": \"Mustang\",\n",
    "  \"year\": 1964\n",
    "}\n",
    "\n",
    "x = car.items()\n",
    "\n",
    "car[\"year\"] = 2018\n",
    "\n",
    "print(x)"
   ]
  },
  {
   "cell_type": "markdown",
   "metadata": {},
   "source": [
    "### keys( ) \n",
    "\n",
    "Returns a list containing the dictionary's keys"
   ]
  },
  {
   "cell_type": "code",
   "execution_count": null,
   "metadata": {},
   "outputs": [],
   "source": [
    "car = {\n",
    "  \"brand\": \"Ford\",\n",
    "  \"model\": \"Mustang\",\n",
    "  \"year\": 1964\n",
    "}\n",
    "\n",
    "x = car.keys()\n"
   ]
  },
  {
   "cell_type": "code",
   "execution_count": null,
   "metadata": {},
   "outputs": [],
   "source": []
  },
  {
   "cell_type": "code",
   "execution_count": null,
   "metadata": {},
   "outputs": [],
   "source": []
  },
  {
   "cell_type": "code",
   "execution_count": null,
   "metadata": {},
   "outputs": [],
   "source": []
  },
  {
   "cell_type": "code",
   "execution_count": null,
   "metadata": {},
   "outputs": [],
   "source": []
  }
 ],
 "metadata": {
  "kernelspec": {
   "display_name": "Python 3",
   "language": "python",
   "name": "python3"
  },
  "language_info": {
   "codemirror_mode": {
    "name": "ipython",
    "version": 3
   },
   "file_extension": ".py",
   "mimetype": "text/x-python",
   "name": "python",
   "nbconvert_exporter": "python",
   "pygments_lexer": "ipython3",
   "version": "3.7.6"
  }
 },
 "nbformat": 4,
 "nbformat_minor": 4
}
