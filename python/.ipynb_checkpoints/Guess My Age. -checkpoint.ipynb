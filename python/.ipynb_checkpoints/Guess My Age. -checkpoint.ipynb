{
 "cells": [
  {
   "cell_type": "markdown",
   "metadata": {},
   "source": [
    "## Guessing Game"
   ]
  },
  {
   "cell_type": "markdown",
   "metadata": {},
   "source": [
    "The example below presents a guessing game in python with a lil spicy time delay."
   ]
  },
  {
   "cell_type": "code",
   "execution_count": null,
   "metadata": {},
   "outputs": [],
   "source": [
    "age = 28\n",
    "switch = True \n",
    "import time \n",
    "\n",
    "while switch:\n",
    "    guess = int(input(\"Guess my age:\"))\n",
    "    if guess == age: \n",
    "        print(\"Congratulations, you guessed my age!\")\n",
    "        \n",
    "        switch = False\n",
    "        \n",
    "    elif guess < age: \n",
    "        print(\"No, I'm a bit older than that. \")\n",
    "        \n",
    "    else:\n",
    "        print(\"No, definitely younger than that my dude.\")\n",
    "else:\n",
    "    print(\"This loop will in...\")\n",
    "for i in range (1, 6):\n",
    "    print(i)\n",
    "    time.sleep(0.9)\n",
    "print(\"(fin)\")        "
   ]
  }
 ],
 "metadata": {
  "kernelspec": {
   "display_name": "Python 3",
   "language": "python",
   "name": "python3"
  },
  "language_info": {
   "codemirror_mode": {
    "name": "ipython",
    "version": 3
   },
   "file_extension": ".py",
   "mimetype": "text/x-python",
   "name": "python",
   "nbconvert_exporter": "python",
   "pygments_lexer": "ipython3",
   "version": "3.7.3"
  }
 },
 "nbformat": 4,
 "nbformat_minor": 4
}
