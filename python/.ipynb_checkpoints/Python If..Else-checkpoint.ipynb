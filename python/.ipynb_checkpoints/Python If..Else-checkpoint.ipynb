{
 "cells": [
  {
   "cell_type": "markdown",
   "metadata": {},
   "source": [
    "## Python Conditions and If statements\n",
    "\n",
    "Python supports the usual logical from mathmematics:"
   ]
  },
  {
   "cell_type": "markdown",
   "metadata": {},
   "source": [
    "#### Equals:"
   ]
  },
  {
   "cell_type": "markdown",
   "metadata": {},
   "source": [
    "a == b "
   ]
  },
  {
   "cell_type": "markdown",
   "metadata": {},
   "source": [
    "#### Not Equals:"
   ]
  },
  {
   "cell_type": "markdown",
   "metadata": {},
   "source": [
    "a != b "
   ]
  },
  {
   "cell_type": "markdown",
   "metadata": {},
   "source": [
    "#### Less than:"
   ]
  },
  {
   "cell_type": "markdown",
   "metadata": {},
   "source": [
    "a < b "
   ]
  },
  {
   "cell_type": "markdown",
   "metadata": {},
   "source": [
    "#### Greater than"
   ]
  },
  {
   "cell_type": "markdown",
   "metadata": {},
   "source": [
    "a > b"
   ]
  },
  {
   "cell_type": "markdown",
   "metadata": {},
   "source": [
    "#### Less than or equal to"
   ]
  },
  {
   "cell_type": "markdown",
   "metadata": {},
   "source": [
    "a <= b\n"
   ]
  },
  {
   "cell_type": "markdown",
   "metadata": {},
   "source": [
    "#### Greater than or equal to"
   ]
  },
  {
   "cell_type": "markdown",
   "metadata": {},
   "source": [
    "a >= b"
   ]
  },
  {
   "cell_type": "markdown",
   "metadata": {},
   "source": [
    "These conditions can be used in several ways, most commonly in \"if statements\" and loops."
   ]
  },
  {
   "cell_type": "markdown",
   "metadata": {},
   "source": [
    "An \"if statement\" is written by using the (if) keyword"
   ]
  },
  {
   "cell_type": "code",
   "execution_count": 1,
   "metadata": {},
   "outputs": [
    {
     "name": "stdout",
     "output_type": "stream",
     "text": [
      "A is just a bb next to B\n"
     ]
    }
   ],
   "source": [
    "a = 23 \n",
    "b = 43 \n",
    "\n",
    "if b > a: \n",
    "    print(\"A is just a bb next to B\")"
   ]
  },
  {
   "cell_type": "markdown",
   "metadata": {},
   "source": [
    "in the example we use two variables, a and b, which are used as part of the if statement to test whether b is greater than a. As a is 23 and b is 43, we know that b is in fact greater than a, so we then proceed to printing out \"A is just A bb next to B\""
   ]
  },
  {
   "cell_type": "markdown",
   "metadata": {},
   "source": [
    "## indedntation\n",
    "\n",
    "Python relies on indentation (whitespace at the beginning of the line) to define scope in the code. Other programming languages ofter use curly-brackets for this purpose."
   ]
  },
  {
   "cell_type": "code",
   "execution_count": 2,
   "metadata": {},
   "outputs": [
    {
     "ename": "IndentationError",
     "evalue": "expected an indented block (<ipython-input-2-5d6d10bb3057>, line 5)",
     "output_type": "error",
     "traceback": [
      "\u001b[0;36m  File \u001b[0;32m\"<ipython-input-2-5d6d10bb3057>\"\u001b[0;36m, line \u001b[0;32m5\u001b[0m\n\u001b[0;31m    print(\"A is just a bb next to B\") # This will present us with an error message\u001b[0m\n\u001b[0m        ^\u001b[0m\n\u001b[0;31mIndentationError\u001b[0m\u001b[0;31m:\u001b[0m expected an indented block\n"
     ]
    }
   ],
   "source": [
    "a = 23 \n",
    "b = 43 \n",
    "\n",
    "if b > a: \n",
    "print(\"A is just a bb next to B\") # This will present us with an error message\n"
   ]
  },
  {
   "cell_type": "markdown",
   "metadata": {},
   "source": [
    "# Elif\n",
    "\n",
    "The (elif) keyword is pythons way of saying \"if the previous conditions were not true, then try this condition\""
   ]
  },
  {
   "cell_type": "code",
   "execution_count": 5,
   "metadata": {},
   "outputs": [
    {
     "name": "stdout",
     "output_type": "stream",
     "text": [
      "You are mistaken sir, a is larger than b\n"
     ]
    }
   ],
   "source": [
    "a = 32 \n",
    "b = 21 \n",
    "\n",
    "if b > a: \n",
    "    print(\"b is in fact larger than a\")\n",
    "elif b < a: \n",
    "    print(\"You are mistaken sir, a is larger than b\") #This will print out since A is 32 and B is 21"
   ]
  },
  {
   "cell_type": "markdown",
   "metadata": {},
   "source": [
    "## Else\n",
    "\n",
    "The else keyword catches anything which isnt caught by the preceding conditions"
   ]
  },
  {
   "cell_type": "code",
   "execution_count": 6,
   "metadata": {},
   "outputs": [
    {
     "name": "stdout",
     "output_type": "stream",
     "text": [
      "a is in fact larger than b\n"
     ]
    }
   ],
   "source": [
    "a = 32 \n",
    "b = 21 \n",
    "\n",
    "if b > a: \n",
    "\tprint(\"b is in fact larger than a\")\n",
    "elif b == a: \n",
    "\tprint(\"b and a are equal\") # if a and be were the same number then this would print out\n",
    "else: \n",
    "\tprint(\"a is in fact larger than b\") #This will print out since A is 32 and B is 21"
   ]
  },
  {
   "cell_type": "markdown",
   "metadata": {},
   "source": [
    "You can also have an else without the elif:"
   ]
  },
  {
   "cell_type": "code",
   "execution_count": 4,
   "metadata": {},
   "outputs": [
    {
     "name": "stdout",
     "output_type": "stream",
     "text": [
      "a is in fact larger than b\n"
     ]
    }
   ],
   "source": [
    "a = 32 \n",
    "b = 21 \n",
    "\n",
    "if b > a: \n",
    "    print(\"b is in fact larger than a\")\n",
    "else: \n",
    "    print(\"a is in fact larger than b\")"
   ]
  },
  {
   "cell_type": "code",
   "execution_count": 1,
   "metadata": {},
   "outputs": [
    {
     "name": "stdout",
     "output_type": "stream",
     "text": [
      "Weapons current state: 100\n",
      "upgrade has been applied to to weapon\n",
      "weapon has been upgraded: 300\n"
     ]
    }
   ],
   "source": [
    "x = 100 \n",
    "y = 200\n",
    "z = 300 \n",
    "\n",
    "if z > x:\n",
    "    print(\"Weapons current state:\", x) \n",
    "    x = 300\n",
    "    print(\"upgrade has been applied to to weapon\")\n",
    "else: \n",
    "    print(\"there is nothing that can be done for you at this time.\")\t\n",
    "\n",
    "\n",
    "print(\"weapon has been upgraded:\",x)"
   ]
  },
  {
   "cell_type": "markdown",
   "metadata": {},
   "source": [
    "## Short Hand  if\n",
    "\n",
    "If you have only one statment to execute, you can put it on the same line as the if statement."
   ]
  },
  {
   "cell_type": "code",
   "execution_count": 8,
   "metadata": {},
   "outputs": [
    {
     "name": "stdout",
     "output_type": "stream",
     "text": [
      "A is less than B dude, we've been over this.\n"
     ]
    }
   ],
   "source": [
    "a = 100\n",
    "b = 200\n",
    "\n",
    "if a < b: print(\"A is less than B dude, we've been over this.\")"
   ]
  },
  {
   "cell_type": "markdown",
   "metadata": {},
   "source": [
    "### <span style=\"color:green\">NOTE:</span> This technique is known as Ternary Operators or Conditional Expressions "
   ]
  },
  {
   "cell_type": "markdown",
   "metadata": {},
   "source": [
    "You can also have multiple (else) statements on the same line:"
   ]
  },
  {
   "cell_type": "code",
   "execution_count": 5,
   "metadata": {},
   "outputs": [
    {
     "name": "stdout",
     "output_type": "stream",
     "text": [
      "A\n"
     ]
    }
   ],
   "source": [
    "a = 32 \n",
    "b = 21 \n",
    "\n",
    "print (\"A\") if a > b else print (\"=\") if a == b else print(\"B\")"
   ]
  },
  {
   "cell_type": "markdown",
   "metadata": {},
   "source": [
    "## And"
   ]
  },
  {
   "cell_type": "markdown",
   "metadata": {},
   "source": [
    "The (and) keyword is a logical operator, and is used tp combine conditional statements"
   ]
  },
  {
   "cell_type": "code",
   "execution_count": 6,
   "metadata": {},
   "outputs": [
    {
     "name": "stdout",
     "output_type": "stream",
     "text": [
      "At least one condition is true\n"
     ]
    }
   ],
   "source": [
    "a = 32 \n",
    "b = 21 \n",
    "\n",
    "if a > b and a == b: \n",
    "\tprint(\"Both conditions pass\")\n",
    "else: \n",
    "\tprint(\"At least one condition is true\")"
   ]
  },
  {
   "cell_type": "markdown",
   "metadata": {},
   "source": [
    "## Or "
   ]
  },
  {
   "cell_type": "markdown",
   "metadata": {},
   "source": [
    "the (or) keyword is a logical operator, and is used to combinee conditional statements"
   ]
  },
  {
   "cell_type": "code",
   "execution_count": 7,
   "metadata": {},
   "outputs": [
    {
     "name": "stdout",
     "output_type": "stream",
     "text": [
      "a has the upperhand in this game\n"
     ]
    }
   ],
   "source": [
    "a = 32 \n",
    "b = 21 \n",
    "\n",
    "if a == b or a > b: # will be True if ONE of the corrections is True\n",
    "\tprint(\"a has the upperhand in this game\")\n",
    "elif a < b: \n",
    "\tprint(\"a has the disadvantage in this game\")\n",
    "else:\n",
    "\tprint(\"zero win\") \n"
   ]
  },
  {
   "cell_type": "markdown",
   "metadata": {},
   "source": [
    "## Nested if"
   ]
  },
  {
   "cell_type": "markdown",
   "metadata": {},
   "source": [
    "You can have (if) statements inside (if) statements, this is called NESTED (if) statements "
   ]
  },
  {
   "cell_type": "code",
   "execution_count": 8,
   "metadata": {},
   "outputs": [
    {
     "name": "stdout",
     "output_type": "stream",
     "text": [
      "Your results will suffice\n",
      "You've made great progress but your journey ends here.\n"
     ]
    }
   ],
   "source": [
    "x = 207\n",
    "y = 10\n",
    "z = 49\n",
    "\n",
    "if x > z:\n",
    "    print(\"Your results will suffice\")\n",
    "    if y > z: \n",
    "        print(\"Once again, you have prevailed. You may continue on your path\")\n",
    "    else: \n",
    "        print(\"You've made great progress but your journey ends here.\")\n",
    "else: \n",
    "    print(\"Thou shall not pass!\")"
   ]
  },
  {
   "cell_type": "markdown",
   "metadata": {},
   "source": [
    "## The pass statement "
   ]
  },
  {
   "cell_type": "markdown",
   "metadata": {},
   "source": [
    "(if) statements cannot be empty, but if you for some reason have an if statements with no content, put then put in the pass statement to avoid getting an error"
   ]
  },
  {
   "cell_type": "code",
   "execution_count": 16,
   "metadata": {},
   "outputs": [],
   "source": [
    "a = 33\n",
    "b = 200\n",
    "\n",
    "if b > a:\n",
    "  pass"
   ]
  }
 ],
 "metadata": {
  "kernelspec": {
   "display_name": "Python 3",
   "language": "python",
   "name": "python3"
  },
  "language_info": {
   "codemirror_mode": {
    "name": "ipython",
    "version": 3
   },
   "file_extension": ".py",
   "mimetype": "text/x-python",
   "name": "python",
   "nbconvert_exporter": "python",
   "pygments_lexer": "ipython3",
   "version": "3.7.6"
  }
 },
 "nbformat": 4,
 "nbformat_minor": 4
}
