{
 "cells": [
  {
   "cell_type": "markdown",
   "metadata": {},
   "source": [
    "### Python Sets \n",
    "\n",
    "A set is a collection which is unordered and unindexed. \n",
    "\n",
    "In Python sets are written with curly brackets"
   ]
  },
  {
   "cell_type": "code",
   "execution_count": 7,
   "metadata": {},
   "outputs": [
    {
     "name": "stdout",
     "output_type": "stream",
     "text": [
      "{'1.Edgar', '2.Dan', '4.Alex', '3.Ben'}\n",
      "<class 'set'>\n"
     ]
    }
   ],
   "source": [
    "thisIsSet = {\"1.Edgar\",\"2.Dan\",\"3.Ben\",\"4.Alex\"}\n",
    "\n",
    "print(thisIsSet)\n",
    "print(type(thisIsSet))"
   ]
  },
  {
   "cell_type": "markdown",
   "metadata": {},
   "source": [
    "As you can see in the example above, the set is not in order.\n",
    "\n",
    "In the example below weh have a TUPLE, which as you can see it is in order"
   ]
  },
  {
   "cell_type": "code",
   "execution_count": 5,
   "metadata": {},
   "outputs": [
    {
     "name": "stdout",
     "output_type": "stream",
     "text": [
      "('1.Edgar', '2.Dan', '3.Ben', '4.Alex')\n",
      "<class 'tuple'>\n"
     ]
    }
   ],
   "source": [
    "thisList = (\"1.Edgar\",\"2.Dan\",\"3.Ben\",\"4.Alex\")\n",
    "\n",
    "print(thisList)\n",
    "print(type(thisList))"
   ]
  },
  {
   "cell_type": "markdown",
   "metadata": {},
   "source": [
    "### Access Items\n",
    "\n",
    "You cannot access items in a set by reffering to an index (why?), since sets are unordered the items has no index.\n",
    "\n",
    "But you can loop through the set items using a (for) loop, or ask if a specified value us present in a set, by using the (in) key "
   ]
  },
  {
   "cell_type": "code",
   "execution_count": 14,
   "metadata": {},
   "outputs": [
    {
     "ename": "TypeError",
     "evalue": "'set' object is not subscriptable",
     "output_type": "error",
     "traceback": [
      "\u001b[0;31m---------------------------------------------------------------------------\u001b[0m",
      "\u001b[0;31mTypeError\u001b[0m                                 Traceback (most recent call last)",
      "\u001b[0;32m<ipython-input-14-4d8593df4267>\u001b[0m in \u001b[0;36m<module>\u001b[0;34m\u001b[0m\n\u001b[1;32m      1\u001b[0m \u001b[0mthisIsSet\u001b[0m \u001b[0;34m=\u001b[0m \u001b[0;34m{\u001b[0m\u001b[0;34m\"1.Edgar\"\u001b[0m\u001b[0;34m,\u001b[0m\u001b[0;34m\"2.Dan\"\u001b[0m\u001b[0;34m,\u001b[0m\u001b[0;34m\"3.Ben\"\u001b[0m\u001b[0;34m,\u001b[0m\u001b[0;34m\"4.Alex\"\u001b[0m\u001b[0;34m}\u001b[0m\u001b[0;34m\u001b[0m\u001b[0;34m\u001b[0m\u001b[0m\n\u001b[1;32m      2\u001b[0m \u001b[0;34m\u001b[0m\u001b[0m\n\u001b[0;32m----> 3\u001b[0;31m \u001b[0mprint\u001b[0m\u001b[0;34m(\u001b[0m\u001b[0mthisIsSet\u001b[0m\u001b[0;34m[\u001b[0m\u001b[0;36m0\u001b[0m\u001b[0;34m]\u001b[0m\u001b[0;34m)\u001b[0m\u001b[0;34m\u001b[0m\u001b[0;34m\u001b[0m\u001b[0m\n\u001b[0m",
      "\u001b[0;31mTypeError\u001b[0m: 'set' object is not subscriptable"
     ]
    }
   ],
   "source": [
    "thisIsSet = {\"1.Edgar\",\"2.Dan\",\"3.Ben\",\"4.Alex\"}\n",
    "\n",
    "print(thisIsSet[0]) "
   ]
  },
  {
   "cell_type": "markdown",
   "metadata": {},
   "source": []
  },
  {
   "cell_type": "code",
   "execution_count": null,
   "metadata": {},
   "outputs": [],
   "source": []
  },
  {
   "cell_type": "code",
   "execution_count": null,
   "metadata": {},
   "outputs": [],
   "source": []
  },
  {
   "cell_type": "code",
   "execution_count": null,
   "metadata": {},
   "outputs": [],
   "source": []
  }
 ],
 "metadata": {
  "kernelspec": {
   "display_name": "Python 3",
   "language": "python",
   "name": "python3"
  },
  "language_info": {
   "codemirror_mode": {
    "name": "ipython",
    "version": 3
   },
   "file_extension": ".py",
   "mimetype": "text/x-python",
   "name": "python",
   "nbconvert_exporter": "python",
   "pygments_lexer": "ipython3",
   "version": "3.7.6"
  }
 },
 "nbformat": 4,
 "nbformat_minor": 4
}
