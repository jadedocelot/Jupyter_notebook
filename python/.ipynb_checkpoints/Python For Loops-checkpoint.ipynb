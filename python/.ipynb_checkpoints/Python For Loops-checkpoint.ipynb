{
 "cells": [
  {
   "cell_type": "markdown",
   "metadata": {},
   "source": [
    "## Python For Loops "
   ]
  },
  {
   "cell_type": "markdown",
   "metadata": {},
   "source": [
    "A (for) loop is used for iterating over a sequence (that is either a list, tuple, a dictionary, a set, or a string)"
   ]
  },
  {
   "cell_type": "code",
   "execution_count": 2,
   "metadata": {},
   "outputs": [
    {
     "name": "stdout",
     "output_type": "stream",
     "text": [
      "Arch\n",
      "Windows 10\n",
      "Ubuntu\n",
      "openSuse\n",
      "High Sierra\n"
     ]
    }
   ],
   "source": [
    "computerOS = [\"Arch\",\"Windows 10\",\"Ubuntu\",\"openSuse\",\"High Sierra\" ]\n",
    "\n",
    "for x in computerOS: \n",
    "    print(x)"
   ]
  },
  {
   "cell_type": "markdown",
   "metadata": {},
   "source": [
    "##### The (for) loop does not require an indexing variable to set beforehand"
   ]
  },
  {
   "cell_type": "markdown",
   "metadata": {},
   "source": [
    "### <span style=\"color:blue\">Looping through a String</span>"
   ]
  },
  {
   "cell_type": "markdown",
   "metadata": {},
   "source": [
    "Even strings are iterable objects, they contain a sequence of characters"
   ]
  },
  {
   "cell_type": "code",
   "execution_count": 6,
   "metadata": {},
   "outputs": [
    {
     "name": "stdout",
     "output_type": "stream",
     "text": [
      "W\n",
      "i\n",
      "n\n",
      "d\n",
      "o\n",
      "w\n",
      "s\n",
      " \n",
      "i\n",
      "s\n",
      " \n",
      "t\n",
      "h\n",
      "e\n",
      " \n",
      "w\n",
      "a\n",
      "y\n",
      " \n",
      "t\n",
      "o\n",
      " \n",
      "h\n",
      "e\n",
      "l\n",
      "l\n"
     ]
    }
   ],
   "source": [
    "for x in \"Windows is the way to hell\":\n",
    "    print(x)"
   ]
  },
  {
   "cell_type": "markdown",
   "metadata": {},
   "source": [
    "### The break statement\n",
    "\n",
    "With the break statement we can stop the loop before it has looped through all the items"
   ]
  },
  {
   "cell_type": "code",
   "execution_count": 17,
   "metadata": {},
   "outputs": [
    {
     "name": "stdout",
     "output_type": "stream",
     "text": [
      "Arch\n",
      "Ubuntu\n",
      "openSuse\n",
      "Windows 10\n",
      "\t\t\tWindows suck ass\n",
      "Arch\n",
      "Ubuntu\n",
      "openSuse\n",
      "Windows 10\n",
      "\t\t\tWindows suck ass\n",
      "High Sierra\n"
     ]
    }
   ],
   "source": [
    "computerOS = [\"Arch\",\"Ubuntu\",\"openSuse\",\"Windows 10\",\"High Sierra\" ]\n",
    "import time\n",
    "\n",
    "for x in computerOS:\n",
    "    print(x)\n",
    "    if x == \"Windows 10\":\n",
    "        print(\"\\t\\t\\tWindows suck ass\")\n",
    "        break\n"
   ]
  },
  {
   "cell_type": "markdown",
   "metadata": {},
   "source": [
    "In the example above, the (break) statement will end the loop once Windows 10 is reached"
   ]
  },
  {
   "cell_type": "markdown",
   "metadata": {},
   "source": [
    "### The continue statement \n",
    "\n",
    "with the continue statement we can stop the current iteration of the loop, and continue on to the next:"
   ]
  },
  {
   "cell_type": "code",
   "execution_count": 25,
   "metadata": {},
   "outputs": [
    {
     "name": "stdout",
     "output_type": "stream",
     "text": [
      "Arch\n",
      "Ubuntu\n",
      "openSuse\n",
      "Windows 10\n",
      "\t\t\tWindows suck ass\n",
      "High Sierra\n"
     ]
    }
   ],
   "source": [
    "computerOS = [\"Arch\",\"Ubuntu\",\"openSuse\",\"Windows 10\",\"High Sierra\" ]\n",
    "import time\n",
    "\n",
    "for x in computerOS:\n",
    "    print(x)\n",
    "    if x == \"Windows 10\":\n",
    "        print(\"\\t\\t\\tWindows suck ass\")\n",
    "        continue"
   ]
  },
  {
   "cell_type": "markdown",
   "metadata": {},
   "source": [
    "## The range() Function "
   ]
  },
  {
   "cell_type": "markdown",
   "metadata": {},
   "source": [
    "To loop through a set of code a specified number of times, we can use the range() function\n",
    "\n",
    "<span style=\"color:green\">NOTE:</span> That range(6) is note the values 0 to 6, but the values 0 to 5\n",
    "\n",
    "and \n",
    "\n",
    "the DEFAULT increment sequence is 1"
   ]
  },
  {
   "cell_type": "code",
   "execution_count": 26,
   "metadata": {},
   "outputs": [
    {
     "name": "stdout",
     "output_type": "stream",
     "text": [
      "0\n",
      "1\n",
      "2\n",
      "3\n",
      "4\n",
      "5\n"
     ]
    }
   ],
   "source": [
    "for x in range(6):\n",
    "    print(x)\n"
   ]
  },
  {
   "cell_type": "markdown",
   "metadata": {},
   "source": [
    "The range function defaults to 0 as a starting value, however it is possible to specify the starting value by adding a parameter: range(2,6), which means values from 2 to 6 (but not including 6)"
   ]
  },
  {
   "cell_type": "code",
   "execution_count": 27,
   "metadata": {},
   "outputs": [
    {
     "name": "stdout",
     "output_type": "stream",
     "text": [
      "2\n",
      "3\n",
      "4\n",
      "5\n",
      "6\n",
      "7\n",
      "8\n",
      "9\n",
      "10\n",
      "11\n",
      "12\n",
      "13\n",
      "14\n",
      "15\n",
      "16\n",
      "17\n",
      "18\n",
      "19\n"
     ]
    }
   ],
   "source": [
    "for x in range(2,20):\n",
    "    print(x)"
   ]
  },
  {
   "cell_type": "markdown",
   "metadata": {},
   "source": [
    "It is also possible to specify the increment value by adding a third parameter: range(2,30,3)"
   ]
  },
  {
   "cell_type": "code",
   "execution_count": null,
   "metadata": {},
   "outputs": [],
   "source": [
    "for x in range(2, 22,2):\n",
    "    print(x)\n",
    "\n",
    "# 2,4,6,8,10,12,14,16,18,20"
   ]
  },
  {
   "cell_type": "markdown",
   "metadata": {},
   "source": [
    "## Else in For Loop\n",
    "\n",
    "The else keyword in a for loop specifies a block if code to be executed when the loop is finishe. (OOOOOHHHHH I GET IT NOW )\n",
    "\n",
    "\n",
    "\n",
    "#### <span style=\"color:red\">WARNING:</span> The bottom example is an infinit loop, what a cunt"
   ]
  },
  {
   "cell_type": "code",
   "execution_count": null,
   "metadata": {},
   "outputs": [],
   "source": [
    "for x in range(2, 20,2):\n",
    "    print(x)\n",
    "else: \n",
    "    resOne = input(\"How was your day?\")\n",
    "    while resOne == \"good\":\n",
    "        print(\"hey cunt!\")"
   ]
  },
  {
   "cell_type": "markdown",
   "metadata": {},
   "source": [
    "### Nested Loops\n",
    "\n",
    "A nested loop is a loop inside a loop\n",
    "\n",
    "The \"inner loop\" will be executed one time for each iteration of the \"outer loop\""
   ]
  },
  {
   "cell_type": "code",
   "execution_count": null,
   "metadata": {},
   "outputs": [],
   "source": [
    "candy = [\"Butter Finger\", \"Snickers\", \"Nerds\"]\n",
    "fruit = [\"grapes\", \"apples\", \"pears\"]\n",
    "\n",
    "for x in candy: \n",
    "    for y in fruit: \n",
    "        print(x,y)"
   ]
  },
  {
   "cell_type": "code",
   "execution_count": null,
   "metadata": {},
   "outputs": [],
   "source": []
  },
  {
   "cell_type": "code",
   "execution_count": null,
   "metadata": {},
   "outputs": [],
   "source": []
  },
  {
   "cell_type": "code",
   "execution_count": null,
   "metadata": {},
   "outputs": [],
   "source": []
  },
  {
   "cell_type": "code",
   "execution_count": null,
   "metadata": {},
   "outputs": [],
   "source": []
  }
 ],
 "metadata": {
  "kernelspec": {
   "display_name": "Python 3",
   "language": "python",
   "name": "python3"
  },
  "language_info": {
   "codemirror_mode": {
    "name": "ipython",
    "version": 3
   },
   "file_extension": ".py",
   "mimetype": "text/x-python",
   "name": "python",
   "nbconvert_exporter": "python",
   "pygments_lexer": "ipython3",
   "version": "3.7.6"
  }
 },
 "nbformat": 4,
 "nbformat_minor": 4
}
