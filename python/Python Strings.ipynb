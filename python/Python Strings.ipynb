{
 "cells": [
  {
   "cell_type": "markdown",
   "metadata": {},
   "source": [
    "# <span style=\"color:#40E0D0\">String Literals</span>\n",
    "\n",
    "String literals in Python are surrounded by either single quotes or double quotation marks.\n",
    "\n",
    "    - \"Hello\"\n",
    "    - 'Hello'\n",
    "    \n",
    " You can display a string literal with the print() function:"
   ]
  },
  {
   "cell_type": "code",
   "execution_count": 1,
   "metadata": {},
   "outputs": [
    {
     "name": "stdout",
     "output_type": "stream",
     "text": [
      "Hello\n",
      "Hello\n"
     ]
    }
   ],
   "source": [
    "print(\"Hello\")\n",
    "print('Hello')"
   ]
  },
  {
   "cell_type": "markdown",
   "metadata": {},
   "source": [
    "#### Assign String to a Variable\n",
    "\n",
    "Assigning a string to a variable is done with the variable name followed by an equal sign or the string."
   ]
  },
  {
   "cell_type": "code",
   "execution_count": 2,
   "metadata": {},
   "outputs": [
    {
     "name": "stdout",
     "output_type": "stream",
     "text": [
      "Hello Jupyter!\n"
     ]
    }
   ],
   "source": [
    "x = \"Hello Jupyter!\"\n",
    "\n",
    "print(x)"
   ]
  },
  {
   "cell_type": "markdown",
   "metadata": {},
   "source": [
    "#### Multiline Strings \n",
    "\n",
    "You can assign a multiline string to a variable by using three quotes"
   ]
  },
  {
   "cell_type": "code",
   "execution_count": 4,
   "metadata": {},
   "outputs": [
    {
     "name": "stdout",
     "output_type": "stream",
     "text": [
      "So this is a multiline string,\n",
      "and this is still a multiline string. And,\n",
      "still a multiline string,\n",
      "and still.\n",
      "\n"
     ]
    }
   ],
   "source": [
    "trip = \"\"\"So this is a multiline string,\n",
    "and this is still a multiline string. And,\n",
    "still a multiline string,\n",
    "and still.\n",
    "\"\"\"\n",
    "\n",
    "print(trip)"
   ]
  },
  {
   "cell_type": "markdown",
   "metadata": {},
   "source": [
    "Or single line quotes"
   ]
  },
  {
   "cell_type": "code",
   "execution_count": 6,
   "metadata": {},
   "outputs": [
    {
     "name": "stdout",
     "output_type": "stream",
     "text": [
      "So this is a multiline string,\n",
      "and this is still a multiline string. And,\n",
      "still a multiline string,\n",
      "and still, but with single line quotes.\n",
      "\n"
     ]
    }
   ],
   "source": [
    "trip = '''So this is a multiline string,\n",
    "and this is still a multiline string. And,\n",
    "still a multiline string,\n",
    "and still, but with single line quotes.\n",
    "'''\n",
    "\n",
    "print(trip)"
   ]
  },
  {
   "cell_type": "markdown",
   "metadata": {},
   "source": [
    "#### Strings are Arrays\n",
    "\n",
    "SPOILER ALERT! Like many other programming languages, strings in Python are arrays of bytes representing unicode characters.\n",
    "    - However, Python does not have a character data type, a single character is simply a string with a length of 1.\n",
    "    \n",
    "Square brackets [  ] can be used to access elements of a string:"
   ]
  },
  {
   "cell_type": "code",
   "execution_count": 24,
   "metadata": {},
   "outputs": [
    {
     "name": "stdout",
     "output_type": "stream",
     "text": [
      "e\n"
     ]
    }
   ],
   "source": [
    "greet = \"Hello world and those outside of it!\"\n",
    "\n",
    "print(greet[1])"
   ]
  },
  {
   "cell_type": "markdown",
   "metadata": {},
   "source": [
    "Although a (bytes) object definition and representation is based on ASCii ( American Standard Code for Information Interchang) text, it actually behaves like an immutable sequence of small integers in the range 0 to 255, inclusive. That mis why a single element from a bytes object is displayed as an integer."
   ]
  },
  {
   "cell_type": "markdown",
   "metadata": {},
   "source": [
    "### SLICING\n",
    "\n",
    "You may return a range of characters by using the slice index.\n",
    "\n",
    "Specify the start index and the end index, seperated by a colon, to return a part of the string."
   ]
  },
  {
   "cell_type": "code",
   "execution_count": 1,
   "metadata": {},
   "outputs": [
    {
     "name": "stdout",
     "output_type": "stream",
     "text": [
      "Hell\n"
     ]
    }
   ],
   "source": [
    "a = \"Hello World!\" \n",
    "\n",
    "print(a[0:4]) ## Will print out Hell"
   ]
  },
  {
   "cell_type": "markdown",
   "metadata": {},
   "source": [
    "1. In the example above our string is \"Hello World!\"\n",
    "2. As you can see \"H\" is the first letter of the string\n",
    "3. And 0 being the starting point of the \"string index\" so this corrosponds with our string (e is the second letter so that means 1 would be next up on the index and so on)\n",
    "4. the number after the colon (4) indicates how much of the string should be presented from the number before the index  "
   ]
  },
  {
   "cell_type": "markdown",
   "metadata": {},
   "source": [
    "### Negative Indexing\n",
    "\n",
    "Use negative indexing to start the slice from the end of the string."
   ]
  },
  {
   "cell_type": "code",
   "execution_count": 78,
   "metadata": {},
   "outputs": [
    {
     "name": "stdout",
     "output_type": "stream",
     "text": [
      "456\n"
     ]
    }
   ],
   "source": [
    "greet = \"1234567890\"\n",
    "\n",
    "print(greet[-7:-4])"
   ]
  },
  {
   "cell_type": "markdown",
   "metadata": {},
   "source": [
    "#### String Length \n",
    "\n",
    "To get the length of a string, use len()function"
   ]
  },
  {
   "cell_type": "code",
   "execution_count": 79,
   "metadata": {},
   "outputs": [
    {
     "name": "stdout",
     "output_type": "stream",
     "text": [
      "13\n"
     ]
    }
   ],
   "source": [
    "greet = \"Hello Jupyter\"\n",
    "\n",
    "print(len(greet))"
   ]
  },
  {
   "cell_type": "code",
   "execution_count": 2,
   "metadata": {},
   "outputs": [
    {
     "name": "stdout",
     "output_type": "stream",
     "text": [
      "17\n"
     ]
    }
   ],
   "source": [
    "myName = \"Edgar Abel Ortega\"\n",
    "\n",
    "print(len(myName))"
   ]
  },
  {
   "cell_type": "markdown",
   "metadata": {},
   "source": [
    "# <span style=\"color:#26867C\">String Methods</span>\n",
    "\n",
    "Python has a set of built in methods that can be used on strings."
   ]
  },
  {
   "cell_type": "code",
   "execution_count": null,
   "metadata": {},
   "outputs": [],
   "source": [
    "strip()"
   ]
  },
  {
   "cell_type": "markdown",
   "metadata": {},
   "source": [
    "strip() method removes any whitespace from the beginning or the end"
   ]
  },
  {
   "cell_type": "code",
   "execution_count": 82,
   "metadata": {},
   "outputs": [
    {
     "name": "stdout",
     "output_type": "stream",
     "text": [
      "this is an example of the strip method being used.\n"
     ]
    }
   ],
   "source": [
    "x = \"     this is an example of the strip method being used. \"\n",
    "\n",
    "print(x.strip())"
   ]
  },
  {
   "cell_type": "code",
   "execution_count": null,
   "metadata": {},
   "outputs": [],
   "source": [
    "lower()"
   ]
  },
  {
   "cell_type": "markdown",
   "metadata": {},
   "source": [
    "This method returns the string in lowercase"
   ]
  },
  {
   "cell_type": "code",
   "execution_count": 83,
   "metadata": {},
   "outputs": [
    {
     "name": "stdout",
     "output_type": "stream",
     "text": [
      "this example is for the lower method. which returns a string in all lowercase\n"
     ]
    }
   ],
   "source": [
    "x = \"This EXAMPLe iS FOR the loWER MEthod. WhiCH reTUrns a STRING in All LOWErcASE\"\n",
    "\n",
    "print(x.lower())"
   ]
  },
  {
   "cell_type": "code",
   "execution_count": null,
   "metadata": {},
   "outputs": [],
   "source": [
    "upper()"
   ]
  },
  {
   "cell_type": "markdown",
   "metadata": {},
   "source": [
    "The upper method.....you guessed it....returns a string all in uppercase"
   ]
  },
  {
   "cell_type": "code",
   "execution_count": 85,
   "metadata": {},
   "outputs": [
    {
     "name": "stdout",
     "output_type": "stream",
     "text": [
      "AND AS ONE GUESSED, THE UPPER PRINTS OUT EVERYTHIG IN UPPERCASE\n"
     ]
    }
   ],
   "source": [
    "x = \"And AS onE GUessEd, the uppEr PrintS OUt EverythiG in upperCase\"\n",
    "\n",
    "\n",
    "print(x.upper())"
   ]
  },
  {
   "cell_type": "code",
   "execution_count": null,
   "metadata": {},
   "outputs": [],
   "source": [
    "replace()"
   ]
  },
  {
   "cell_type": "code",
   "execution_count": 90,
   "metadata": {},
   "outputs": [
    {
     "name": "stdout",
     "output_type": "stream",
     "text": [
      "Eggar Ortega\n"
     ]
    }
   ],
   "source": [
    "x = \"Edgar Ortega\"\n",
    "\n",
    "print(x.replace(\"d\",\"g\"))"
   ]
  },
  {
   "cell_type": "code",
   "execution_count": 109,
   "metadata": {},
   "outputs": [
    {
     "name": "stdout",
     "output_type": "stream",
     "text": [
      "17567\n"
     ]
    }
   ],
   "source": [
    "x = \"13567\"\n",
    "\n",
    "print(x.replace(\"3\",\"7\"))"
   ]
  },
  {
   "cell_type": "code",
   "execution_count": 131,
   "metadata": {},
   "outputs": [
    {
     "name": "stdout",
     "output_type": "stream",
     "text": [
      "apple\n"
     ]
    }
   ],
   "source": [
    "x = \"banana\"\n",
    "\n",
    "print(x.replace(\"banana\",\"apple\"))"
   ]
  },
  {
   "cell_type": "code",
   "execution_count": 134,
   "metadata": {},
   "outputs": [
    {
     "name": "stdout",
     "output_type": "stream",
     "text": [
      "4\n"
     ]
    }
   ],
   "source": [
    "x = \"1\" \n",
    "\n",
    "print(x.replace(\"1\",\"4\"))"
   ]
  },
  {
   "cell_type": "code",
   "execution_count": null,
   "metadata": {},
   "outputs": [],
   "source": [
    "split()"
   ]
  },
  {
   "cell_type": "markdown",
   "metadata": {},
   "source": [
    "The split method splits the string into substrings if it finds instances of the seperator"
   ]
  },
  {
   "cell_type": "code",
   "execution_count": 135,
   "metadata": {},
   "outputs": [
    {
     "name": "stdout",
     "output_type": "stream",
     "text": [
      "['Hello', 'world!']\n"
     ]
    }
   ],
   "source": [
    "a = \"Hello world!\"\n",
    "\n",
    "print(a.split(\" \"))"
   ]
  },
  {
   "cell_type": "code",
   "execution_count": 136,
   "metadata": {},
   "outputs": [
    {
     "name": "stdout",
     "output_type": "stream",
     "text": [
      "['12345', '78910']\n"
     ]
    }
   ],
   "source": [
    "a = \"12345678910\"\n",
    "\n",
    "print(a.split(\"6\")) "
   ]
  },
  {
   "cell_type": "code",
   "execution_count": 137,
   "metadata": {},
   "outputs": [
    {
     "name": "stdout",
     "output_type": "stream",
     "text": [
      "['123456', '78910', '1112131415']\n"
     ]
    }
   ],
   "source": [
    "a = \"123456x78910x1112131415\"\n",
    "\n",
    "print(a.split(\"x\"))"
   ]
  },
  {
   "cell_type": "code",
   "execution_count": 138,
   "metadata": {},
   "outputs": [
    {
     "name": "stdout",
     "output_type": "stream",
     "text": [
      "['Hello', 'this', 'is', 'going', 'to', 'be', 'a', 'long', 'array']\n"
     ]
    }
   ],
   "source": [
    "x = \"Hello this is going to be a long array\"\n",
    "\n",
    "print(x.split())"
   ]
  },
  {
   "cell_type": "code",
   "execution_count": 146,
   "metadata": {},
   "outputs": [
    {
     "name": "stdout",
     "output_type": "stream",
     "text": [
      "['Hel', 'lo ', 'thi', 's i', 's g', 'oin', 'g t', 'o b', 'e a', ' lo', 'ng ', 'arr', 'ay']\n"
     ]
    }
   ],
   "source": [
    "x = \"Hello this is going to be a long array\"\n",
    "\n",
    "print([x[j:j+3] for j in range(0, len(x), 3)]) "
   ]
  },
  {
   "cell_type": "code",
   "execution_count": 149,
   "metadata": {},
   "outputs": [
    {
     "name": "stdout",
     "output_type": "stream",
     "text": [
      "['llo thi', ' this i', 'is is g', 'is goin', 'going t', 'ng to b', 'to be a', 'be a lo', 'a long ', 'ong arr', ' array', 'ray']\n"
     ]
    }
   ],
   "source": [
    "x = \"Hello this is going to be a long array\"\n",
    "\n",
    "print([x[i:i+7] for i in range(2, len(x), 3)])"
   ]
  },
  {
   "cell_type": "markdown",
   "metadata": {},
   "source": [
    "## Check String"
   ]
  },
  {
   "cell_type": "markdown",
   "metadata": {},
   "source": [
    "There are ways to see if a certain prase or character is present in a string."
   ]
  },
  {
   "cell_type": "markdown",
   "metadata": {},
   "source": [
    "## in"
   ]
  },
  {
   "cell_type": "markdown",
   "metadata": {},
   "source": [
    "#### Example 1: "
   ]
  },
  {
   "cell_type": "code",
   "execution_count": 19,
   "metadata": {},
   "outputs": [
    {
     "name": "stdout",
     "output_type": "stream",
     "text": [
      "True\n"
     ]
    }
   ],
   "source": [
    "binCode = \"432, 230, 490, 2883, 4902 ,23049\"\n",
    "x = \"490\" in binCode \n",
    "\n",
    "print(x)"
   ]
  },
  {
   "cell_type": "markdown",
   "metadata": {},
   "source": [
    "* In the above example we are using the <span stlye=\"color:green\">(in)</span> to see if \"490\" is located anywhere  withine the value declared by (binCode). (in) keyword is located, then a TRUE is printed out. \n",
    "\n",
    "So I guess 490 is IN binCode."
   ]
  },
  {
   "cell_type": "markdown",
   "metadata": {},
   "source": [
    "#### Example 2:"
   ]
  },
  {
   "cell_type": "code",
   "execution_count": 20,
   "metadata": {},
   "outputs": [
    {
     "name": "stdout",
     "output_type": "stream",
     "text": [
      "False\n"
     ]
    }
   ],
   "source": [
    "binCode = \"434, 290, 323, 943, 9039\"\n",
    "x = \"777\" in binCode \n",
    "\n",
    "print(x)"
   ]
  },
  {
   "cell_type": "markdown",
   "metadata": {},
   "source": [
    "As you can see, there is no 777 within the string, so we are presented with FALSE"
   ]
  },
  {
   "cell_type": "code",
   "execution_count": 21,
   "metadata": {},
   "outputs": [
    {
     "name": "stdout",
     "output_type": "stream",
     "text": [
      "True\n"
     ]
    }
   ],
   "source": [
    "binCode = \"129772389327382748950392934895930495839930923948938493\"\n",
    "x = \"895\" in binCode \n",
    "\n",
    "print(x)"
   ]
  },
  {
   "cell_type": "code",
   "execution_count": 24,
   "metadata": {},
   "outputs": [
    {
     "name": "stdout",
     "output_type": "stream",
     "text": [
      "True\n"
     ]
    }
   ],
   "source": [
    "binCode = \"There was a time when I really wanted a house of my own\"\n",
    "x = \"ted\" in binCode\n",
    "\n",
    "print(x)"
   ]
  },
  {
   "cell_type": "markdown",
   "metadata": {},
   "source": [
    "## not in\n",
    "\n",
    "this will verify whether a value does NOT contain a specific keyword. If not, then you will be presented with a TRUE output"
   ]
  },
  {
   "cell_type": "code",
   "execution_count": 22,
   "metadata": {},
   "outputs": [
    {
     "name": "stdout",
     "output_type": "stream",
     "text": [
      "True\n"
     ]
    }
   ],
   "source": [
    "bitBin = \"890, 2830, 838, 983, 765, 555\"\n",
    "x = \"988\" not in bitBin\n",
    "\n",
    "print(x)"
   ]
  },
  {
   "cell_type": "code",
   "execution_count": 23,
   "metadata": {},
   "outputs": [
    {
     "name": "stdout",
     "output_type": "stream",
     "text": [
      "False\n"
     ]
    }
   ],
   "source": [
    "bitBin = \"878, 234, 477, 4874, 112\"\n",
    "x = \"477\" not in bitBin\n",
    "\n",
    "print(x) "
   ]
  },
  {
   "cell_type": "code",
   "execution_count": 26,
   "metadata": {},
   "outputs": [
    {
     "name": "stdout",
     "output_type": "stream",
     "text": [
      "False\n"
     ]
    }
   ],
   "source": [
    "bitBin = \"Let me tell you what is and what isnt in this string, bitch\"\n",
    "x = \"bitch\" not in bitBin \n",
    "\n",
    "print(x)"
   ]
  },
  {
   "cell_type": "markdown",
   "metadata": {},
   "source": [
    "# String Concentration\n",
    "\n",
    "To concentrate, or combine two strings, say within a variable or a function. One could use the (+) operator."
   ]
  },
  {
   "cell_type": "markdown",
   "metadata": {},
   "source": [
    "<img src=\"https://files.realpython.com/media/Pythons-split-function--string-concatenation_Watermark.7eade0c24cf0.jpg\">"
   ]
  },
  {
   "cell_type": "code",
   "execution_count": 10,
   "metadata": {},
   "outputs": [
    {
     "name": "stdout",
     "output_type": "stream",
     "text": [
      "Hello jupyter!\n"
     ]
    }
   ],
   "source": [
    "x = \"Hello\"\n",
    "y = \"jupyter!\"\n",
    "\n",
    "greet = x + \" \" + y\n",
    "\n",
    "print(greet)"
   ]
  },
  {
   "cell_type": "code",
   "execution_count": 8,
   "metadata": {},
   "outputs": [
    {
     "name": "stdout",
     "output_type": "stream",
     "text": [
      "10\n"
     ]
    }
   ],
   "source": [
    "x = 5 \n",
    "y = 5 \n",
    "sum = x + y \n",
    "\n",
    "print(sum)"
   ]
  },
  {
   "cell_type": "code",
   "execution_count": null,
   "metadata": {},
   "outputs": [],
   "source": []
  },
  {
   "cell_type": "code",
   "execution_count": null,
   "metadata": {},
   "outputs": [],
   "source": []
  },
  {
   "cell_type": "code",
   "execution_count": null,
   "metadata": {},
   "outputs": [],
   "source": []
  },
  {
   "cell_type": "code",
   "execution_count": null,
   "metadata": {},
   "outputs": [],
   "source": []
  },
  {
   "cell_type": "code",
   "execution_count": null,
   "metadata": {},
   "outputs": [],
   "source": []
  },
  {
   "cell_type": "code",
   "execution_count": null,
   "metadata": {},
   "outputs": [],
   "source": []
  },
  {
   "cell_type": "code",
   "execution_count": null,
   "metadata": {},
   "outputs": [],
   "source": []
  }
 ],
 "metadata": {
  "kernelspec": {
   "display_name": "Python 3",
   "language": "python",
   "name": "python3"
  },
  "language_info": {
   "codemirror_mode": {
    "name": "ipython",
    "version": 3
   },
   "file_extension": ".py",
   "mimetype": "text/x-python",
   "name": "python",
   "nbconvert_exporter": "python",
   "pygments_lexer": "ipython3",
   "version": "3.7.6"
  }
 },
 "nbformat": 4,
 "nbformat_minor": 4
}
