{
 "cells": [
  {
   "cell_type": "markdown",
   "metadata": {},
   "source": [
    "# <span style=\"color:#40E0D0\">String Literals</span>\n",
    "\n",
    "String literals in Python are surrounded by either single quotes or double quotation marks.\n",
    "\n",
    "    - \"Hello\"\n",
    "    - 'Hello'\n",
    "    \n",
    " You can display a string literal with the print() function:"
   ]
  },
  {
   "cell_type": "code",
   "execution_count": 1,
   "metadata": {},
   "outputs": [
    {
     "name": "stdout",
     "output_type": "stream",
     "text": [
      "Hello\n",
      "Hello\n"
     ]
    }
   ],
   "source": [
    "print(\"Hello\")\n",
    "print('Hello')"
   ]
  },
  {
   "cell_type": "markdown",
   "metadata": {},
   "source": [
    "#### Assign String to a Variable\n",
    "\n",
    "Assigning a string to a variable is done with the variable name followed by an equal sign or the string."
   ]
  },
  {
   "cell_type": "code",
   "execution_count": 2,
   "metadata": {},
   "outputs": [
    {
     "name": "stdout",
     "output_type": "stream",
     "text": [
      "Hello Jupyter!\n"
     ]
    }
   ],
   "source": [
    "x = \"Hello Jupyter!\"\n",
    "\n",
    "print(x)"
   ]
  },
  {
   "cell_type": "markdown",
   "metadata": {},
   "source": [
    "#### Multiline Strings \n",
    "\n",
    "You can assign a multiline string to a variable by using three quotes"
   ]
  },
  {
   "cell_type": "code",
   "execution_count": 4,
   "metadata": {},
   "outputs": [
    {
     "name": "stdout",
     "output_type": "stream",
     "text": [
      "So this is a multiline string,\n",
      "and this is still a multiline string. And,\n",
      "still a multiline string,\n",
      "and still.\n",
      "\n"
     ]
    }
   ],
   "source": [
    "trip = \"\"\"So this is a multiline string,\n",
    "and this is still a multiline string. And,\n",
    "still a multiline string,\n",
    "and still.\n",
    "\"\"\"\n",
    "\n",
    "print(trip)"
   ]
  },
  {
   "cell_type": "markdown",
   "metadata": {},
   "source": [
    "Or single line quotes"
   ]
  },
  {
   "cell_type": "code",
   "execution_count": 6,
   "metadata": {},
   "outputs": [
    {
     "name": "stdout",
     "output_type": "stream",
     "text": [
      "So this is a multiline string,\n",
      "and this is still a multiline string. And,\n",
      "still a multiline string,\n",
      "and still, but with single line quotes.\n",
      "\n"
     ]
    }
   ],
   "source": [
    "trip = '''So this is a multiline string,\n",
    "and this is still a multiline string. And,\n",
    "still a multiline string,\n",
    "and still, but with single line quotes.\n",
    "'''\n",
    "\n",
    "print(trip)"
   ]
  },
  {
   "cell_type": "markdown",
   "metadata": {},
   "source": [
    "#### Strings are Arrays\n",
    "\n",
    "SPOILER ALERT! Like many other programming languages, strings in Python are arrays of bytes representing unicode characters.\n",
    "    - However, Python does not have a character data type, a single character is simply a string with a length of 1.\n",
    "    \n",
    "Square brackets [  ] can be used to access elements of a string:"
   ]
  },
  {
   "cell_type": "code",
   "execution_count": 24,
   "metadata": {},
   "outputs": [
    {
     "name": "stdout",
     "output_type": "stream",
     "text": [
      "e\n"
     ]
    }
   ],
   "source": [
    "greet = \"Hello world and those outside of it!\"\n",
    "\n",
    "print(greet[1])"
   ]
  },
  {
   "cell_type": "markdown",
   "metadata": {},
   "source": [
    "Although a (bytes) object definition and representation is based on ASCii ( American Standard Code for Information Interchang) text, it actually behaves like an immutable sequence of small integers in the range 0 to 255, inclusive. That mis why a single element from a bytes object is displayed as an integer."
   ]
  },
  {
   "cell_type": "markdown",
   "metadata": {},
   "source": [
    "### SLICING\n",
    "\n",
    "You may return a range of characters by using the slice index.\n",
    "\n",
    "Specify the start index and the end index, seperated by a colon, to return a part of the string."
   ]
  },
  {
   "cell_type": "code",
   "execution_count": 1,
   "metadata": {},
   "outputs": [
    {
     "name": "stdout",
     "output_type": "stream",
     "text": [
      "Hell\n"
     ]
    }
   ],
   "source": [
    "a = \"Hello World!\" \n",
    "\n",
    "print(a[0:4]) ## Will print out Hell"
   ]
  },
  {
   "cell_type": "markdown",
   "metadata": {},
   "source": [
    "1. In the example above our string is \"Hello World!\"\n",
    "2. As you can see \"H\" is the first letter of the string\n",
    "3. And 0 being the starting point of the \"string index\" so this corrosponds with our string (e is the second letter so that means 1 would be next up on the index and so on)\n",
    "4. the number after the colon (4) indicates how much of the string should be presented from the number before the index  "
   ]
  },
  {
   "cell_type": "markdown",
   "metadata": {},
   "source": [
    "### Negative Indexing\n",
    "\n",
    "Use negative indexing to start the slice from the end of the string."
   ]
  },
  {
   "cell_type": "code",
   "execution_count": 78,
   "metadata": {},
   "outputs": [
    {
     "name": "stdout",
     "output_type": "stream",
     "text": [
      "456\n"
     ]
    }
   ],
   "source": [
    "greet = \"1234567890\"\n",
    "\n",
    "print(greet[-7:-4])"
   ]
  },
  {
   "cell_type": "markdown",
   "metadata": {},
   "source": [
    "#### String Length \n",
    "\n",
    "To get the length of a string, use len()function"
   ]
  },
  {
   "cell_type": "code",
   "execution_count": 79,
   "metadata": {},
   "outputs": [
    {
     "name": "stdout",
     "output_type": "stream",
     "text": [
      "13\n"
     ]
    }
   ],
   "source": [
    "greet = \"Hello Jupyter\"\n",
    "\n",
    "print(len(greet))"
   ]
  },
  {
   "cell_type": "code",
   "execution_count": 2,
   "metadata": {},
   "outputs": [
    {
     "name": "stdout",
     "output_type": "stream",
     "text": [
      "17\n"
     ]
    }
   ],
   "source": [
    "myName = \"Edgar Abel Ortega\"\n",
    "\n",
    "print(len(myName))"
   ]
  },
  {
   "cell_type": "markdown",
   "metadata": {},
   "source": [
    "# <span style=\"color:#26867C\">String Methods</span>\n",
    "\n",
    "Python has a set of built in methods that can be used on strings."
   ]
  },
  {
   "cell_type": "code",
   "execution_count": null,
   "metadata": {},
   "outputs": [],
   "source": [
    "strip()"
   ]
  },
  {
   "cell_type": "markdown",
   "metadata": {},
   "source": [
    "strip() method removes any whitespace from the beginning or the end"
   ]
  },
  {
   "cell_type": "code",
   "execution_count": 82,
   "metadata": {},
   "outputs": [
    {
     "name": "stdout",
     "output_type": "stream",
     "text": [
      "this is an example of the strip method being used.\n"
     ]
    }
   ],
   "source": [
    "x = \"     this is an example of the strip method being used. \"\n",
    "\n",
    "print(x.strip())"
   ]
  },
  {
   "cell_type": "code",
   "execution_count": null,
   "metadata": {},
   "outputs": [],
   "source": [
    "lower()"
   ]
  },
  {
   "cell_type": "markdown",
   "metadata": {},
   "source": [
    "This method returns the string in lowercase"
   ]
  },
  {
   "cell_type": "code",
   "execution_count": 83,
   "metadata": {},
   "outputs": [
    {
     "name": "stdout",
     "output_type": "stream",
     "text": [
      "this example is for the lower method. which returns a string in all lowercase\n"
     ]
    }
   ],
   "source": [
    "x = \"This EXAMPLe iS FOR the loWER MEthod. WhiCH reTUrns a STRING in All LOWErcASE\"\n",
    "\n",
    "print(x.lower())"
   ]
  },
  {
   "cell_type": "code",
   "execution_count": null,
   "metadata": {},
   "outputs": [],
   "source": [
    "upper()"
   ]
  },
  {
   "cell_type": "markdown",
   "metadata": {},
   "source": [
    "The upper method.....you guessed it....returns a string all in uppercase"
   ]
  },
  {
   "cell_type": "code",
   "execution_count": 85,
   "metadata": {},
   "outputs": [
    {
     "name": "stdout",
     "output_type": "stream",
     "text": [
      "AND AS ONE GUESSED, THE UPPER PRINTS OUT EVERYTHIG IN UPPERCASE\n"
     ]
    }
   ],
   "source": [
    "x = \"And AS onE GUessEd, the uppEr PrintS OUt EverythiG in upperCase\"\n",
    "\n",
    "\n",
    "print(x.upper())"
   ]
  },
  {
   "cell_type": "markdown",
   "metadata": {},
   "source": [
    "## replace( )"
   ]
  },
  {
   "cell_type": "code",
   "execution_count": 90,
   "metadata": {},
   "outputs": [
    {
     "name": "stdout",
     "output_type": "stream",
     "text": [
      "Eggar Ortega\n"
     ]
    }
   ],
   "source": [
    "x = \"Edgar Ortega\"\n",
    "\n",
    "print(x.replace(\"d\",\"g\"))"
   ]
  },
  {
   "cell_type": "code",
   "execution_count": 109,
   "metadata": {},
   "outputs": [
    {
     "name": "stdout",
     "output_type": "stream",
     "text": [
      "17567\n"
     ]
    }
   ],
   "source": [
    "x = \"13567\"\n",
    "\n",
    "print(x.replace(\"3\",\"7\"))"
   ]
  },
  {
   "cell_type": "code",
   "execution_count": 131,
   "metadata": {},
   "outputs": [
    {
     "name": "stdout",
     "output_type": "stream",
     "text": [
      "apple\n"
     ]
    }
   ],
   "source": [
    "x = \"banana\"\n",
    "\n",
    "print(x.replace(\"banana\",\"apple\"))"
   ]
  },
  {
   "cell_type": "code",
   "execution_count": 134,
   "metadata": {},
   "outputs": [
    {
     "name": "stdout",
     "output_type": "stream",
     "text": [
      "4\n"
     ]
    }
   ],
   "source": [
    "x = \"1\" \n",
    "\n",
    "print(x.replace(\"1\",\"4\"))"
   ]
  },
  {
   "cell_type": "markdown",
   "metadata": {},
   "source": [
    "### split()\n",
    "\n",
    "The split method splits the string into substrings if it finds instances of the seperator"
   ]
  },
  {
   "cell_type": "markdown",
   "metadata": {},
   "source": [
    "The split method splits the string into substrings if it finds instances of the seperator"
   ]
  },
  {
   "cell_type": "code",
   "execution_count": 135,
   "metadata": {},
   "outputs": [
    {
     "name": "stdout",
     "output_type": "stream",
     "text": [
      "['Hello', 'world!']\n"
     ]
    }
   ],
   "source": [
    "a = \"Hello world!\"\n",
    "\n",
    "print(a.split(\" \"))"
   ]
  },
  {
   "cell_type": "code",
   "execution_count": 136,
   "metadata": {},
   "outputs": [
    {
     "name": "stdout",
     "output_type": "stream",
     "text": [
      "['12345', '78910']\n"
     ]
    }
   ],
   "source": [
    "a = \"12345678910\"\n",
    "\n",
    "print(a.split(\"6\")) "
   ]
  },
  {
   "cell_type": "code",
   "execution_count": 137,
   "metadata": {},
   "outputs": [
    {
     "name": "stdout",
     "output_type": "stream",
     "text": [
      "['123456', '78910', '1112131415']\n"
     ]
    }
   ],
   "source": [
    "a = \"123456x78910x1112131415\"\n",
    "\n",
    "print(a.split(\"x\"))"
   ]
  },
  {
   "cell_type": "code",
   "execution_count": 138,
   "metadata": {},
   "outputs": [
    {
     "name": "stdout",
     "output_type": "stream",
     "text": [
      "['Hello', 'this', 'is', 'going', 'to', 'be', 'a', 'long', 'array']\n"
     ]
    }
   ],
   "source": [
    "x = \"Hello this is going to be a long array\"\n",
    "\n",
    "print(x.split())"
   ]
  },
  {
   "cell_type": "markdown",
   "metadata": {},
   "source": [
    "### Using split() to turn a string into an array"
   ]
  },
  {
   "cell_type": "code",
   "execution_count": 28,
   "metadata": {},
   "outputs": [
    {
     "name": "stdout",
     "output_type": "stream",
     "text": [
      "item 1:  apple\n",
      "item 2:  carrot\n",
      "item 3:  grapes\n",
      "item 4:  bananana\n"
     ]
    }
   ],
   "source": [
    "shoppingList = \"apple,carrot,grapes,bananana\"\n",
    "fruit1,fruit2,fruit3,fruit4 = shoppingList.split(\",\")\n",
    "\n",
    "print(\"item 1: \",fruit1)\n",
    "print(\"item 2: \",fruit2)\n",
    "print(\"item 3: \",fruit3)\n",
    "print(\"item 4: \",fruit4)"
   ]
  },
  {
   "cell_type": "code",
   "execution_count": null,
   "metadata": {},
   "outputs": [],
   "source": []
  },
  {
   "cell_type": "code",
   "execution_count": null,
   "metadata": {},
   "outputs": [],
   "source": []
  },
  {
   "cell_type": "code",
   "execution_count": null,
   "metadata": {},
   "outputs": [],
   "source": []
  },
  {
   "cell_type": "code",
   "execution_count": null,
   "metadata": {},
   "outputs": [],
   "source": []
  },
  {
   "cell_type": "markdown",
   "metadata": {},
   "source": [
    "### Maxsplit\n",
    "split() also has another optional parameter called (maxsplit)\n"
   ]
  },
  {
   "cell_type": "code",
   "execution_count": 15,
   "metadata": {},
   "outputs": [
    {
     "name": "stdout",
     "output_type": "stream",
     "text": [
      "['This', 'a', 'string', 'deditcated', 'to', 'maxsplit()']\n"
     ]
    }
   ],
   "source": [
    "s = \"This a string deditcated to maxsplit()\"\n",
    "\n",
    "print(s.split())"
   ]
  },
  {
   "cell_type": "markdown",
   "metadata": {},
   "source": [
    "Notice how the above example presents the user with a number of splits. Not let's say we only wanted to allow a specific number of splits. That's where maxsplit comes in. Say we only wnated to allow (1) split to our (s) string. Maxsplit will need to be set to (1). NOTE that 1 is also known as parameter?"
   ]
  },
  {
   "cell_type": "code",
   "execution_count": 16,
   "metadata": {},
   "outputs": [
    {
     "name": "stdout",
     "output_type": "stream",
     "text": [
      "['This', 'a string deditcated to maxsplit()']\n"
     ]
    }
   ],
   "source": [
    "s = \"This a string deditcated to maxsplit()\"\n",
    "\n",
    "print(s.split(maxsplit=1))"
   ]
  },
  {
   "cell_type": "markdown",
   "metadata": {},
   "source": [
    "In the above example we use a maxsplit, say we only wanted to allow (1) split to our (s) string. We would need to. set (1) to our maxsplit."
   ]
  },
  {
   "cell_type": "code",
   "execution_count": 27,
   "metadata": {},
   "outputs": [
    {
     "name": "stdout",
     "output_type": "stream",
     "text": [
      "['This', 'a', 'string', 'deditcated', 'to', 'maxsplit()']\n"
     ]
    }
   ],
   "source": [
    "s = \"This a string deditcated to maxsplit()\"\n",
    "\n",
    "print(s.split(maxsplit=-4))"
   ]
  },
  {
   "cell_type": "markdown",
   "metadata": {},
   "source": [
    "### list()\n",
    "\n",
    "list is a method which allows the user to SPLIT a string and convert into an array"
   ]
  },
  {
   "cell_type": "code",
   "execution_count": 31,
   "metadata": {},
   "outputs": [
    {
     "name": "stdout",
     "output_type": "stream",
     "text": [
      "['E', 'd', 'g', 'a', 'r']\n"
     ]
    }
   ],
   "source": [
    "x = \"Edgar\"\n",
    "y = \"Allison\"\n",
    "\n",
    "myArrays=list(x)\n",
    "f\n",
    "print(myArrays)\n"
   ]
  },
  {
   "cell_type": "code",
   "execution_count": 146,
   "metadata": {},
   "outputs": [
    {
     "name": "stdout",
     "output_type": "stream",
     "text": [
      "['Hel', 'lo ', 'thi', 's i', 's g', 'oin', 'g t', 'o b', 'e a', ' lo', 'ng ', 'arr', 'ay']\n"
     ]
    }
   ],
   "source": [
    "x = \"Hello this is going to be a long array\"\n",
    "\n",
    "print([x[j:j+3] for j in range(0, len(x), 3)]) "
   ]
  },
  {
   "cell_type": "code",
   "execution_count": 149,
   "metadata": {},
   "outputs": [
    {
     "name": "stdout",
     "output_type": "stream",
     "text": [
      "['llo thi', ' this i', 'is is g', 'is goin', 'going t', 'ng to b', 'to be a', 'be a lo', 'a long ', 'ong arr', ' array', 'ray']\n"
     ]
    }
   ],
   "source": [
    "x = \"Hello this is going to be a long array\"\n",
    "\n",
    "print([x[i:i+7] for i in range(2, len(x), 3)])"
   ]
  },
  {
   "cell_type": "markdown",
   "metadata": {},
   "source": [
    "## Check String"
   ]
  },
  {
   "cell_type": "markdown",
   "metadata": {},
   "source": [
    "There are ways to see if a certain prase or character is present in a string."
   ]
  },
  {
   "cell_type": "markdown",
   "metadata": {},
   "source": [
    "## in"
   ]
  },
  {
   "cell_type": "markdown",
   "metadata": {},
   "source": [
    "#### Example 1: "
   ]
  },
  {
   "cell_type": "code",
   "execution_count": 19,
   "metadata": {},
   "outputs": [
    {
     "name": "stdout",
     "output_type": "stream",
     "text": [
      "True\n"
     ]
    }
   ],
   "source": [
    "binCode = \"432, 230, 490, 2883, 4902 ,23049\"\n",
    "x = \"490\" in binCode \n",
    "\n",
    "print(x)"
   ]
  },
  {
   "cell_type": "markdown",
   "metadata": {},
   "source": [
    "* In the above example we are using the <span stlye=\"color:green\">(in)</span> to see if \"490\" is located anywhere  withine the value declared by (binCode). (in) keyword is located, then a TRUE is printed out. \n",
    "\n",
    "So I guess 490 is IN binCode."
   ]
  },
  {
   "cell_type": "markdown",
   "metadata": {},
   "source": [
    "#### Example 2:"
   ]
  },
  {
   "cell_type": "code",
   "execution_count": 20,
   "metadata": {},
   "outputs": [
    {
     "name": "stdout",
     "output_type": "stream",
     "text": [
      "False\n"
     ]
    }
   ],
   "source": [
    "binCode = \"434, 290, 323, 943, 9039\"\n",
    "x = \"777\" in binCode \n",
    "\n",
    "print(x)"
   ]
  },
  {
   "cell_type": "markdown",
   "metadata": {},
   "source": [
    "As you can see, there is no 777 within the string, so we are presented with FALSE"
   ]
  },
  {
   "cell_type": "code",
   "execution_count": 21,
   "metadata": {},
   "outputs": [
    {
     "name": "stdout",
     "output_type": "stream",
     "text": [
      "True\n"
     ]
    }
   ],
   "source": [
    "binCode = \"129772389327382748950392934895930495839930923948938493\"\n",
    "x = \"895\" in binCode \n",
    "\n",
    "print(x)"
   ]
  },
  {
   "cell_type": "code",
   "execution_count": 24,
   "metadata": {},
   "outputs": [
    {
     "name": "stdout",
     "output_type": "stream",
     "text": [
      "True\n"
     ]
    }
   ],
   "source": [
    "binCode = \"There was a time when I really wanted a house of my own\"\n",
    "x = \"ted\" in binCode\n",
    "\n",
    "print(x)"
   ]
  },
  {
   "cell_type": "markdown",
   "metadata": {},
   "source": [
    "## not in\n",
    "\n",
    "this will verify whether a value does NOT contain a specific keyword. If not, then you will be presented with a TRUE output"
   ]
  },
  {
   "cell_type": "code",
   "execution_count": 22,
   "metadata": {},
   "outputs": [
    {
     "name": "stdout",
     "output_type": "stream",
     "text": [
      "True\n"
     ]
    }
   ],
   "source": [
    "bitBin = \"890, 2830, 838, 983, 765, 555\"\n",
    "x = \"988\" not in bitBin\n",
    "\n",
    "print(x)"
   ]
  },
  {
   "cell_type": "code",
   "execution_count": 23,
   "metadata": {},
   "outputs": [
    {
     "name": "stdout",
     "output_type": "stream",
     "text": [
      "False\n"
     ]
    }
   ],
   "source": [
    "bitBin = \"878, 234, 477, 4874, 112\"\n",
    "x = \"477\" not in bitBin\n",
    "\n",
    "print(x) "
   ]
  },
  {
   "cell_type": "code",
   "execution_count": 26,
   "metadata": {},
   "outputs": [
    {
     "name": "stdout",
     "output_type": "stream",
     "text": [
      "False\n"
     ]
    }
   ],
   "source": [
    "bitBin = \"Let me tell you what is and what isnt in this string, bitch\"\n",
    "x = \"bitch\" not in bitBin \n",
    "\n",
    "print(x)"
   ]
  },
  {
   "cell_type": "markdown",
   "metadata": {},
   "source": [
    "# String Concentration\n",
    "\n",
    "To concentrate, or combine two strings, say within a variable or a function. One could use the (+) operator."
   ]
  },
  {
   "cell_type": "markdown",
   "metadata": {},
   "source": [
    "<img src=\"https://files.realpython.com/media/Pythons-split-function--string-concatenation_Watermark.7eade0c24cf0.jpg\">"
   ]
  },
  {
   "cell_type": "code",
   "execution_count": 10,
   "metadata": {},
   "outputs": [
    {
     "name": "stdout",
     "output_type": "stream",
     "text": [
      "Hello jupyter!\n"
     ]
    }
   ],
   "source": [
    "x = \"Hello\"\n",
    "y = \"jupyter!\"\n",
    "\n",
    "greet = x + \" \" + y\n",
    "\n",
    "print(greet)"
   ]
  },
  {
   "cell_type": "code",
   "execution_count": 8,
   "metadata": {},
   "outputs": [
    {
     "name": "stdout",
     "output_type": "stream",
     "text": [
      "10\n"
     ]
    }
   ],
   "source": [
    "x = 5 \n",
    "y = 5 \n",
    "sum = x + y \n",
    "\n",
    "print(sum)"
   ]
  },
  {
   "cell_type": "markdown",
   "metadata": {},
   "source": [
    "NOTE: That we cannot combine STRING and NUMBERS like so: "
   ]
  },
  {
   "cell_type": "code",
   "execution_count": 6,
   "metadata": {},
   "outputs": [
    {
     "ename": "TypeError",
     "evalue": "can only concatenate str (not \"int\") to str",
     "output_type": "error",
     "traceback": [
      "\u001b[0;31m---------------------------------------------------------------------------\u001b[0m",
      "\u001b[0;31mTypeError\u001b[0m                                 Traceback (most recent call last)",
      "\u001b[0;32m<ipython-input-6-90367d4cb69d>\u001b[0m in \u001b[0;36m<module>\u001b[0;34m\u001b[0m\n\u001b[1;32m      1\u001b[0m \u001b[0mage\u001b[0m \u001b[0;34m=\u001b[0m \u001b[0;36m28\u001b[0m\u001b[0;34m\u001b[0m\u001b[0;34m\u001b[0m\u001b[0m\n\u001b[0;32m----> 2\u001b[0;31m \u001b[0mstringCombo\u001b[0m \u001b[0;34m=\u001b[0m \u001b[0;34m\"My current age is: \"\u001b[0m \u001b[0;34m+\u001b[0m \u001b[0mage\u001b[0m\u001b[0;34m\u001b[0m\u001b[0;34m\u001b[0m\u001b[0m\n\u001b[0m\u001b[1;32m      3\u001b[0m \u001b[0;34m\u001b[0m\u001b[0m\n\u001b[1;32m      4\u001b[0m \u001b[0mprint\u001b[0m\u001b[0;34m(\u001b[0m\u001b[0mstringCombo\u001b[0m\u001b[0;34m)\u001b[0m\u001b[0;34m\u001b[0m\u001b[0;34m\u001b[0m\u001b[0m\n",
      "\u001b[0;31mTypeError\u001b[0m: can only concatenate str (not \"int\") to str"
     ]
    }
   ],
   "source": [
    "age = 28\n",
    "stringCombo = \"My current age is: \" + age\n",
    "\n",
    "print(stringCombo)"
   ]
  },
  {
   "cell_type": "markdown",
   "metadata": {},
   "source": [
    "Though don't fret for there is a way one can combine strings and numbers. \n"
   ]
  },
  {
   "cell_type": "markdown",
   "metadata": {},
   "source": [
    "### <span style=\"color:orange\">format()</span>"
   ]
  },
  {
   "cell_type": "markdown",
   "metadata": {},
   "source": [
    "The format() method takes the arguments, formats them, and places them in the string where the placeholders {} are: "
   ]
  },
  {
   "cell_type": "code",
   "execution_count": 1,
   "metadata": {},
   "outputs": [
    {
     "name": "stdout",
     "output_type": "stream",
     "text": [
      "Hello I am 28 years old.\n"
     ]
    }
   ],
   "source": [
    "age = 28 \n",
    "edgar = \"Hello I am {} years old.\"\n",
    "\n",
    "print(edgar.format(age))"
   ]
  },
  {
   "cell_type": "markdown",
   "metadata": {},
   "source": [
    "#### Format() takes an unlimited amount of argurmants and are placed into the respective placeholders"
   ]
  },
  {
   "cell_type": "code",
   "execution_count": 2,
   "metadata": {},
   "outputs": [
    {
     "name": "stdout",
     "output_type": "stream",
     "text": [
      "Hello I am 28 years olde, my current height is 5.9\n"
     ]
    }
   ],
   "source": [
    "age = 28\n",
    "height = 5.9\n",
    "edgar = \"Hello I am {} years olde, my current height is {}\"\n",
    "\n",
    "print (edgar.format(age,height))"
   ]
  },
  {
   "cell_type": "markdown",
   "metadata": {},
   "source": [
    "Notice how the (age) and (height) are placed in the their destinated positions when printing, now if were to careless put them into place then we would get the following:\n"
   ]
  },
  {
   "cell_type": "markdown",
   "metadata": {},
   "source": [
    "### <span style=\"color:red\">Do it Right!</span>"
   ]
  },
  {
   "cell_type": "code",
   "execution_count": 3,
   "metadata": {},
   "outputs": [
    {
     "name": "stdout",
     "output_type": "stream",
     "text": [
      "Hello I am 5.9 years old, my current height is 28\n"
     ]
    }
   ],
   "source": [
    "age = 28 \n",
    "height = 5.9\n",
    "edgar = \"Hello I am {} years old, my current height is {}\"\n",
    "\n",
    "print(edgar.format(height, age))"
   ]
  },
  {
   "cell_type": "markdown",
   "metadata": {},
   "source": [
    "\n",
    "hhmmmm, doesn't quite make sense."
   ]
  },
  {
   "cell_type": "markdown",
   "metadata": {},
   "source": [
    "###### Though rather than having to put each variable keyword in the correct place, one may also use index numbers to tell Python which order to place each variable."
   ]
  },
  {
   "cell_type": "code",
   "execution_count": 18,
   "metadata": {},
   "outputs": [
    {
     "name": "stdout",
     "output_type": "stream",
     "text": [
      "The bananas are 0.44 carrots are 0.23 and the apples are 0.35.\n"
     ]
    }
   ],
   "source": [
    "a = 0.23 #1 --- 0\n",
    "b = 0.44 #2 --- 1\n",
    "c = 0.35 #0 --- 2\n",
    "fruitPrices = \"The bananas are {1} carrots are {2} and the apples are {0}.\"\n",
    "\n",
    "print(fruitPrices.format(c,b,a))"
   ]
  },
  {
   "cell_type": "markdown",
   "metadata": {},
   "source": [
    "### Escape Character"
   ]
  },
  {
   "cell_type": "markdown",
   "metadata": {},
   "source": [
    "At times we might have to use an illegal character within say a string, and what might I mean when I say an illegal charater? Say you might want to set up string which requires single or double quotes "
   ]
  },
  {
   "cell_type": "code",
   "execution_count": 19,
   "metadata": {},
   "outputs": [
    {
     "ename": "SyntaxError",
     "evalue": "invalid syntax (<ipython-input-19-b0f88c62c35e>, line 1)",
     "output_type": "error",
     "traceback": [
      "\u001b[0;36m  File \u001b[0;32m\"<ipython-input-19-b0f88c62c35e>\"\u001b[0;36m, line \u001b[0;32m1\u001b[0m\n\u001b[0;31m    text = \"Last week my friend said the following; \"So like, can we eat soon?\"\"\u001b[0m\n\u001b[0m                                                      ^\u001b[0m\n\u001b[0;31mSyntaxError\u001b[0m\u001b[0;31m:\u001b[0m invalid syntax\n"
     ]
    }
   ],
   "source": [
    "text = \"Last week my friend said the following; \"So like, can we eat soon?\"\"\n",
    "\n",
    "\n",
    "print(text)"
   ]
  },
  {
   "cell_type": "markdown",
   "metadata": {},
   "source": [
    "But have no fear there is a way around this. Like there are Coyotes, there are python charaters that will allow to get away with this. And thats escape charater \\"
   ]
  },
  {
   "cell_type": "code",
   "execution_count": 20,
   "metadata": {},
   "outputs": [
    {
     "name": "stdout",
     "output_type": "stream",
     "text": [
      "This string show the \"escape\" in action.\n"
     ]
    }
   ],
   "source": [
    "text = \"This string show the \\\"escape\\\" in action.\"\n",
    "\n",
    "print(text)"
   ]
  },
  {
   "cell_type": "markdown",
   "metadata": {},
   "source": [
    "But wait, theres more! Python has an arsenal of escape charaters."
   ]
  },
  {
   "cell_type": "markdown",
   "metadata": {},
   "source": [
    "\\' single quote  -- This will come in handy with say (IT'S) or (They're) "
   ]
  },
  {
   "cell_type": "code",
   "execution_count": 23,
   "metadata": {},
   "outputs": [
    {
     "name": "stdout",
     "output_type": "stream",
     "text": [
      "It's the day after tomorrow Dough. Fuck, you really are an idiot.\n"
     ]
    }
   ],
   "source": [
    "text = \"It\\'s the day after tomorrow Dough. Fuck, you really are an idiot.\"\n",
    "\n",
    "print(text)"
   ]
  },
  {
   "cell_type": "markdown",
   "metadata": {},
   "source": [
    "\\\\ Backlash  <-- In order to use a \\ you must use double \\\\ "
   ]
  },
  {
   "cell_type": "code",
   "execution_count": 25,
   "metadata": {},
   "outputs": [
    {
     "name": "stdout",
     "output_type": "stream",
     "text": [
      "backlash does not work \\\n"
     ]
    }
   ],
   "source": [
    "text = \"backlash does not work \\\\\"\n",
    "\n",
    "print(text)"
   ]
  },
  {
   "cell_type": "code",
   "execution_count": null,
   "metadata": {},
   "outputs": [],
   "source": [
    "\\n New Line "
   ]
  },
  {
   "cell_type": "code",
   "execution_count": 28,
   "metadata": {},
   "outputs": [
    {
     "name": "stdout",
     "output_type": "stream",
     "text": [
      "This is line 1 and \n",
      "This is line 2 \n"
     ]
    }
   ],
   "source": [
    "text = \"This is line 1 and \\nThis is line 2 \"\n",
    "\n",
    "print(text)"
   ]
  },
  {
   "cell_type": "markdown",
   "metadata": {},
   "source": [
    "\\r Carriage Return ---- This appears to bring whatever is on the right side of the cursor over to the left side, though I'm finding it somewhat complicated."
   ]
  },
  {
   "cell_type": "code",
   "execution_count": 108,
   "metadata": {},
   "outputs": [
    {
     "name": "stdout",
     "output_type": "stream",
     "text": [
      "\t\t\t\t   management\r",
      "system\n",
      "   mastering\r",
      "of\n"
     ]
    }
   ],
   "source": [
    "print(\"\\t\\t\\t\\t   management\\rsystem\\n   mastering\\rof\")"
   ]
  },
  {
   "cell_type": "markdown",
   "metadata": {},
   "source": [
    "\\t Tab -- Just adds a fucking tab"
   ]
  },
  {
   "cell_type": "code",
   "execution_count": 113,
   "metadata": {},
   "outputs": [
    {
     "name": "stdout",
     "output_type": "stream",
     "text": [
      "\tTo whom it may concern, \n",
      "I am reaching out to let you know that your child fucking sucks.\n"
     ]
    }
   ],
   "source": [
    "text = (\"\\tTo whom it may concern, \\nI am reaching out to let you know that your child fucking sucks.\")\n",
    "\n",
    "print(text)"
   ]
  },
  {
   "cell_type": "markdown",
   "metadata": {},
   "source": [
    "\\b Backspace --> deletes one space"
   ]
  },
  {
   "cell_type": "code",
   "execution_count": 116,
   "metadata": {},
   "outputs": [
    {
     "name": "stdout",
     "output_type": "stream",
     "text": [
      "Hello \bWorld\n"
     ]
    }
   ],
   "source": [
    "print(\"Hello \\bWorld\")"
   ]
  },
  {
   "cell_type": "code",
   "execution_count": null,
   "metadata": {},
   "outputs": [],
   "source": [
    "\\f Form feed "
   ]
  },
  {
   "cell_type": "code",
   "execution_count": 123,
   "metadata": {},
   "outputs": [
    {
     "name": "stdout",
     "output_type": "stream",
     "text": [
      "Hello\f",
      "world\n"
     ]
    }
   ],
   "source": [
    "print(\"Hello\\fworld\")"
   ]
  },
  {
   "cell_type": "markdown",
   "metadata": {},
   "source": [
    "### \\ooo Octal value ---- backslash followed by three integers will result in a octal value\n",
    "\n",
    "##### Octal to TXT:\n",
    "http://www.unit-conversion.info/texttools/octal/"
   ]
  },
  {
   "cell_type": "code",
   "execution_count": 135,
   "metadata": {},
   "outputs": [
    {
     "name": "stdout",
     "output_type": "stream",
     "text": [
      "It appears that your python skills ares some what improving.\n"
     ]
    }
   ],
   "source": [
    "honesty =(\"\\111\\164\\040\\141\\160\\160\\145\\141\\162\\163\\040\\164\\150\\141\\164\\040\\171\\157\\165\\162\\040\\160\\171\\164\\150\\157\\156\\040\\163\\153\\151\\154\\154\\163\\040\\141\\162\\145\\163\\040\\163\\157\\155\\145\\040\\167\\150\\141\\164\\040\\151\\155\\160\\162\\157\\166\\151\\156\\147\\056\")\n",
    "    \n",
    "print(honesty)"
   ]
  },
  {
   "cell_type": "markdown",
   "metadata": {},
   "source": [
    "### \\x0h Hex Value  ---- #A backslash followed by an 'x' and a hex number represents a hex value (Or Hexidecimal):\n",
    "\n",
    "Convert Hexidecimal to Text: http://www.unit-conversion.info/texttools/hexadecimal/"
   ]
  },
  {
   "cell_type": "code",
   "execution_count": 137,
   "metadata": {},
   "outputs": [
    {
     "name": "stdout",
     "output_type": "stream",
     "text": [
      "Gotta kill my old habits. \r\n",
      "\n"
     ]
    }
   ],
   "source": [
    "hexDex = \"\\x47\\x6f\\x74\\x74\\x61\\x20\\x6b\\x69\\x6c\\x6c\\x20\\x6d\\x79\\x20\\x6f\\x6c\\x64\\x20\\x68\\x61\\x62\\x69\\x74\\x73\\x2e\\x20\\x0d\\x0a\"\n",
    "\n",
    "print(hexDex)"
   ]
  },
  {
   "cell_type": "markdown",
   "metadata": {},
   "source": [
    "# <span style=\"color:red\">String Methods</span>"
   ]
  },
  {
   "cell_type": "markdown",
   "metadata": {},
   "source": [
    "## capitalize( )\n",
    "\n",
    "Converts the first character to upper case"
   ]
  },
  {
   "cell_type": "code",
   "execution_count": 5,
   "metadata": {},
   "outputs": [
    {
     "name": "stdout",
     "output_type": "stream",
     "text": [
      "Hello jupyter\n"
     ]
    }
   ],
   "source": [
    "greeting = \"hello jupyter\"\n",
    "\n",
    "print(greeting.capitalize())"
   ]
  },
  {
   "cell_type": "markdown",
   "metadata": {},
   "source": [
    "## casefold( )\n",
    "\n",
    "converts the string into lower case"
   ]
  },
  {
   "cell_type": "code",
   "execution_count": 6,
   "metadata": {},
   "outputs": [
    {
     "name": "stdout",
     "output_type": "stream",
     "text": [
      "noah is sometimes really annoying\n"
     ]
    }
   ],
   "source": [
    "x = \"NoaH Is SomeTiMES REally ANNoying\"\n",
    "\n",
    "print(x.casefold())"
   ]
  },
  {
   "cell_type": "markdown",
   "metadata": {},
   "source": [
    "## center( )\n",
    "\n",
    "Returns a centered string: --- string.cneter(length,charater)\n",
    "    \n",
    "- the center() method will center align the string, using a specified character/parameter value withing the method parantheses "
   ]
  },
  {
   "cell_type": "code",
   "execution_count": 22,
   "metadata": {},
   "outputs": [
    {
     "name": "stdout",
     "output_type": "stream",
     "text": [
      "Lets try to return a center string\n",
      "                                 Lets try to return a center string                                 \n"
     ]
    }
   ],
   "source": [
    "x = \"Lets try to return a center string\"\n",
    "\n",
    "print(x)\n",
    "print(x.center(100))"
   ]
  },
  {
   "cell_type": "markdown",
   "metadata": {},
   "source": [
    "- Length: Required. The length of the returned string\n",
    "- Character: OPTIONAL. The Character to fill the missing space on EACH SIDE"
   ]
  },
  {
   "cell_type": "code",
   "execution_count": 31,
   "metadata": {},
   "outputs": [
    {
     "name": "stdout",
     "output_type": "stream",
     "text": [
      "!!!!!!!!!!!!!!!!!!!!!!!!!!!!!!!!!!!!!!!!!!!!!!!!!!!!!Damn Daniel!!!!!!!!!!!!!!!!!!!!!!!!!!!!!!!!!!!!!!!!!!!!!!!!!!!!!\n"
     ]
    }
   ],
   "source": [
    "txt = \"Damn Daniel\" \n",
    "x = txt.center(117,\"!\")\n",
    "\n",
    "print(x)"
   ]
  },
  {
   "cell_type": "markdown",
   "metadata": {},
   "source": [
    "## count( )\n",
    "\n",
    "#### string.count(value, start, end)\n",
    "    - Value: Required. A string, the string value search for\n",
    "    - Start: OPTIONAL: AN integer. The position to start the search. Default is 0\n",
    "    - End: OPTIONAL. An integer. The position to end the search. Default is the end of the string.\n",
    "\n",
    "Returns the number of times a specified value occurs in a string\n"
   ]
  },
  {
   "cell_type": "code",
   "execution_count": 44,
   "metadata": {},
   "outputs": [
    {
     "name": "stdout",
     "output_type": "stream",
     "text": [
      "5\n"
     ]
    }
   ],
   "source": [
    "x = \"time time time time time\"\n",
    "\n",
    "print(x.count(\"time\"))"
   ]
  },
  {
   "cell_type": "code",
   "execution_count": 94,
   "metadata": {},
   "outputs": [
    {
     "name": "stdout",
     "output_type": "stream",
     "text": [
      "5\n"
     ]
    }
   ],
   "source": [
    "x = \"time time time time time\"\n",
    "\n",
    "print(x.count(\"time\",0,150 )) ## This will count through the whole line, not by default but becuase we specifically requested to search throught the whole string"
   ]
  },
  {
   "cell_type": "markdown",
   "metadata": {},
   "source": [
    "## encode( ) \n",
    "\n",
    "Returns a <span style=\"color:orange\">UTF-8</span> encoded version of the string\n",
    "\n",
    "- string.encode(encoding=encoding, errors=errors)"
   ]
  },
  {
   "cell_type": "code",
   "execution_count": 96,
   "metadata": {},
   "outputs": [
    {
     "name": "stdout",
     "output_type": "stream",
     "text": [
      "b\"Let's encode this world\"\n"
     ]
    }
   ],
   "source": [
    "x = \"Let's encode this world\"\n",
    "\n",
    "print(x.encode())"
   ]
  },
  {
   "cell_type": "markdown",
   "metadata": {},
   "source": [
    "<img src=\"https://upload.wikimedia.org/wikipedia/commons/thumb/c/c4/Utf8webgrowth.svg/1200px-Utf8webgrowth.svg.png\">"
   ]
  },
  {
   "cell_type": "markdown",
   "metadata": {},
   "source": [
    "### UTF-8 (8-bit Unicode Transformation Format) \n",
    "\n",
    "Is a variable-width character encoding capable if encoding all 1,112,064 valid character code points in Unicode using 1 to 4 one-byte (8-bit) code units. The encoding is defined by the unicode standard. "
   ]
  },
  {
   "cell_type": "code",
   "execution_count": 119,
   "metadata": {},
   "outputs": [
    {
     "ename": "LookupError",
     "evalue": "unknown error handler name 'namerplace'",
     "output_type": "error",
     "traceback": [
      "\u001b[0;31m---------------------------------------------------------------------------\u001b[0m",
      "\u001b[0;31mLookupError\u001b[0m                               Traceback (most recent call last)",
      "\u001b[0;32m<ipython-input-119-77959a8e7a06>\u001b[0m in \u001b[0;36m<module>\u001b[0;34m\u001b[0m\n\u001b[1;32m      1\u001b[0m \u001b[0mx\u001b[0m \u001b[0;34m=\u001b[0m \u001b[0;34m\"Hello worªld!\"\u001b[0m\u001b[0;34m\u001b[0m\u001b[0;34m\u001b[0m\u001b[0m\n\u001b[1;32m      2\u001b[0m \u001b[0;34m\u001b[0m\u001b[0m\n\u001b[0;32m----> 3\u001b[0;31m \u001b[0mprint\u001b[0m\u001b[0;34m(\u001b[0m\u001b[0mx\u001b[0m\u001b[0;34m.\u001b[0m\u001b[0mencode\u001b[0m\u001b[0;34m(\u001b[0m\u001b[0mencoding\u001b[0m\u001b[0;34m=\u001b[0m\u001b[0;34m\"ascii\"\u001b[0m\u001b[0;34m,\u001b[0m \u001b[0merrors\u001b[0m\u001b[0;34m=\u001b[0m\u001b[0;34m\"namerplace\"\u001b[0m\u001b[0;34m)\u001b[0m\u001b[0;34m)\u001b[0m\u001b[0;34m\u001b[0m\u001b[0;34m\u001b[0m\u001b[0m\n\u001b[0m",
      "\u001b[0;31mLookupError\u001b[0m: unknown error handler name 'namerplace'"
     ]
    }
   ],
   "source": [
    "x = \"Hello worªld!\"\n",
    "\n",
    "print(x.encode(encoding=\"ascii\", errors=\"namerplace\"))"
   ]
  },
  {
   "cell_type": "markdown",
   "metadata": {},
   "source": [
    "### endswith ( )\n",
    "\n",
    "Returns true if the string ends with the specified value"
   ]
  },
  {
   "cell_type": "code",
   "execution_count": 120,
   "metadata": {},
   "outputs": [
    {
     "name": "stdout",
     "output_type": "stream",
     "text": [
      "True\n"
     ]
    }
   ],
   "source": [
    "x = \"300,233,654,900,234,444,290,100\"\n",
    "\n",
    "print(x.endswith(\"100\")) ## True output"
   ]
  },
  {
   "cell_type": "code",
   "execution_count": 121,
   "metadata": {},
   "outputs": [
    {
     "name": "stdout",
     "output_type": "stream",
     "text": [
      "False\n"
     ]
    }
   ],
   "source": [
    "y = \"300,234,32,555,3452,98,547,342\"\n",
    "\n",
    "print(y.endswith(\"888\")) #FALSE output"
   ]
  },
  {
   "cell_type": "markdown",
   "metadata": {},
   "source": [
    "### string.endswith(value, strat, end)\n",
    "\n",
    "    - value: REQUIRED. The value to the check if the string ends with\n",
    "    - Start: An Integer specifying at which poition to start the search \n",
    "    - End: An integer specifying which position to start the search "
   ]
  },
  {
   "cell_type": "code",
   "execution_count": 159,
   "metadata": {},
   "outputs": [
    {
     "name": "stdout",
     "output_type": "stream",
     "text": [
      "True\n"
     ]
    }
   ],
   "source": [
    "x = \"104,2993,23,324,0,534,890,0,909,780\"\n",
    "\n",
    "#Lets find the egg\n",
    "print(x.endswith(\"0\",0,25))\n",
    "\n",
    "# 0 being the starting point of the index and 25 being the ending point (0)\n",
    "    \n",
    "\n",
    "#True"
   ]
  },
  {
   "cell_type": "markdown",
   "metadata": {},
   "source": [
    "## expandtabs( )\n",
    "\n",
    "Sets the tab size of the string.\n",
    "\n",
    "- tabsize: OPTIONAL. A number specifying the tabsize, default tabsize is 8"
   ]
  },
  {
   "cell_type": "code",
   "execution_count": 31,
   "metadata": {},
   "outputs": [
    {
     "name": "stdout",
     "output_type": "stream",
     "text": [
      "H         e         l         l         o Jupyter!\n"
     ]
    }
   ],
   "source": [
    "str = \"H\\te\\tl\\tl\\to Jupyter!\"\n",
    "\n",
    "x = str.expandtabs(10)\n",
    "\n",
    "print(x)"
   ]
  },
  {
   "cell_type": "code",
   "execution_count": 49,
   "metadata": {},
   "outputs": [
    {
     "name": "stdout",
     "output_type": "stream",
     "text": [
      "H     e     l     l     o      J            u            p            y            t            e            r!\n"
     ]
    }
   ],
   "source": [
    "str = \"H\\te\\tl\\tl\\to\\t \"\n",
    "txt = \"J\\tu\\tp\\ty\\tt\\te\\tr!\"\n",
    "\n",
    "x = str.expandtabs(6)\n",
    "y = txt.expandtabs(13)\n",
    "\n",
    "print(x + \"\" + y)"
   ]
  },
  {
   "cell_type": "markdown",
   "metadata": {},
   "source": [
    "## find( )\n",
    "\n",
    "Searches the string for a specified value and returns the position of where it is found. \n",
    "\n",
    "- value: REQUIRED. Enter in the value you are searching for within the find parantheses"
   ]
  },
  {
   "cell_type": "code",
   "execution_count": 51,
   "metadata": {},
   "outputs": [
    {
     "name": "stdout",
     "output_type": "stream",
     "text": [
      "21\n"
     ]
    }
   ],
   "source": [
    "x = \"0043,878,654,554,389,900,387,473,688,398,498,7379,3948,398,\"\n",
    "mySearch = x.find(\"900\")\n",
    "\n",
    "print(mySearch)"
   ]
  },
  {
   "cell_type": "markdown",
   "metadata": {},
   "source": [
    "## format.map( ) \n",
    " \n",
    "FORMATS specified values of strings\n",
    " "
   ]
  },
  {
   "cell_type": "code",
   "execution_count": 2,
   "metadata": {},
   "outputs": [
    {
     "name": "stdout",
     "output_type": "stream",
     "text": [
      "John's last name is Wick\n"
     ]
    }
   ],
   "source": [
    "# input stored in variable a. \n",
    "a = {'x':'John', 'y':'Wick'} \n",
    "  \n",
    "# Use of format_map() function \n",
    "print(\"{x}'s last name is {y}\".format_map(a))"
   ]
  },
  {
   "cell_type": "markdown",
   "metadata": {},
   "source": [
    "## index( )\n",
    "\n",
    "Searches the string for a specified balue and returns the position of where it was found"
   ]
  },
  {
   "cell_type": "code",
   "execution_count": 67,
   "metadata": {},
   "outputs": [
    {
     "name": "stdout",
     "output_type": "stream",
     "text": [
      "10\n"
     ]
    }
   ],
   "source": [
    "x = \"232,43,53,2345,2345,34,531,24,431,43,66,8465\"\n",
    "\n",
    "inDex = x.index(\"2345\")\n",
    "\n",
    "print"
   ]
  },
  {
   "cell_type": "markdown",
   "metadata": {},
   "source": [
    "## isalnum ( ) \n",
    "\n",
    "Returns true if all characters in the string are alphanumeric "
   ]
  },
  {
   "cell_type": "code",
   "execution_count": 114,
   "metadata": {},
   "outputs": [
    {
     "name": "stdout",
     "output_type": "stream",
     "text": [
      "True\n"
     ]
    }
   ],
   "source": [
    "x = \"pee69\"\n",
    "\n",
    "allNum = x.isalnum()\n",
    "\n",
    "print(allNum)"
   ]
  },
  {
   "cell_type": "markdown",
   "metadata": {},
   "source": [
    "## isalpha ( )\n",
    "\n",
    "Returns true if all characters in the string are in alphabet "
   ]
  },
  {
   "cell_type": "code",
   "execution_count": 6,
   "metadata": {},
   "outputs": [
    {
     "name": "stdout",
     "output_type": "stream",
     "text": [
      "True\n",
      "False\n"
     ]
    }
   ],
   "source": [
    "def usingAlpha():\n",
    "    x = \"Hamburger\"\n",
    "    allAlph = x.isalpha()\n",
    "    print(allAlph)\n",
    "\n",
    "usingAlpha() # Will output TRUE since the string only consists of characters from the alphabet\n",
    "\n",
    "def notAllAlpha():\n",
    "    x = \"Alpha2\"\n",
    "    itsFalse = x.isalpha() \n",
    "    print(itsFalse)\n",
    "    \n",
    "notAllAlpha() ## will output false since there is an int within the string"
   ]
  },
  {
   "cell_type": "markdown",
   "metadata": {},
   "source": [
    "## isdecimal( )\n",
    "\n",
    "Returns True if all character in the string are decimals (0-9)"
   ]
  },
  {
   "cell_type": "code",
   "execution_count": 19,
   "metadata": {},
   "outputs": [
    {
     "name": "stdout",
     "output_type": "stream",
     "text": [
      "True\n",
      "False\n"
     ]
    }
   ],
   "source": [
    "def areDecimals(): \n",
    "    x = \"\\u0032\\u0038\"\n",
    "    decimal = x.isdecimal()\n",
    "    print(decimal)\n",
    "\n",
    "areDecimals() #true // x is UNICODE for 28      \n",
    "\n",
    "def areDecimals(): \n",
    "    x = \"\\u0063\\u0061\\u0074\"\n",
    "    decimal = x.isdecimal()\n",
    "    print(decimal)\n",
    "\n",
    "areDecimals() #false // x is UNICODE for cat"
   ]
  },
  {
   "cell_type": "markdown",
   "metadata": {},
   "source": [
    "## isdigit( ) \n",
    "\n",
    "Returns True if all characters in the string digits"
   ]
  },
  {
   "cell_type": "code",
   "execution_count": 36,
   "metadata": {},
   "outputs": [
    {
     "name": "stdout",
     "output_type": "stream",
     "text": [
      "True\n",
      "False\n"
     ]
    }
   ],
   "source": [
    "def allDigits():\n",
    "    x = \"28\"\n",
    "    digits = x.isdigit()\n",
    "    print(digits)\n",
    "    \n",
    "allDigits() # True since x consists of only digits\n",
    "\n",
    "\n",
    "x = \"28b3\"\n",
    "notALLDigits = x.isdigit()\n",
    "\n",
    "print(notALLDigits) ## False since there is are also letter characters involved int he string"
   ]
  },
  {
   "cell_type": "markdown",
   "metadata": {},
   "source": [
    "## islower ( ) \n",
    "\n",
    "Returns True if all characters in the string are lower case"
   ]
  },
  {
   "cell_type": "code",
   "execution_count": 49,
   "metadata": {},
   "outputs": [
    {
     "name": "stdout",
     "output_type": "stream",
     "text": [
      "True\n"
     ]
    }
   ],
   "source": [
    "def allNumbers():\n",
    "    x = \"hello world!\"\n",
    "    allnumbers = x.islower()\n",
    "    print(allnumbers)\n",
    "    \n",
    "allNumbers()"
   ]
  },
  {
   "cell_type": "markdown",
   "metadata": {},
   "source": [
    "## isprintable( )\n",
    "\n",
    "Returns True if all characters in the string are printable\n",
    "\n",
    "* (/) is not printable "
   ]
  },
  {
   "cell_type": "code",
   "execution_count": 53,
   "metadata": {},
   "outputs": [
    {
     "name": "stdout",
     "output_type": "stream",
     "text": [
      "False\n"
     ]
    }
   ],
   "source": [
    "x = \"\\tHello! Are you #1?\"\n",
    "\n",
    "likeIt = x.isprintable()\n",
    "\n",
    "print(likeIt)"
   ]
  },
  {
   "cell_type": "code",
   "execution_count": 54,
   "metadata": {},
   "outputs": [
    {
     "name": "stdout",
     "output_type": "stream",
     "text": [
      "True\n"
     ]
    }
   ],
   "source": [
    "x = \" Hello! Are you #1?\"\n",
    "\n",
    "likeIt = x.isprintable()\n",
    "\n",
    "print(likeIt)"
   ]
  },
  {
   "cell_type": "markdown",
   "metadata": {},
   "source": [
    "## isspace( ) \n",
    "\n",
    "Returns True if all characters in the string are whitespaces"
   ]
  },
  {
   "cell_type": "code",
   "execution_count": 56,
   "metadata": {},
   "outputs": [
    {
     "name": "stdout",
     "output_type": "stream",
     "text": [
      "True\n"
     ]
    }
   ],
   "source": [
    "def whiteSpace():\n",
    "    x = \"    \"\n",
    "    white = x.isspace()\n",
    "    print(white) \n",
    "    \n",
    "whiteSpace()"
   ]
  },
  {
   "cell_type": "markdown",
   "metadata": {},
   "source": [
    "## istitle( ) \n",
    "\n",
    "Returns True if the string follows the rules of a title "
   ]
  },
  {
   "cell_type": "code",
   "execution_count": 63,
   "metadata": {},
   "outputs": [
    {
     "name": "stdout",
     "output_type": "stream",
     "text": [
      "True\n",
      "False\n"
     ]
    }
   ],
   "source": [
    "def thisTitle():\n",
    "    x = \"Hello, World!\" \n",
    "    title = x.istitle()\n",
    "    print(title)\n",
    "def notTit():\n",
    "    y = \"edgar\"\n",
    "    notTitle = y.istitle()\n",
    "    print(notTitle)\n",
    "    \n",
    "thisTitle()\n",
    "notTit()"
   ]
  },
  {
   "cell_type": "markdown",
   "metadata": {},
   "source": [
    "## Join ( )\n",
    "\n",
    "joins the elements of an iterable to the end of the string\n",
    "\n",
    "    - iterable: REQUIRED. Any iterable onject where all the returned values are string\n",
    "\n",
    "* In the example below I am compressing the list/tuple together and seperating them with a specific character/value/string"
   ]
  },
  {
   "cell_type": "code",
   "execution_count": 84,
   "metadata": {},
   "outputs": [
    {
     "name": "stdout",
     "output_type": "stream",
     "text": [
      "Edgar&Allison&Meg\n",
      "\n",
      "('Edgar', 'Allison', 'Meg')\n"
     ]
    }
   ],
   "source": [
    "x = ('Edgar','Allison','Meg')\n",
    "\n",
    "groupOne = \"&\".join(x)\n",
    "\n",
    "print(groupOne) #New output\n",
    "print(\"\")\n",
    "print(x) # output "
   ]
  },
  {
   "cell_type": "markdown",
   "metadata": {},
   "source": [
    "## !just( ) \n",
    "\n",
    "Returns the left justified version of the string\n",
    "\n",
    "- Is a method that will left align the string, using a specified character ((ONE) space is default)as the fill character."
   ]
  },
  {
   "cell_type": "code",
   "execution_count": 121,
   "metadata": {},
   "outputs": [
    {
     "name": "stdout",
     "output_type": "stream",
     "text": [
      "Hello world!                   It's god, you know, that one guy\n"
     ]
    }
   ],
   "source": [
    "def justified():\n",
    "    x = \"Hello world!\" \n",
    "    just = x.ljust(30)\n",
    "    print(just, \"It's god, you know, that one guy\")\n",
    "    \n",
    "\n",
    "justified()"
   ]
  },
  {
   "cell_type": "markdown",
   "metadata": {},
   "source": [
    "## lower( )\n",
    "\n",
    "Converts a string into lower case\n",
    "\n",
    "- This will convert a string into all lower case"
   ]
  },
  {
   "cell_type": "code",
   "execution_count": 131,
   "metadata": {},
   "outputs": [
    {
     "name": "stdout",
     "output_type": "stream",
     "text": [
      "hi my name is edgar\n"
     ]
    }
   ],
   "source": [
    "x = \"Hi mY NAMe is EdGAr\"\n",
    "lowerUp = x.lower()\n",
    "\n",
    "print(lowerUp)"
   ]
  },
  {
   "cell_type": "markdown",
   "metadata": {},
   "source": [
    "## lstrip( )\n",
    "\n",
    "Returns a LEFT trim version of the string"
   ]
  },
  {
   "cell_type": "code",
   "execution_count": 228,
   "metadata": {},
   "outputs": [
    {
     "name": "stdout",
     "output_type": "stream",
     "text": [
      "Hello\n"
     ]
    }
   ],
   "source": [
    "txt = \"......./t/t/t/tHello\"\n",
    "\n",
    "x = txt.lstrip(\"./t\")\n",
    "\n",
    "print(x)"
   ]
  },
  {
   "cell_type": "markdown",
   "metadata": {},
   "source": [
    "## maketrans( )\n",
    "\n",
    "Returns a translation table to be used in translations\n"
   ]
  },
  {
   "cell_type": "code",
   "execution_count": 244,
   "metadata": {},
   "outputs": [
    {
     "name": "stdout",
     "output_type": "stream",
     "text": [
      "{97: '123', 98: '456', 99: '789'}\n"
     ]
    }
   ],
   "source": [
    "dict = {\"a\": \"123\", \"b\":\"456\",\"c\":\"789\"}\n",
    "string = \"abc\"\n",
    "\n",
    "print(string.maketrans(dict))"
   ]
  },
  {
   "cell_type": "markdown",
   "metadata": {},
   "source": [
    "In the above code has translated ABC to their unicode state"
   ]
  },
  {
   "cell_type": "markdown",
   "metadata": {},
   "source": [
    "## partition( ) \n",
    "\n",
    "Returns a tuple where the string is parted into three parts\n",
    "\n",
    "- The partition() method seraches for a specified string, and splits the string into a tuple containing three elements.\n",
    "\n",
    "    * everthing before the \"match\"\n",
    "    *  the \"match\" \n",
    "    *  everythingafter the \"match\""
   ]
  },
  {
   "cell_type": "code",
   "execution_count": 253,
   "metadata": {},
   "outputs": [
    {
     "name": "stdout",
     "output_type": "stream",
     "text": [
      "('I can eat ', 'bananas', ' all day long')\n"
     ]
    }
   ],
   "source": [
    "x = \"I can eat bananas all day long\"\n",
    "\n",
    "greet = x.partition(\"bananas\")\n",
    "\n",
    "print(greet)"
   ]
  },
  {
   "cell_type": "markdown",
   "metadata": {},
   "source": [
    "If the specified value is not found, the partition() method returns a tuple containing: 1 - the whole string, 2 - an empty string, 3 - an empty string:"
   ]
  },
  {
   "cell_type": "code",
   "execution_count": 252,
   "metadata": {},
   "outputs": [
    {
     "name": "stdout",
     "output_type": "stream",
     "text": [
      "('I can eat bananas all day long', '', '')\n"
     ]
    }
   ],
   "source": [
    "x = \"I can eat bananas all day long\"\n",
    "\n",
    "greet = x.partition(\"apples\")\n",
    "\n",
    "print(greet)"
   ]
  },
  {
   "cell_type": "markdown",
   "metadata": {},
   "source": [
    "## rindex( ) \n",
    "\n",
    "Searches the string for a specified value and returns the last position of where it was found "
   ]
  },
  {
   "cell_type": "code",
   "execution_count": 258,
   "metadata": {},
   "outputs": [
    {
     "name": "stdout",
     "output_type": "stream",
     "text": [
      "6\n"
     ]
    }
   ],
   "source": [
    "x = \"Hello world\"\n",
    "\n",
    "greet = x.rindex(\"world\")\n",
    "\n",
    "print(greet)"
   ]
  },
  {
   "cell_type": "markdown",
   "metadata": {},
   "source": [
    "## translate( )\n",
    "\n",
    "Returns a translated string "
   ]
  },
  {
   "cell_type": "code",
   "execution_count": 259,
   "metadata": {},
   "outputs": [
    {
     "ename": "TypeError",
     "evalue": "translate() takes exactly one argument (0 given)",
     "output_type": "error",
     "traceback": [
      "\u001b[0;31m---------------------------------------------------------------------------\u001b[0m",
      "\u001b[0;31mTypeError\u001b[0m                                 Traceback (most recent call last)",
      "\u001b[0;32m<ipython-input-259-0377cacc8a80>\u001b[0m in \u001b[0;36m<module>\u001b[0;34m\u001b[0m\n\u001b[1;32m      1\u001b[0m \u001b[0mx\u001b[0m \u001b[0;34m=\u001b[0m \u001b[0;34m\"Hello world\"\u001b[0m\u001b[0;34m\u001b[0m\u001b[0;34m\u001b[0m\u001b[0m\n\u001b[1;32m      2\u001b[0m \u001b[0;34m\u001b[0m\u001b[0m\n\u001b[0;32m----> 3\u001b[0;31m \u001b[0mgreet\u001b[0m \u001b[0;34m=\u001b[0m \u001b[0mx\u001b[0m\u001b[0;34m.\u001b[0m\u001b[0mtranslate\u001b[0m\u001b[0;34m(\u001b[0m\u001b[0;34m)\u001b[0m\u001b[0;34m\u001b[0m\u001b[0;34m\u001b[0m\u001b[0m\n\u001b[0m\u001b[1;32m      4\u001b[0m \u001b[0;34m\u001b[0m\u001b[0m\n\u001b[1;32m      5\u001b[0m \u001b[0mprint\u001b[0m\u001b[0;34m(\u001b[0m\u001b[0mgreet\u001b[0m\u001b[0;34m)\u001b[0m\u001b[0;34m\u001b[0m\u001b[0;34m\u001b[0m\u001b[0m\n",
      "\u001b[0;31mTypeError\u001b[0m: translate() takes exactly one argument (0 given)"
     ]
    }
   ],
   "source": [
    "x = \"Hello world\"\n",
    "\n",
    "greet = x.translate()\n",
    "\n",
    "print(greet)"
   ]
  }
 ],
 "metadata": {
  "kernelspec": {
   "display_name": "Python 3",
   "language": "python",
   "name": "python3"
  },
  "language_info": {
   "codemirror_mode": {
    "name": "ipython",
    "version": 3
   },
   "file_extension": ".py",
   "mimetype": "text/x-python",
   "name": "python",
   "nbconvert_exporter": "python",
   "pygments_lexer": "ipython3",
   "version": "3.7.6"
  }
 },
 "nbformat": 4,
 "nbformat_minor": 4
}
