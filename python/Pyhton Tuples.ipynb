{
 "cells": [
  {
   "cell_type": "markdown",
   "metadata": {},
   "source": [
    " # Tuples\n",
    " \n",
    " A tuple is a collection which is ordered and <span style=\"color:red\">UN-changeable</span>. In Python tuples are written with round brackets.\n",
    " "
   ]
  },
  {
   "cell_type": "code",
   "execution_count": 1,
   "metadata": {},
   "outputs": [
    {
     "name": "stdout",
     "output_type": "stream",
     "text": [
      "('apple', 'banana', 'cherry')\n"
     ]
    }
   ],
   "source": [
    "thisTuple = (\"apple\",\"banana\",\"cherry\")\n",
    "\n",
    "print(thisTuple)"
   ]
  },
  {
   "cell_type": "markdown",
   "metadata": {},
   "source": [
    "Now lets make some attempts in changing this lame ass tuple"
   ]
  },
  {
   "cell_type": "code",
   "execution_count": 14,
   "metadata": {},
   "outputs": [
    {
     "ename": "TypeError",
     "evalue": "'tuple' object does not support item assignment",
     "output_type": "error",
     "traceback": [
      "\u001b[0;31m---------------------------------------------------------------------------\u001b[0m",
      "\u001b[0;31mTypeError\u001b[0m                                 Traceback (most recent call last)",
      "\u001b[0;32m<ipython-input-14-f96b5e596862>\u001b[0m in \u001b[0;36m<module>\u001b[0;34m\u001b[0m\n\u001b[1;32m      1\u001b[0m \u001b[0mthisTuple\u001b[0m \u001b[0;34m=\u001b[0m \u001b[0;34m(\u001b[0m\u001b[0;34m\"apple\"\u001b[0m\u001b[0;34m,\u001b[0m\u001b[0;34m\"grapes\"\u001b[0m\u001b[0;34m,\u001b[0m\u001b[0;34m\"cherry\"\u001b[0m\u001b[0;34m)\u001b[0m\u001b[0;34m\u001b[0m\u001b[0;34m\u001b[0m\u001b[0m\n\u001b[1;32m      2\u001b[0m \u001b[0;34m\u001b[0m\u001b[0m\n\u001b[0;32m----> 3\u001b[0;31m \u001b[0mthisTuple\u001b[0m\u001b[0;34m[\u001b[0m\u001b[0;36m0\u001b[0m\u001b[0;34m]\u001b[0m \u001b[0;34m=\u001b[0m \u001b[0;34m\"tampons\"\u001b[0m\u001b[0;34m\u001b[0m\u001b[0;34m\u001b[0m\u001b[0m\n\u001b[0m\u001b[1;32m      4\u001b[0m \u001b[0;34m\u001b[0m\u001b[0m\n\u001b[1;32m      5\u001b[0m \u001b[0mprint\u001b[0m\u001b[0;34m(\u001b[0m\u001b[0mthisTuple\u001b[0m\u001b[0;34m)\u001b[0m\u001b[0;34m\u001b[0m\u001b[0;34m\u001b[0m\u001b[0m\n",
      "\u001b[0;31mTypeError\u001b[0m: 'tuple' object does not support item assignment"
     ]
    }
   ],
   "source": [
    "thisTuple = (\"apple\",\"grapes\",\"cherry\")\n",
    "\n",
    "thisTuple[0] = \"tampons\" \n",
    "\n",
    "print(thisTuple)"
   ]
  },
  {
   "cell_type": "code",
   "execution_count": 11,
   "metadata": {},
   "outputs": [
    {
     "ename": "AttributeError",
     "evalue": "'tuple' object has no attribute 'pop'",
     "output_type": "error",
     "traceback": [
      "\u001b[0;31m---------------------------------------------------------------------------\u001b[0m",
      "\u001b[0;31mAttributeError\u001b[0m                            Traceback (most recent call last)",
      "\u001b[0;32m<ipython-input-11-aeab69abcd0e>\u001b[0m in \u001b[0;36m<module>\u001b[0;34m\u001b[0m\n\u001b[1;32m      1\u001b[0m \u001b[0mthisTuple\u001b[0m \u001b[0;34m=\u001b[0m \u001b[0;34m(\u001b[0m\u001b[0;34m\"grapes\"\u001b[0m\u001b[0;34m,\u001b[0m\u001b[0;34m\"cherries\"\u001b[0m\u001b[0;34m,\u001b[0m\u001b[0;34m\"apples\"\u001b[0m\u001b[0;34m)\u001b[0m\u001b[0;34m\u001b[0m\u001b[0;34m\u001b[0m\u001b[0m\n\u001b[1;32m      2\u001b[0m \u001b[0;34m\u001b[0m\u001b[0m\n\u001b[0;32m----> 3\u001b[0;31m \u001b[0mthisTuple\u001b[0m\u001b[0;34m.\u001b[0m\u001b[0mpop\u001b[0m\u001b[0;34m(\u001b[0m\u001b[0;36m0\u001b[0m\u001b[0;34m)\u001b[0m\u001b[0;34m\u001b[0m\u001b[0;34m\u001b[0m\u001b[0m\n\u001b[0m\u001b[1;32m      4\u001b[0m \u001b[0;34m\u001b[0m\u001b[0m\n\u001b[1;32m      5\u001b[0m \u001b[0mprint\u001b[0m\u001b[0;34m(\u001b[0m\u001b[0mthisTuple\u001b[0m\u001b[0;34m)\u001b[0m\u001b[0;34m\u001b[0m\u001b[0;34m\u001b[0m\u001b[0m\n",
      "\u001b[0;31mAttributeError\u001b[0m: 'tuple' object has no attribute 'pop'"
     ]
    }
   ],
   "source": [
    "thisTuple = (\"grapes\",\"cherries\",\"apples\")\n",
    "\n",
    "thisTuple.pop(0)\n",
    "\n",
    "print(thisTuple)"
   ]
  },
  {
   "cell_type": "markdown",
   "metadata": {},
   "source": [
    "####  Access Tuple Items \n",
    "\n",
    "You can access tuple items by referring to the inside number, inside square brackets."
   ]
  },
  {
   "cell_type": "code",
   "execution_count": 15,
   "metadata": {},
   "outputs": [
    {
     "name": "stdout",
     "output_type": "stream",
     "text": [
      "grapes\n"
     ]
    }
   ],
   "source": [
    "thisTuple = (\"apple\",\"grapes\",\"cherry\")\n",
    "\n",
    "print(thisTuple[1])"
   ]
  },
  {
   "cell_type": "markdown",
   "metadata": {},
   "source": [
    "### Negative Indexing\n",
    "\n",
    "Negative indexing means beginning from the end, -1 refers to the last item, -2 refers to the second last item etc. "
   ]
  },
  {
   "cell_type": "code",
   "execution_count": 22,
   "metadata": {},
   "outputs": [
    {
     "name": "stdout",
     "output_type": "stream",
     "text": [
      "jake\n"
     ]
    }
   ],
   "source": [
    "thisTuple = (\"shannon\",\"alex\",\"monica\",\"jake\")\n",
    "\n",
    "print(thisTuple[-1])"
   ]
  },
  {
   "cell_type": "markdown",
   "metadata": {},
   "source": [
    "### Change Tuple Values\n",
    "\n",
    "Once a Tuple is created, you cannot change its values. Tuples are UNCHANGEABLE, or as some might refer to it as IMMUTABLE. \n",
    "\n",
    "BUT BUT BUT BUT There is a workaround. You can convert the tuple into a list, change the list, and convert the list back into a tuple. "
   ]
  },
  {
   "cell_type": "code",
   "execution_count": 46,
   "metadata": {},
   "outputs": [
    {
     "name": "stdout",
     "output_type": "stream",
     "text": [
      "('carrots', 'cherry')\n"
     ]
    }
   ],
   "source": [
    "z = (\"apple\",\"carrots\",\"cherry\") # Here is are OG Tuple\n",
    "x = list(z) # We are using the list() method\n",
    "x.pop(0) # We now pop off the item from INDEX position 0 \n",
    "z = tuple(x) # Once we have perfomed the needed changes we then change our list back into a tuple\n",
    "\n",
    "print(z)"
   ]
  },
  {
   "cell_type": "markdown",
   "metadata": {},
   "source": [
    "#### Loop Through a Tuple\n",
    "\n",
    "You can loop through a tuple items by using a (for) loop"
   ]
  },
  {
   "cell_type": "code",
   "execution_count": 48,
   "metadata": {},
   "outputs": [
    {
     "name": "stdout",
     "output_type": "stream",
     "text": [
      "('apple', 'banana', 'cherry')\n",
      "('apple', 'banana', 'cherry')\n",
      "('apple', 'banana', 'cherry')\n"
     ]
    }
   ],
   "source": [
    "thistuple = (\"apple\",\"banana\",\"cherry\")\n",
    "for x in thistuple:\n",
    "    print(thistuple)"
   ]
  },
  {
   "cell_type": "markdown",
   "metadata": {},
   "source": [
    "### Tuple Length \n",
    "\n",
    "To determine how many items a tuple hasm use the len() method"
   ]
  },
  {
   "cell_type": "code",
   "execution_count": 49,
   "metadata": {},
   "outputs": [
    {
     "name": "stdout",
     "output_type": "stream",
     "text": [
      "3\n"
     ]
    }
   ],
   "source": [
    "thisTuple = (\"apple\", \"banana\",\"cherry\")\n",
    "\n",
    "print(len(thisTuple))"
   ]
  },
  {
   "cell_type": "markdown",
   "metadata": {},
   "source": [
    "### Add Items\n",
    "\n",
    "Once a tuple is created, you cannot add items to it. Tuples are UNCHANGEABLE"
   ]
  },
  {
   "cell_type": "code",
   "execution_count": 57,
   "metadata": {},
   "outputs": [
    {
     "name": "stdout",
     "output_type": "stream",
     "text": [
      "('zoey', 'allison', 'naomi', 'fran')\n"
     ]
    }
   ],
   "source": [
    "myTuple = (\"jake\",\"allison\",\"naomi\",\"fran\")\n",
    "x = list(myTuple)\n",
    "x[0] = \"zoey\"\n",
    "myTuple = tuple(x)\n",
    "\n",
    "print(myTuple)"
   ]
  },
  {
   "cell_type": "markdown",
   "metadata": {},
   "source": [
    "### Create Tuple With One Item\n",
    "\n",
    "To create a tuple with only one item, you have to add a comma after the one item, otherwise Python will not recognize the Tuple."
   ]
  },
  {
   "cell_type": "code",
   "execution_count": 64,
   "metadata": {},
   "outputs": [
    {
     "name": "stdout",
     "output_type": "stream",
     "text": [
      "Edgar\n",
      "<class 'str'>\n",
      "('Edgar',)\n",
      "<class 'tuple'>\n"
     ]
    }
   ],
   "source": [
    "willNotWork = (\"Edgar\") # NOTE: that when you do not include a COMMA (,) after the Tuple item, you wil end up with a string\n",
    "\n",
    "print(willNotWork) # will print out as a string\n",
    "print(type(willNotWork))\n",
    "\n",
    "willWork = (\"Edgar\",) # Will print out as a Tuple \n",
    "\n",
    "print(willWork)\n",
    "print(type(willWork))"
   ]
  },
  {
   "cell_type": "markdown",
   "metadata": {},
   "source": [
    "### You cannot remove items from a Tuple\n",
    "\n",
    "Remember that Tuple are UNCHANGEABLE! Unless they is a list "
   ]
  },
  {
   "cell_type": "code",
   "execution_count": 67,
   "metadata": {},
   "outputs": [
    {
     "ename": "AttributeError",
     "evalue": "'tuple' object has no attribute 'remove'",
     "output_type": "error",
     "traceback": [
      "\u001b[0;31m---------------------------------------------------------------------------\u001b[0m",
      "\u001b[0;31mAttributeError\u001b[0m                            Traceback (most recent call last)",
      "\u001b[0;32m<ipython-input-67-724b53eb5111>\u001b[0m in \u001b[0;36m<module>\u001b[0;34m\u001b[0m\n\u001b[1;32m      1\u001b[0m \u001b[0mthisTuple\u001b[0m \u001b[0;34m=\u001b[0m \u001b[0;34m(\u001b[0m\u001b[0;34m\"apple\"\u001b[0m\u001b[0;34m,\u001b[0m\u001b[0;34m\"bananas\"\u001b[0m\u001b[0;34m,\u001b[0m\u001b[0;34m\"cherry\"\u001b[0m\u001b[0;34m)\u001b[0m\u001b[0;34m\u001b[0m\u001b[0;34m\u001b[0m\u001b[0m\n\u001b[1;32m      2\u001b[0m \u001b[0;34m\u001b[0m\u001b[0m\n\u001b[0;32m----> 3\u001b[0;31m \u001b[0mthisTuple\u001b[0m\u001b[0;34m.\u001b[0m\u001b[0mremove\u001b[0m\u001b[0;34m(\u001b[0m\u001b[0;34m\"apple\"\u001b[0m\u001b[0;34m)\u001b[0m\u001b[0;34m\u001b[0m\u001b[0;34m\u001b[0m\u001b[0m\n\u001b[0m\u001b[1;32m      4\u001b[0m \u001b[0;34m\u001b[0m\u001b[0m\n\u001b[1;32m      5\u001b[0m \u001b[0mprint\u001b[0m\u001b[0;34m(\u001b[0m\u001b[0mthisTuple\u001b[0m\u001b[0;34m)\u001b[0m\u001b[0;34m\u001b[0m\u001b[0;34m\u001b[0m\u001b[0m\n",
      "\u001b[0;31mAttributeError\u001b[0m: 'tuple' object has no attribute 'remove'"
     ]
    }
   ],
   "source": [
    "thisTuple = (\"apple\",\"bananas\",\"cherry\")\n",
    "\n",
    "thisTuple.remove(\"apple\")\n",
    "\n",
    "print(thisTuple)"
   ]
  },
  {
   "cell_type": "markdown",
   "metadata": {},
   "source": [
    "Lets go ahead and change a tuple to a list so that we may remove an item. "
   ]
  },
  {
   "cell_type": "code",
   "execution_count": 72,
   "metadata": {},
   "outputs": [
    {
     "name": "stdout",
     "output_type": "stream",
     "text": [
      "('Brazil', 'San Francisco', 'Los Angeles', 'Portland', 'Washington')\n",
      "<class 'tuple'>\n"
     ]
    }
   ],
   "source": [
    "myTuple = (\"Brazil\",\"San Francisco\",\"Los Angeles\",\"Portland\",\"Washington\",\"Hong Kong\")\n",
    "x = list(myTuple)\n",
    "x.remove(\"Hong Kong\")\n",
    "myTuple = tuple(x)\n",
    "\n",
    "print(myTuple)\n",
    "print(type(myTuple))"
   ]
  },
  {
   "cell_type": "markdown",
   "metadata": {},
   "source": [
    "### Join Two Tuples\n",
    "\n",
    "To join two or more tuples you can use th (+) operators"
   ]
  },
  {
   "cell_type": "code",
   "execution_count": 74,
   "metadata": {},
   "outputs": [
    {
     "name": "stdout",
     "output_type": "stream",
     "text": [
      "('danny', 'alex', 'shane', 'Nick', 'allison', 'greg', 'meg')\n"
     ]
    }
   ],
   "source": [
    "tupleOne = (\"danny\",\"alex\",\"shane\",\"Nick\")\n",
    "tupleTwo = (\"allison\",\"greg\",\"meg\")\n",
    "friendsList = tupleOne + tupleTwo \n",
    "\n",
    "print(friendsList)"
   ]
  },
  {
   "cell_type": "markdown",
   "metadata": {},
   "source": [
    "### The tuple() Constructor \n",
    "\n",
    "It is also possible ti use the tuple constructor to make a tuple. "
   ]
  },
  {
   "cell_type": "code",
   "execution_count": 93,
   "metadata": {},
   "outputs": [
    {
     "name": "stdout",
     "output_type": "stream",
     "text": [
      "('Med', 'Keg', 'Ned')\n",
      "<class 'tuple'>\n"
     ]
    }
   ],
   "source": [
    "thisTuple = tuple((\"Med\",\"Keg\",\"Ned\"))\n",
    "\n",
    "print(thisTuple)\n",
    "print(type(thisTuple))"
   ]
  },
  {
   "cell_type": "markdown",
   "metadata": {},
   "source": [
    "This bottom example is just of a (List) being changed to a (Tuple) "
   ]
  },
  {
   "cell_type": "code",
   "execution_count": 89,
   "metadata": {},
   "outputs": [
    {
     "name": "stdout",
     "output_type": "stream",
     "text": [
      "('Danny', 'Alex', 'Tom')\n",
      "<class 'tuple'>\n"
     ]
    }
   ],
   "source": [
    "thisList = [\"Danny\",\"Alex\",\"Tom\"]\n",
    "thisTuple = tuple(thisList)\n",
    "\n",
    "print(thisTuple)\n",
    "print(type(thisTuple))"
   ]
  },
  {
   "cell_type": "code",
   "execution_count": 94,
   "metadata": {},
   "outputs": [
    {
     "name": "stdout",
     "output_type": "stream",
     "text": [
      "('cherry', 'orange', 'kiwi')\n"
     ]
    }
   ],
   "source": [
    "fruits = (\"apple\", \"banana\", \"cherry\", \"orange\", \"kiwi\", \"melon\", \"mango\")\n",
    "\n",
    "print(fruits[2:5])"
   ]
  },
  {
   "cell_type": "markdown",
   "metadata": {},
   "source": [
    "### Dont forget about other methods being used within Tuples \n",
    "\n",
    "Python has two built-in methods that you can use on Tuples"
   ]
  },
  {
   "cell_type": "markdown",
   "metadata": {},
   "source": [
    "### count() \n",
    "Returns the number of times a specified value occurs in a tuple"
   ]
  },
  {
   "cell_type": "code",
   "execution_count": 101,
   "metadata": {},
   "outputs": [
    {
     "name": "stdout",
     "output_type": "stream",
     "text": [
      "5\n"
     ]
    }
   ],
   "source": [
    "thisTuple = (\"243\",\"23\",\"345\",\"22\",\"3\",\"23\",\"4\",\"3\",\"3\",\"23\",\"3\",\"22\",\"45\",\"3\",\"34212\",\"44\")\n",
    "\n",
    "print(thisTuple.count(\"3\")) # This will print out the number of times that 3 will be used in a string"
   ]
  },
  {
   "cell_type": "markdown",
   "metadata": {},
   "source": [
    "### index()\n",
    "\n",
    "Searches the tuple for a specified value and returns the position of where it was found"
   ]
  },
  {
   "cell_type": "code",
   "execution_count": 104,
   "metadata": {},
   "outputs": [
    {
     "name": "stdout",
     "output_type": "stream",
     "text": [
      "3\n"
     ]
    }
   ],
   "source": [
    "thisTuple = (\"243\",\"23\",\"345\",\"π\",\"3\",\"23\",\"4\",\"3\",\"3\",\"23\",\"3\",\"22\",\"45\",\"3\",\"34212\",\"44\")\n",
    "\n",
    "print(thisTuple.index(\"π\")) ## The index method will be used to locate π, which is in indexe location 3"
   ]
  }
 ],
 "metadata": {
  "kernelspec": {
   "display_name": "Python 3",
   "language": "python",
   "name": "python3"
  },
  "language_info": {
   "codemirror_mode": {
    "name": "ipython",
    "version": 3
   },
   "file_extension": ".py",
   "mimetype": "text/x-python",
   "name": "python",
   "nbconvert_exporter": "python",
   "pygments_lexer": "ipython3",
   "version": "3.7.6"
  }
 },
 "nbformat": 4,
 "nbformat_minor": 4
}
