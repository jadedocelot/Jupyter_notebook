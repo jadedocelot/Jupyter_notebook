{
 "cells": [
  {
   "cell_type": "markdown",
   "metadata": {},
   "source": [
    "# Python Collections (Arrays) \n",
    "\n",
    "There are four collection data types in the Python programming language:"
   ]
  },
  {
   "cell_type": "markdown",
   "metadata": {},
   "source": [
    "###  List: is a collection which is ordered. and changeable. Allows duplicate members"
   ]
  },
  {
   "cell_type": "markdown",
   "metadata": {},
   "source": [
    "### Tuple: is a collection which is ordered and unchageable. Allows duplicate members. "
   ]
  },
  {
   "cell_type": "markdown",
   "metadata": {},
   "source": [
    "### Set: is a collection which is unordered and unindexed. No duplicate members."
   ]
  },
  {
   "cell_type": "markdown",
   "metadata": {},
   "source": [
    "### Dictionary: is a collection which is unordered, changeable and indexed. No duplicates"
   ]
  },
  {
   "cell_type": "markdown",
   "metadata": {},
   "source": [
    "## <span style=\"color:Red\">NOTE: When choosing a collection type, it is useful to understand properties of that type. Choosing the right type for a particular data set could mean retention of meaning, and, it could mean an increase in efficiency or security.</span>"
   ]
  },
  {
   "cell_type": "markdown",
   "metadata": {},
   "source": [
    "### List "
   ]
  },
  {
   "cell_type": "markdown",
   "metadata": {},
   "source": [
    "A list is a collection which is ordered and changeable. In Python lists are written with square brackets [     ] ."
   ]
  },
  {
   "cell_type": "code",
   "execution_count": 1,
   "metadata": {},
   "outputs": [
    {
     "name": "stdout",
     "output_type": "stream",
     "text": [
      "['apples', 'grapes', 'bananas', 'paper']\n"
     ]
    }
   ],
   "source": [
    "shoppingList = [\"apples\", \"grapes\", \"bananas\", \"paper\"]\n",
    "\n",
    "print(shoppingList)"
   ]
  },
  {
   "cell_type": "markdown",
   "metadata": {},
   "source": [
    "You can access the list items by referring to the index number: "
   ]
  },
  {
   "cell_type": "code",
   "execution_count": 3,
   "metadata": {},
   "outputs": [
    {
     "name": "stdout",
     "output_type": "stream",
     "text": [
      "bananas\n"
     ]
    }
   ],
   "source": [
    "shoppingList = [\"apples\", \"grapes\", \"bananas\", \"paper\"]\n",
    "\n",
    "print(shoppingList[2]) # Banana is # 2 in the lists index  "
   ]
  },
  {
   "cell_type": "markdown",
   "metadata": {},
   "source": [
    "### Negative Indexing\n",
    "\n",
    "Negative indexing means beginning from the end -1 refers to the last item, -2 refers to the second last item etc. "
   ]
  },
  {
   "cell_type": "code",
   "execution_count": 9,
   "metadata": {},
   "outputs": [
    {
     "name": "stdout",
     "output_type": "stream",
     "text": [
      "apples\n"
     ]
    }
   ],
   "source": [
    "shoppingList = [\"apples\", \"grapes\", \"bananas\", \"paper\"]\n",
    "\n",
    "print(shoppingList[-4])"
   ]
  },
  {
   "cell_type": "code",
   "execution_count": 28,
   "metadata": {},
   "outputs": [
    {
     "name": "stdout",
     "output_type": "stream",
     "text": [
      "apples\n"
     ]
    }
   ],
   "source": [
    "shoppingList = [\"apples\", \"grapes\", \"bananas\", \"paper\"]\n",
    "\n",
    "print(shoppingList[-4])"
   ]
  },
  {
   "cell_type": "markdown",
   "metadata": {},
   "source": [
    "#### Range of Indexing\n",
    "\n",
    "You can specify a range of indexes by specifiying where to start and where to end the range. \n",
    "\n",
    "When specifying a range, the return value will be a new list with the specified items."
   ]
  },
  {
   "cell_type": "code",
   "execution_count": 34,
   "metadata": {},
   "outputs": [
    {
     "name": "stdout",
     "output_type": "stream",
     "text": [
      "['carrots', 'lettuce', 'milk', 'beef']\n"
     ]
    }
   ],
   "source": [
    "monicasList = [\"apples\", \"carrots\", \"lettuce\", \"milk\", \"beef\"]\n",
    "\n",
    "edgartsList = monicasList[1:5] # New list has been stored in edgarsList\n",
    "\n",
    "print(edgartsList) # output new list: \"carrots\", \"lettuce\", \"milk\", \"beef\""
   ]
  },
  {
   "cell_type": "code",
   "execution_count": 41,
   "metadata": {},
   "outputs": [
    {
     "name": "stdout",
     "output_type": "stream",
     "text": [
      "['milk', 'beef']\n"
     ]
    }
   ],
   "source": [
    "monicasList = [\"apples\", \"carrots\", \"lettuce\", \"milk\", \"beef\"]\n",
    "\n",
    "edgartsList = monicasList[3:] # by placing an index number on the on the LEFT side of the (:) you will start at that position and continue on to the RIGHT side  \n",
    "\n",
    "print(edgartsList) #output: \"milk\",\"beef\""
   ]
  },
  {
   "cell_type": "code",
   "execution_count": 40,
   "metadata": {},
   "outputs": [
    {
     "name": "stdout",
     "output_type": "stream",
     "text": [
      "['apples', 'carrots', 'lettuce']\n"
     ]
    }
   ],
   "source": [
    "monicasList = [\"apples\", \"carrots\", \"lettuce\", \"milk\", \"beef\"]\n",
    "\n",
    "edgartsList = monicasList[:3] # by placing an index number on the on the RIGHT side of the (:) you will start at that position and continue on to the LEFT side  \n",
    "\n",
    "print(edgartsList) #output: \"milk\",\"beef\""
   ]
  },
  {
   "cell_type": "markdown",
   "metadata": {},
   "source": [
    "### Range of Negative Indexes \n",
    "\n",
    "This example returns the items from index -4(included) to index - 1(excluded) "
   ]
  },
  {
   "cell_type": "code",
   "execution_count": 54,
   "metadata": {},
   "outputs": [
    {
     "name": "stdout",
     "output_type": "stream",
     "text": [
      "['carrots', 'lettuce', 'milk']\n"
     ]
    }
   ],
   "source": [
    "monicasList = [\"apples\", \"carrots\", \"lettuce\", \"milk\", \"beef\"]\n",
    "\n",
    "edgartsList = monicasList[-4:-1]\n",
    "\n",
    "print(edgartsList)# OUTPUT: carrots,lettuce, milk "
   ]
  },
  {
   "cell_type": "markdown",
   "metadata": {},
   "source": [
    "### Change item value \n",
    "\n",
    "To change the value of a specific item, refer to the index number: "
   ]
  },
  {
   "cell_type": "code",
   "execution_count": 56,
   "metadata": {},
   "outputs": [
    {
     "name": "stdout",
     "output_type": "stream",
     "text": [
      "['mangos', 'carrots', 'lettuce', 'milk', 'beef']\n"
     ]
    }
   ],
   "source": [
    "monicasList = [\"apples\", \"carrots\", \"lettuce\", \"milk\", \"beef\"]\n",
    "\n",
    "monicasList[0] = \"mangos\"\n",
    "\n",
    "print(monicasList)"
   ]
  },
  {
   "cell_type": "markdown",
   "metadata": {},
   "source": [
    "# Loop through a list\n",
    "you can loop through the list items by using a (FOR) loop"
   ]
  },
  {
   "cell_type": "code",
   "execution_count": 60,
   "metadata": {},
   "outputs": [
    {
     "name": "stdout",
     "output_type": "stream",
     "text": [
      "apples\n",
      "carrots\n",
      "lettuce\n",
      "milk\n",
      "beef\n"
     ]
    }
   ],
   "source": [
    "monicasList = [\"apples\", \"carrots\", \"lettuce\", \"milk\", \"beef\"] \n",
    "for x in monicasList:\n",
    "    print(x)"
   ]
  },
  {
   "cell_type": "markdown",
   "metadata": {},
   "source": [
    "## Check if Item Exists\n",
    "\n",
    "To determine if a specified item is present a list use in keyword "
   ]
  },
  {
   "cell_type": "code",
   "execution_count": 61,
   "metadata": {},
   "outputs": [
    {
     "name": "stdout",
     "output_type": "stream",
     "text": [
      "YES AGAR! I put it on the list\n"
     ]
    }
   ],
   "source": [
    "monicasList = [\"mangos\", \"carrots\", \"lettuce\", \"milk\", \"beef\"] \n",
    "\n",
    "if \"lettuce\" in monicasList: \n",
    "    print(\"YES AGAR! I put it on the list\")"
   ]
  },
  {
   "cell_type": "markdown",
   "metadata": {},
   "source": [
    "## List Length\n",
    "\n",
    "Tod determine how many items a list has, use the len() function: "
   ]
  },
  {
   "cell_type": "code",
   "execution_count": 62,
   "metadata": {},
   "outputs": [
    {
     "name": "stdout",
     "output_type": "stream",
     "text": [
      "5\n"
     ]
    }
   ],
   "source": [
    "monicasList = [\"mangos\", \"carrots\", \"lettuce\", \"milk\", \"beef\"] \n",
    "print(len(monicasList))"
   ]
  },
  {
   "cell_type": "markdown",
   "metadata": {},
   "source": [
    "## ADD items\n",
    "\n",
    "To add items to the end of the list, use the append() method:"
   ]
  },
  {
   "cell_type": "code",
   "execution_count": 63,
   "metadata": {},
   "outputs": [
    {
     "name": "stdout",
     "output_type": "stream",
     "text": [
      "['mangos', 'grapes', 'lettuce', 'milk', 'beef', 'cranberry juice']\n"
     ]
    }
   ],
   "source": [
    "monicasList = [\"mangos\", \"carrots\", \"lettuce\", \"milk\", \"beef\"] \n",
    "monicasList[1] = \"grapes\"\n",
    "monicasList.append(\"cranberry juice\")\n",
    "\n",
    "print(monicasList)"
   ]
  },
  {
   "cell_type": "markdown",
   "metadata": {},
   "source": [
    "### To add an item at the specified index, use the insert() method:"
   ]
  },
  {
   "cell_type": "code",
   "execution_count": 64,
   "metadata": {},
   "outputs": [
    {
     "name": "stdout",
     "output_type": "stream",
     "text": [
      "['mangos', 'pickled carrots', 'carrots', 'lettuce', 'milk', 'beef']\n"
     ]
    }
   ],
   "source": [
    "monicasList = [\"mangos\", \"carrots\", \"lettuce\", \"milk\", \"beef\"] \n",
    "monicasList.insert(1, \"pickled carrots\")\n",
    "\n",
    "print(monicasList)"
   ]
  },
  {
   "cell_type": "markdown",
   "metadata": {},
   "source": [
    "### Remove Item\n",
    "\n",
    "There are several methods to remove items from a list: "
   ]
  },
  {
   "cell_type": "markdown",
   "metadata": {},
   "source": [
    "### pop()\n",
    "\n",
    "The pop() method removes the specified indexm (or the last item if index is not specified)"
   ]
  },
  {
   "cell_type": "code",
   "execution_count": 68,
   "metadata": {},
   "outputs": [
    {
     "name": "stdout",
     "output_type": "stream",
     "text": [
      "['mangos', 'carrots', 'lettuce', 'beef']\n"
     ]
    }
   ],
   "source": [
    "monicasList = [\"mangos\", \"carrots\", \"lettuce\", \"milk\", \"beef\"] \n",
    "monicasList.pop(3) # We have used the remove() method to remove milk from the list\n",
    "\n",
    "print(monicasList) # output: mangos, carrots, lettuce, beef"
   ]
  },
  {
   "cell_type": "markdown",
   "metadata": {},
   "source": [
    "### remove()\n",
    "The remove() method removes the specified item: "
   ]
  },
  {
   "cell_type": "code",
   "execution_count": 70,
   "metadata": {},
   "outputs": [
    {
     "name": "stdout",
     "output_type": "stream",
     "text": [
      "['mangos', 'carrots', 'lettuce', 'beef']\n"
     ]
    }
   ],
   "source": [
    "monicasList = [\"mangos\", \"carrots\", \"lettuce\", \"milk\", \"beef\"] \n",
    "monicasList.remove(\"milk\") # We have used the remove() method to remove milk from the list\n",
    "\n",
    "print(monicasList) # output: mangos, carrots, lettuce, beef"
   ]
  },
  {
   "cell_type": "markdown",
   "metadata": {},
   "source": [
    "### the (del) keyword removes the specified index:"
   ]
  },
  {
   "cell_type": "code",
   "execution_count": 3,
   "metadata": {},
   "outputs": [
    {
     "name": "stdout",
     "output_type": "stream",
     "text": [
      "['mangos', 'carrots', 'lettuce', 'milk']\n"
     ]
    }
   ],
   "source": [
    "monicasList = [\"mangos\", \"carrots\", \"lettuce\", \"milk\", \"beef\"] \n",
    "\n",
    "del monicasList[4]\n",
    "\n",
    "print(monicasList)"
   ]
  },
  {
   "cell_type": "markdown",
   "metadata": {},
   "source": [
    "### Clear()\n",
    "the clear method empties the list: "
   ]
  },
  {
   "cell_type": "code",
   "execution_count": 73,
   "metadata": {},
   "outputs": [
    {
     "name": "stdout",
     "output_type": "stream",
     "text": [
      "[]\n"
     ]
    }
   ],
   "source": [
    "monicasList = [\"mangos\", \"carrots\", \"lettuce\", \"milk\", \"beef\"]\n",
    "monicasList.clear()\n",
    "\n",
    "print(monicasList)"
   ]
  },
  {
   "cell_type": "markdown",
   "metadata": {},
   "source": [
    "### Copy a List\n",
    "\n",
    "    You cannot copy a list simply by typing list2 = list1, because list2 will only be reference to list1, and changes made in list1 will automatically also be made in list2"
   ]
  },
  {
   "cell_type": "code",
   "execution_count": 6,
   "metadata": {},
   "outputs": [
    {
     "name": "stdout",
     "output_type": "stream",
     "text": [
      "['Mac', 'Linux', 'Windows']\n"
     ]
    }
   ],
   "source": [
    "myList = [\"Mac\", \"Linux\",\"Windows\"]\n",
    "machineList = myList.copy()\n",
    "\n",
    "print(machineList)"
   ]
  },
  {
   "cell_type": "markdown",
   "metadata": {},
   "source": [
    "#### Another way to make a copy of a list is to use the following built-in method list()"
   ]
  },
  {
   "cell_type": "code",
   "execution_count": 7,
   "metadata": {},
   "outputs": [
    {
     "name": "stdout",
     "output_type": "stream",
     "text": [
      "['openSuse', 'IOS', 'Cinnamon']\n"
     ]
    }
   ],
   "source": [
    "myList = [\"openSuse\",\"IOS\",\"Cinnamon\"]\n",
    "\n",
    "osList = list(myList)\n",
    "\n",
    "print(osList)"
   ]
  },
  {
   "cell_type": "markdown",
   "metadata": {},
   "source": [
    "#### One may also COMBINE lists, like so: "
   ]
  },
  {
   "cell_type": "code",
   "execution_count": 8,
   "metadata": {},
   "outputs": [
    {
     "name": "stdout",
     "output_type": "stream",
     "text": [
      "['Coffee', 'Music', 'Pizza', 'Hates Mondays', 'Green tea', 'Women']\n"
     ]
    }
   ],
   "source": [
    "listOne = [\"Coffee\",\"Music\",\"Pizza\"]\n",
    "listTwo = [\"Hates Mondays\",\"Green tea\",\"Women\"]\n",
    "fullList = listOne + listTwo \n",
    "\n",
    "print(fullList)"
   ]
  },
  {
   "cell_type": "markdown",
   "metadata": {},
   "source": [
    "#### Another way to join two lists are by appending all the items from list2 in list1, one by one"
   ]
  },
  {
   "cell_type": "code",
   "execution_count": 9,
   "metadata": {},
   "outputs": [
    {
     "name": "stdout",
     "output_type": "stream",
     "text": [
      "['apples', 'grapes', 'beets', 'bananas', 'bread', 'goldfish', 'mustard']\n"
     ]
    }
   ],
   "source": [
    "listOne = [\"apples\",\"grapes\",\"beets\"]\n",
    "listTwo = [\"bananas\", \"bread\",\"goldfish\",\"mustard\"]\n",
    "\n",
    "for x in listTwo:\n",
    "    listOne.append(x)\n",
    "    \n",
    "print(listOne)"
   ]
  },
  {
   "cell_type": "markdown",
   "metadata": {},
   "source": [
    "#### Or you can use the extend() method, which purpose is to add elements from one list to another "
   ]
  },
  {
   "cell_type": "code",
   "execution_count": 11,
   "metadata": {},
   "outputs": [
    {
     "name": "stdout",
     "output_type": "stream",
     "text": [
      "['apples', 'grapes', 'bread', 'pears', 'kombbucha', 'guacomole']\n"
     ]
    }
   ],
   "source": [
    "listOne = [\"apples\", \"grapes\", \"bread\"]\n",
    "listTwo = [\"pears\", \"kombbucha\",\"guacomole\"]\n",
    "\n",
    "listOne.extend(listTwo)\n",
    "\n",
    "print(listOne)"
   ]
  },
  {
   "cell_type": "markdown",
   "metadata": {},
   "source": [
    "### The list() Constructor\n",
    "\n",
    "It is also possible to use the list() constructor to make a new list."
   ]
  },
  {
   "cell_type": "code",
   "execution_count": 12,
   "metadata": {},
   "outputs": [
    {
     "name": "stdout",
     "output_type": "stream",
     "text": [
      "['apple', 'banana', 'cherry']\n"
     ]
    }
   ],
   "source": [
    "thisList = list((\"apple\",\"banana\",\"cherry\"))\n",
    "\n",
    "print(thisList)"
   ]
  },
  {
   "cell_type": "code",
   "execution_count": 31,
   "metadata": {},
   "outputs": [
    {
     "name": "stdout",
     "output_type": "stream",
     "text": [
      "['cherry', 'carrots', 'bread', 'cat', 'cheese']\n"
     ]
    }
   ],
   "source": [
    "thisList = [\"apples\",\"grapes\",\"cherry\",\"carrots\",\"bread\",\"cat\",\"cheese\"]\n",
    "\n",
    "print(thisList[-5:])"
   ]
  },
  {
   "cell_type": "code",
   "execution_count": null,
   "metadata": {},
   "outputs": [],
   "source": []
  },
  {
   "cell_type": "code",
   "execution_count": null,
   "metadata": {},
   "outputs": [],
   "source": []
  },
  {
   "cell_type": "code",
   "execution_count": null,
   "metadata": {},
   "outputs": [],
   "source": []
  },
  {
   "cell_type": "code",
   "execution_count": null,
   "metadata": {},
   "outputs": [],
   "source": []
  },
  {
   "cell_type": "code",
   "execution_count": null,
   "metadata": {},
   "outputs": [],
   "source": []
  },
  {
   "cell_type": "code",
   "execution_count": null,
   "metadata": {},
   "outputs": [],
   "source": []
  },
  {
   "cell_type": "code",
   "execution_count": null,
   "metadata": {},
   "outputs": [],
   "source": []
  },
  {
   "cell_type": "code",
   "execution_count": null,
   "metadata": {},
   "outputs": [],
   "source": []
  },
  {
   "cell_type": "code",
   "execution_count": null,
   "metadata": {},
   "outputs": [],
   "source": []
  },
  {
   "cell_type": "code",
   "execution_count": null,
   "metadata": {},
   "outputs": [],
   "source": []
  },
  {
   "cell_type": "code",
   "execution_count": null,
   "metadata": {},
   "outputs": [],
   "source": []
  }
 ],
 "metadata": {
  "kernelspec": {
   "display_name": "Python 3",
   "language": "python",
   "name": "python3"
  },
  "language_info": {
   "codemirror_mode": {
    "name": "ipython",
    "version": 3
   },
   "file_extension": ".py",
   "mimetype": "text/x-python",
   "name": "python",
   "nbconvert_exporter": "python",
   "pygments_lexer": "ipython3",
   "version": "3.7.6"
  }
 },
 "nbformat": 4,
 "nbformat_minor": 4
}
