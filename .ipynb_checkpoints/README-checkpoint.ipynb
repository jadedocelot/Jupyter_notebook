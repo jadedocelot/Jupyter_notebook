{
 "cells": [
  {
   "cell_type": "markdown",
   "metadata": {},
   "source": [
    "This notebook will record the step by step process of my (stressful) jouney to learning Python (and other programming langueges. with guidence soley from the internet, I have struggled with a learning most of my life as well as shameful stobborness that has occasionally led me to shooting myself in the foot (sorry, not sorry).These \"flaws\" have lead me to working jobs in which I had either quit or was fired from and let me tell you, I was fired from more jobs than quite, programming always being a low key passion of mine. Thinking that game development might be the path to go down, dabbeling with low level HTML and CSS, with jumping into a Hello World JS files it wasnt till recently I decided to seriously persue programming but not for game development, it was the persue of research that hooked me. A few months ago I saw a video of a an individual that goes by the pseudonym GEOHOTZ attempting to fold a protein using Pyhton, to me that video of the eccentric CEO of the self driving car company Comma AI came off as a true work of art. After watching that video I knew that computer programming laguages was what I wanted to work on the rest of my life, whether it was to better understand macine learning, compiler/language development or data mining I wanted in. I have spent the last month grinding through Python and JS pages/tests/videos (though the more JS I pick up the more I despise the the hideos langauge that is the back bone of all that are web pages). Python so far seems to be with im currently crooning over. Once a strong understanding of both langueges has been established I plan to dive into the following, C++, GO, RUST, HASKELL, COQ??, as well as data mining and machine learning. So without further adieu, I hope you enjoy the programming of a complete idiot. "
   ]
  },
  {
   "cell_type": "code",
   "execution_count": 1,
   "metadata": {},
   "outputs": [
    {
     "name": "stdout",
     "output_type": "stream",
     "text": [
      "Hello Jupyter!\n"
     ]
    }
   ],
   "source": [
    "print('Hello Jupyter!')"
   ]
  },
  {
   "cell_type": "code",
   "execution_count": null,
   "metadata": {},
   "outputs": [],
   "source": []
  }
 ],
 "metadata": {
  "kernelspec": {
   "display_name": "Python 3",
   "language": "python",
   "name": "python3"
  },
  "language_info": {
   "codemirror_mode": {
    "name": "ipython",
    "version": 3
   },
   "file_extension": ".py",
   "mimetype": "text/x-python",
   "name": "python",
   "nbconvert_exporter": "python",
   "pygments_lexer": "ipython3",
   "version": "3.7.6"
  }
 },
 "nbformat": 4,
 "nbformat_minor": 4
}
