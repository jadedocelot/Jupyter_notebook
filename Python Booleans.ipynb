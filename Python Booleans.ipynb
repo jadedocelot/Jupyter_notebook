{
 "cells": [
  {
   "cell_type": "markdown",
   "metadata": {},
   "source": [
    "# Boolean Values\n",
    "    - Booleans represent one of two values: True or False\n",
    "\n",
    "In programming you often need to know if an expression is True or False\n",
    "\n",
    "You can evalutate any expression in Python, and get one of two answers, True or False\n",
    "\n",
    "when you compare two values, the expression is evaluated and Python returns the Boolean"
   ]
  },
  {
   "cell_type": "code",
   "execution_count": 1,
   "metadata": {},
   "outputs": [
    {
     "name": "stdout",
     "output_type": "stream",
     "text": [
      "False\n"
     ]
    }
   ],
   "source": [
    "print(2 > 10) # 2 is NOT greater than 10 "
   ]
  },
  {
   "cell_type": "code",
   "execution_count": 4,
   "metadata": {},
   "outputs": [
    {
     "name": "stdout",
     "output_type": "stream",
     "text": [
      "True\n"
     ]
    }
   ],
   "source": [
    "print(2 < 13) # 2 is less than 13"
   ]
  },
  {
   "cell_type": "code",
   "execution_count": 3,
   "metadata": {},
   "outputs": [
    {
     "name": "stdout",
     "output_type": "stream",
     "text": [
      "False\n"
     ]
    }
   ],
   "source": [
    "print(5 == 10) # 5 is does not equal 10 "
   ]
  },
  {
   "cell_type": "code",
   "execution_count": 71,
   "metadata": {},
   "outputs": [
    {
     "name": "stdout",
     "output_type": "stream",
     "text": [
      "A is larger than B\n"
     ]
    }
   ],
   "source": [
    "a = 100\n",
    "b = 25\n",
    "\n",
    "def whichIsWhich():\n",
    "    if a > b:\n",
    "        print(\"A is larger than B\") # True\n",
    "    else: \n",
    "        print(\"A is smaller than B\") # False\n",
    "        \n",
    "whichIsWhich()"
   ]
  },
  {
   "cell_type": "markdown",
   "metadata": {},
   "source": [
    "# <span style=\"color:red\"> Guessing Game (which depends on True or False)</span>"
   ]
  },
  {
   "cell_type": "code",
   "execution_count": null,
   "metadata": {},
   "outputs": [],
   "source": [
    "age = 28\n",
    "switch = True \n",
    "import time \n",
    "\n",
    "while switch:\n",
    "    guess = int(input(\"Guess my age:\"))\n",
    "    if guess == age: \n",
    "        print(\"Congratulations, you guessed my age!\")\n",
    "        \n",
    "        switch = False\n",
    "        \n",
    "    elif guess < age: \n",
    "        print(\"No, I'm a bit older than that. \")\n",
    "        \n",
    "    else:\n",
    "        print(\"No, definitely younger than that my dude.\")\n",
    "else:\n",
    "    print(\"This loop will in...\")\n",
    "for i in range (1, 6):\n",
    "    print(i)\n",
    "    time.sleep(0.9)\n",
    "print(\"(fin)\")   "
   ]
  },
  {
   "cell_type": "markdown",
   "metadata": {},
   "source": [
    "### Evaluate Values and Variables \n",
    "\n",
    "The bool() functions allows you to evaluate any value, and give you True or False in return "
   ]
  },
  {
   "cell_type": "code",
   "execution_count": 72,
   "metadata": {},
   "outputs": [
    {
     "name": "stdout",
     "output_type": "stream",
     "text": [
      "True\n",
      "True\n"
     ]
    }
   ],
   "source": [
    "print(bool(\"Hello\"))\n",
    "\n",
    "print(bool(15))"
   ]
  }
 ],
 "metadata": {
  "kernelspec": {
   "display_name": "Python 3",
   "language": "python",
   "name": "python3"
  },
  "language_info": {
   "codemirror_mode": {
    "name": "ipython",
    "version": 3
   },
   "file_extension": ".py",
   "mimetype": "text/x-python",
   "name": "python",
   "nbconvert_exporter": "python",
   "pygments_lexer": "ipython3",
   "version": "3.7.6"
  }
 },
 "nbformat": 4,
 "nbformat_minor": 4
}
